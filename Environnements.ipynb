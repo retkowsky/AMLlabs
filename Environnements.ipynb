{
 "cells": [
  {
   "cell_type": "markdown",
   "metadata": {},
   "source": [
    "# Using environments with Azure ML\n",
    "\n",
    "\n",
    "## Introduction\n",
    "\n",
    "Azure ML environments are an encapsulation of the environment where your machine learning training happens. They define Python packages, environment variables, Docker settings and other attributes in declarative fashion. Environments are versioned: you can update them and retrieve old versions to revisit and review your work.\n",
    "\n",
    "Environments allow you to:\n",
    "* Encapsulate dependencies of your training process, such as Python packages and their versions.\n",
    "* Reproduce the Python environment on your local computer in a remote run on VM or ML Compute cluster\n",
    "* Reproduce your experimentation environment in production setting.\n",
    "* Revisit and audit the environment in which an existing model was trained.\n",
    "\n",
    "Environment, compute target and training script together form run configuration: the full specification of training run.\n",
    "\n",
    "## Setup\n",
    "\n",
    "If you are using an Azure Machine Learning Notebook VM, you are all set. Otherwise, make sure you go through the [configuration notebook](../../../configuration.ipynb) first if you haven't.\n",
    "\n",
    "First, let's validate Azure ML SDK version and connect to workspace."
   ]
  },
  {
   "cell_type": "code",
   "execution_count": 1,
   "metadata": {},
   "outputs": [
    {
     "data": {
      "text/plain": [
       "'3.6.9 |Anaconda, Inc.| (default, Jul 30 2019, 19:07:31) \\n[GCC 7.3.0]'"
      ]
     },
     "execution_count": 1,
     "metadata": {},
     "output_type": "execute_result"
    }
   ],
   "source": [
    "import sys\n",
    "sys.version"
   ]
  },
  {
   "cell_type": "code",
   "execution_count": 2,
   "metadata": {},
   "outputs": [
    {
     "name": "stdout",
     "output_type": "stream",
     "text": [
      "481\r\n"
     ]
    }
   ],
   "source": [
    "!pip list | wc -l"
   ]
  },
  {
   "cell_type": "code",
   "execution_count": 3,
   "metadata": {},
   "outputs": [
    {
     "name": "stdout",
     "output_type": "stream",
     "text": [
      "1.30.0\n"
     ]
    }
   ],
   "source": [
    "import azureml.core\n",
    "print(azureml.core.VERSION)"
   ]
  },
  {
   "cell_type": "code",
   "execution_count": 4,
   "metadata": {},
   "outputs": [
    {
     "data": {
      "text/plain": [
       "{'id': '/subscriptions/70b8f39e-8863-49f7-b6ba-34a80799550c/resourceGroups/azuremlworkshop2021-rg/providers/Microsoft.MachineLearningServices/workspaces/azuremlworkshop2021',\n",
       " 'name': 'azuremlworkshop2021',\n",
       " 'identity': {'principal_id': '40b6de37-60f7-41d1-89a8-a193fb743fb5',\n",
       "  'tenant_id': '72f988bf-86f1-41af-91ab-2d7cd011db47',\n",
       "  'type': 'SystemAssigned'},\n",
       " 'location': 'westeurope',\n",
       " 'type': 'Microsoft.MachineLearningServices/workspaces',\n",
       " 'tags': {},\n",
       " 'sku': 'Basic',\n",
       " 'workspaceid': 'e0149dc7-80d7-4e18-a7a1-eb801f23ae2b',\n",
       " 'sdkTelemetryAppInsightsKey': '6d7b2b55-6d18-4126-a3ee-251f78cfa6e5',\n",
       " 'description': '',\n",
       " 'friendlyName': 'azuremlworkshop2021',\n",
       " 'creationTime': '2021-06-23T08:59:19.2642912+00:00',\n",
       " 'containerRegistry': '/subscriptions/70b8f39e-8863-49f7-b6ba-34a80799550c/resourcegroups/azuremlworkshop2021-rg/providers/microsoft.containerregistry/registries/azuremlworkshop2021',\n",
       " 'keyVault': '/subscriptions/70b8f39e-8863-49f7-b6ba-34a80799550c/resourcegroups/azuremlworkshop2021-rg/providers/microsoft.keyvault/vaults/azuremlworksho5719368590',\n",
       " 'applicationInsights': '/subscriptions/70b8f39e-8863-49f7-b6ba-34a80799550c/resourcegroups/azuremlworkshop2021-rg/providers/microsoft.insights/components/azuremlworksho1139700135',\n",
       " 'storageAccount': '/subscriptions/70b8f39e-8863-49f7-b6ba-34a80799550c/resourcegroups/azuremlworkshop2021-rg/providers/microsoft.storage/storageaccounts/azuremlworksho1180980143',\n",
       " 'hbiWorkspace': False,\n",
       " 'allowPublicAccessWhenBehindVnet': False,\n",
       " 'provisioningState': 'Succeeded',\n",
       " 'imageBuildCompute': '',\n",
       " 'discoveryUrl': 'https://westeurope.api.azureml.ms/discovery',\n",
       " 'notebookInfo': {'fqdn': 'ml-azuremlworks-westeurope-e0149dc7-80d7-4e18-a7a1-eb801f23ae2b.notebooks.azure.net',\n",
       "  'resource_id': '0a187252e19a41718301679863ba3e6f'}}"
      ]
     },
     "execution_count": 4,
     "metadata": {},
     "output_type": "execute_result"
    }
   ],
   "source": [
    "from azureml.core.workspace import Workspace\n",
    "ws = Workspace.from_config()\n",
    "ws.get_details()"
   ]
  },
  {
   "cell_type": "markdown",
   "metadata": {},
   "source": [
    "## Use curated environments\n",
    "\n",
    "Curated environments are provided by Azure Machine Learning and are available in your workspace by default. They contain collections of Python packages and settings to help you get started different machine learning frameworks. \n",
    "\n",
    "  * The __AzureML-Minimal__ environment contains a minimal set of packages to enable run tracking and asset uploading. You can use it as a starting point for your own environment.\n",
    "  * The __AzureML-Tutorial__ environment contains common data science packages, such as Scikit-Learn, Pandas and Matplotlib, and larger set of azureml-sdk packages.\n",
    " \n",
    "Curated environments are backed by cached Docker images, reducing the run preparation cost.\n",
    " \n",
    "You can get a curated environment using"
   ]
  },
  {
   "cell_type": "code",
   "execution_count": 5,
   "metadata": {},
   "outputs": [],
   "source": [
    "from azureml.core import Environment\n",
    "\n",
    "curated_env = Environment.get(workspace=ws, name=\"AzureML-Minimal\")"
   ]
  },
  {
   "cell_type": "markdown",
   "metadata": {},
   "source": [
    "To list curated environments, use following code.\n",
    "\n",
    "**Note**: The name prefixes _AzureML_ and _Microsoft_ are reserved for curated environments. Do not use them for your own environments"
   ]
  },
  {
   "cell_type": "code",
   "execution_count": 6,
   "metadata": {},
   "outputs": [
    {
     "name": "stdout",
     "output_type": "stream",
     "text": [
      "Name AzureML-tensorflow-1.15-ubuntu18.04-py37-cpu-inference\n",
      "packages channels:\n",
      "- anaconda\n",
      "- conda-forge\n",
      "dependencies:\n",
      "- python=3.6.2\n",
      "- pip:\n",
      "  - azureml-defaults==1.30.0\n",
      "name: project_environment\n",
      "\n",
      "Name AzureML-Triton\n",
      "packages channels:\n",
      "- conda-forge\n",
      "dependencies:\n",
      "- python=3.7.9\n",
      "- pip:\n",
      "  - azureml-core==1.30.0\n",
      "  - azureml-defaults[async]\n",
      "  - azureml-contrib-services==1.30.0\n",
      "  - numpy\n",
      "  - inference-schema[numpy-support]\n",
      "  - grpcio-tools\n",
      "  - geventhttpclient\n",
      "  - https://developer.download.nvidia.com/compute/redist/tritonclient/tritonclient-2.7.0-py3-none-manylinux1_x86_64.whl\n",
      "name: azureml_08e35304262dcb8bb02bcca41661f10b\n",
      "\n",
      "Name AzureML-PyTorch-1.6-CPU\n",
      "packages channels:\n",
      "- conda-forge\n",
      "dependencies:\n",
      "- python=3.6.2\n",
      "- pip=20.2.4\n",
      "- pip:\n",
      "  - azureml-core==1.30.0\n",
      "  - azureml-defaults==1.30.0\n",
      "  - azureml-telemetry==1.30.0\n",
      "  - azureml-train-restclients-hyperdrive==1.30.0\n",
      "  - azureml-train-core==1.30.0\n",
      "  - cmake==3.18.2\n",
      "  - torch==1.6.0\n",
      "  - torchvision==0.5.0\n",
      "  - mkl==2018.0.3\n",
      "  - horovod==0.21.3\n",
      "  - tensorboard==1.14.0\n",
      "  - future==0.17.1\n",
      "name: azureml_96b7bb03031d0d71b6bb54c3b21e3c79\n",
      "\n",
      "Name AzureML-tensorflow-2.4-ubuntu18.04-py37-cpu-inference\n",
      "packages channels:\n",
      "- anaconda\n",
      "- conda-forge\n",
      "dependencies:\n",
      "- python=3.6.2\n",
      "- pip:\n",
      "  - azureml-defaults==1.30.0\n",
      "name: project_environment\n",
      "\n",
      "Name AzureML-tensorflow-2.4-ubuntu18.04-py37-cuda11.0.3-gpu-inference\n",
      "packages channels:\n",
      "- anaconda\n",
      "- conda-forge\n",
      "dependencies:\n",
      "- python=3.6.2\n",
      "- pip:\n",
      "  - azureml-defaults==1.30.0\n",
      "name: project_environment\n",
      "\n",
      "Name AzureML-pytorch-1.7-ubuntu18.04-py37-cpu-inference\n",
      "packages channels:\n",
      "- anaconda\n",
      "- conda-forge\n",
      "dependencies:\n",
      "- python=3.6.2\n",
      "- pip:\n",
      "  - azureml-defaults==1.30.0\n",
      "name: project_environment\n",
      "\n",
      "Name AzureML-tritonserver-21.02-py38-inference\n",
      "packages channels:\n",
      "- anaconda\n",
      "- conda-forge\n",
      "dependencies:\n",
      "- python=3.6.2\n",
      "- pip:\n",
      "  - azureml-defaults==1.30.0\n",
      "name: project_environment\n",
      "\n",
      "Name AzureML-sklearn-0.24.1-ubuntu18.04-py37-cpu-inference\n",
      "packages channels:\n",
      "- anaconda\n",
      "- conda-forge\n",
      "dependencies:\n",
      "- python=3.6.2\n",
      "- pip:\n",
      "  - azureml-defaults==1.30.0\n",
      "name: project_environment\n",
      "\n",
      "Name AzureML-minimal-ubuntu18.04-py37-cpu-inference\n",
      "packages channels:\n",
      "- anaconda\n",
      "- conda-forge\n",
      "dependencies:\n",
      "- python=3.6.2\n",
      "- pip:\n",
      "  - azureml-defaults==1.30.0\n",
      "name: project_environment\n",
      "\n",
      "Name AzureML-onnxruntime-1.6-ubuntu18.04-py37-cpu-inference\n",
      "packages channels:\n",
      "- anaconda\n",
      "- conda-forge\n",
      "dependencies:\n",
      "- python=3.6.2\n",
      "- pip:\n",
      "  - azureml-defaults==1.30.0\n",
      "name: project_environment\n",
      "\n",
      "Name AzureML-DeepSpeed-0.3-GPU\n",
      "packages channels:\n",
      "- pytorch\n",
      "- conda-forge\n",
      "dependencies:\n",
      "- python=3.6.2\n",
      "- cudatoolkit-dev=10.1.243\n",
      "- cudatoolkit=10.1\n",
      "- pytorch==1.6.0\n",
      "- torchvision==0.7.0\n",
      "- gxx_linux-64\n",
      "- pip<=20.2\n",
      "- pip:\n",
      "  - azureml-core==1.30.0\n",
      "  - azureml-defaults==1.30.0\n",
      "  - azureml-telemetry==1.30.0\n",
      "  - azureml-train-restclients-hyperdrive==1.30.0\n",
      "  - azureml-train-core==1.30.0\n",
      "  - azureml-mlflow==1.30.0\n",
      "  - azureml-dataprep\n",
      "  - cmake==3.18.2\n",
      "  - mkl==2018.0.3\n",
      "  - tensorboard==1.14.0\n",
      "  - future==0.17.1\n",
      "  - matplotlib\n",
      "  - boto3\n",
      "  - h5py\n",
      "  - sklearn\n",
      "  - scipy\n",
      "  - pillow\n",
      "  - tqdm\n",
      "  - cupy-cuda101\n",
      "  - mpi4py\n",
      "  - deepspeed==0.3.11\n",
      "name: azureml_5712462056b61ee54540c403551eb4ee\n",
      "\n",
      "Name AzureML-xgboost-0.9-ubuntu18.04-py37-cpu-inference\n",
      "packages channels:\n",
      "- anaconda\n",
      "- conda-forge\n",
      "dependencies:\n",
      "- python=3.6.2\n",
      "- pip:\n",
      "  - azureml-defaults==1.30.0\n",
      "name: project_environment\n",
      "\n",
      "Name AzureML-pytorch-1.6-ubuntu18.04-py37-cpu-inference\n",
      "packages channels:\n",
      "- anaconda\n",
      "- conda-forge\n",
      "dependencies:\n",
      "- python=3.6.2\n",
      "- pip:\n",
      "  - azureml-defaults==1.30.0\n",
      "name: project_environment\n",
      "\n",
      "Name AzureML-tensorflow-2.4-ubuntu18.04-py37-cuda11-gpu\n",
      "packages name: project_environment\n",
      "dependencies:\n",
      "- python=3.6.2\n",
      "- pip:\n",
      "  - azureml-defaults\n",
      "channels:\n",
      "- anaconda\n",
      "- conda-forge\n",
      "\n",
      "Name AzureML-TensorFlow-2.3-CPU\n",
      "packages channels:\n",
      "- conda-forge\n",
      "dependencies:\n",
      "- python=3.6.2\n",
      "- pip=20.2.4\n",
      "- pip:\n",
      "  - azureml-core==1.30.0\n",
      "  - azureml-defaults==1.30.0\n",
      "  - azureml-telemetry==1.30.0\n",
      "  - azureml-train-restclients-hyperdrive==1.30.0\n",
      "  - azureml-train-core==1.30.0\n",
      "  - tensorflow==2.3.0\n",
      "  - cmake==3.18.2\n",
      "  - horovod==0.21.3\n",
      "name: azureml_3c99b4fc27759ef291790521a2461a31\n",
      "\n",
      "Name AzureML-sklearn-0.24-ubuntu18.04-py37-cuda11-gpu\n",
      "packages name: project_environment\n",
      "dependencies:\n",
      "- python=3.6.2\n",
      "- pip:\n",
      "  - azureml-defaults\n",
      "channels:\n",
      "- anaconda\n",
      "- conda-forge\n",
      "\n",
      "Name AzureML-PyTorch-1.6-GPU\n",
      "packages channels:\n",
      "- conda-forge\n",
      "dependencies:\n",
      "- python=3.6.2\n",
      "- pip=20.2.4\n",
      "- pip:\n",
      "  - azureml-core==1.30.0\n",
      "  - azureml-defaults==1.30.0\n",
      "  - azureml-telemetry==1.30.0\n",
      "  - azureml-train-restclients-hyperdrive==1.30.0\n",
      "  - azureml-train-core==1.30.0\n",
      "  - cmake==3.18.2\n",
      "  - torch==1.6.0\n",
      "  - torchvision==0.5.0\n",
      "  - mkl==2018.0.3\n",
      "  - horovod==0.21.3\n",
      "  - tensorboard==1.14.0\n",
      "  - future==0.17.1\n",
      "name: azureml_96b7bb03031d0d71b6bb54c3b21e3c79\n",
      "\n",
      "Name AzureML-pytorch-1.7-ubuntu18.04-py37-cuda11-gpu\n",
      "packages name: project_environment\n",
      "dependencies:\n",
      "- python=3.6.2\n",
      "- pip:\n",
      "  - azureml-defaults\n",
      "channels:\n",
      "- anaconda\n",
      "- conda-forge\n",
      "\n",
      "Name AzureML-TensorFlow-2.3-GPU\n",
      "packages channels:\n",
      "- conda-forge\n",
      "dependencies:\n",
      "- python=3.6.2\n",
      "- pip=20.2.4\n",
      "- pip:\n",
      "  - azureml-core==1.30.0\n",
      "  - azureml-defaults==1.30.0\n",
      "  - azureml-telemetry==1.30.0\n",
      "  - azureml-train-restclients-hyperdrive==1.30.0\n",
      "  - azureml-train-core==1.30.0\n",
      "  - tensorflow-gpu==2.3.0\n",
      "  - cmake==3.18.2\n",
      "  - horovod==0.21.3\n",
      "name: azureml_a2ab594e91a3792d96536b3f40a66b9e\n",
      "\n",
      "Name AzureML-VowpalWabbit-8.8.0\n",
      "packages channels:\n",
      "- conda-forge\n",
      "dependencies:\n",
      "- python=3.6.2\n",
      "- pip:\n",
      "  - azureml-core==1.19.0\n",
      "  - azureml-defaults==1.19.0\n",
      "  - azureml-dataset-runtime[fuse,pandas]\n",
      "name: azureml_769be4b756b756954fa484d1287d5153\n",
      "\n",
      "Name AzureML-PyTorch-1.3-CPU\n",
      "packages channels:\n",
      "- conda-forge\n",
      "dependencies:\n",
      "- python=3.6.2\n",
      "- pip=20.2.4\n",
      "- pip:\n",
      "  - azureml-core==1.21.0.post1\n",
      "  - azureml-defaults==1.21.0\n",
      "  - azureml-telemetry==1.21.0\n",
      "  - azureml-train-restclients-hyperdrive==1.21.0\n",
      "  - azureml-train-core==1.21.0\n",
      "  - torch==1.3\n",
      "  - torchvision==0.4.1\n",
      "  - mkl==2018.0.3\n",
      "  - horovod==0.18.1\n",
      "  - tensorboard==1.14.0\n",
      "  - future==0.17.1\n",
      "name: azureml_a02f4fa469cd8066bd6e2f219433318d\n",
      "\n",
      "Name AzureML-Minimal\n",
      "packages channels:\n",
      "- conda-forge\n",
      "dependencies:\n",
      "- python=3.6.2\n",
      "- pip:\n",
      "  - azureml-core==1.30.0\n",
      "  - azureml-defaults==1.30.0\n",
      "name: azureml_e90e0f5245bd5c557f2051c72a90db49\n",
      "\n",
      "Name AzureML-Tutorial\n",
      "packages channels:\n",
      "- anaconda\n",
      "- conda-forge\n",
      "dependencies:\n",
      "- python=3.6.2\n",
      "- pip:\n",
      "  - azureml-core==1.30.0\n",
      "  - azureml-defaults==1.30.0\n",
      "  - azureml-telemetry==1.30.0\n",
      "  - azureml-train-restclients-hyperdrive==1.30.0\n",
      "  - azureml-train-core==1.30.0\n",
      "  - azureml-widgets==1.30.0\n",
      "  - azureml-pipeline-core==1.30.0\n",
      "  - azureml-pipeline-steps==1.30.0\n",
      "  - azureml-opendatasets==1.30.0\n",
      "  - azureml-automl-core==1.30.0\n",
      "  - azureml-automl-runtime==1.30.0\n",
      "  - azureml-train-automl-client==1.30.0\n",
      "  - azureml-train-automl-runtime==1.30.0\n",
      "  - azureml-train-automl==1.30.0\n",
      "  - azureml-train==1.30.0\n",
      "  - azureml-sdk==1.30.0\n",
      "  - azureml-interpret==1.30.0\n",
      "  - azureml-tensorboard==1.30.0\n",
      "  - azureml-mlflow==1.30.0\n",
      "  - mlflow\n",
      "  - sklearn-pandas\n",
      "- pandas\n",
      "- numpy\n",
      "- tqdm\n",
      "- scikit-learn\n",
      "- matplotlib\n",
      "name: azureml_2046dd0cd5911b416d8cfaed6c26d26b\n",
      "\n",
      "Name AzureML-lightgbm-3.2-ubuntu18.04-py37-cpu\n",
      "packages name: project_environment\n",
      "dependencies:\n",
      "- python=3.6.2\n",
      "- pip:\n",
      "  - azureml-defaults\n",
      "channels:\n",
      "- anaconda\n",
      "- conda-forge\n",
      "\n"
     ]
    }
   ],
   "source": [
    "envs = Environment.list(workspace=ws)\n",
    "\n",
    "for env in envs:\n",
    "    if env.startswith(\"AzureML\"):\n",
    "        print(\"Name\",env)\n",
    "        print(\"packages\", envs[env].python.conda_dependencies.serialize_to_string())"
   ]
  },
  {
   "cell_type": "markdown",
   "metadata": {},
   "source": [
    "## Create your own environment\n",
    "\n",
    "You can create an environment by instantiating ```Environment``` object and then setting its attributes: set of Python packages, environment variables and others.\n",
    "\n",
    "### Add Python packages\n",
    "\n",
    "The recommended way is to specify Conda packages, as they typically come with complete set of pre-built binaries."
   ]
  },
  {
   "cell_type": "code",
   "execution_count": 7,
   "metadata": {
    "tags": [
     "condadependencies-remarks-sample"
    ]
   },
   "outputs": [],
   "source": [
    "from azureml.core.environment import CondaDependencies\n",
    "\n",
    "myenv = Environment(name=\"myenv\")\n",
    "conda_dep = CondaDependencies()\n",
    "conda_dep.add_conda_package(\"scikit-learn\")"
   ]
  },
  {
   "cell_type": "markdown",
   "metadata": {},
   "source": [
    "You can also add pip packages, and specify the version of package"
   ]
  },
  {
   "cell_type": "code",
   "execution_count": 8,
   "metadata": {
    "tags": [
     "condadependencies-remarks-sample2"
    ]
   },
   "outputs": [],
   "source": [
    "conda_dep.add_pip_package(\"pillow==5.4.1\")\n",
    "myenv.python.conda_dependencies=conda_dep"
   ]
  },
  {
   "cell_type": "markdown",
   "metadata": {},
   "source": [
    "### Specify environment variables\n",
    "\n",
    "You can add environment variables to your environment. These then become available using ```os.environ.get``` in your training script."
   ]
  },
  {
   "cell_type": "code",
   "execution_count": 9,
   "metadata": {},
   "outputs": [],
   "source": [
    "myenv.environment_variables = {\"MESSAGE\":\"Hello from Azure Machine Learning\"}"
   ]
  },
  {
   "cell_type": "markdown",
   "metadata": {},
   "source": [
    "## Register environment\n",
    "\n",
    "You can manage environments by registering them. This allows you to track their versions, and reuse them in future runs. For example, once you've constructed an environment that meets your requirements, you can register it and use it in other experiments so as to standardize your workflow.\n",
    "\n",
    "If you register the environment with same name, the version number is increased by one. Note that Azure ML keeps track of differences between the version, so if you re-register an identical version, the version number is not increased."
   ]
  },
  {
   "cell_type": "code",
   "execution_count": 14,
   "metadata": {},
   "outputs": [
    {
     "data": {
      "text/plain": [
       "{\n",
       "    \"databricks\": {\n",
       "        \"eggLibraries\": [],\n",
       "        \"jarLibraries\": [],\n",
       "        \"mavenLibraries\": [],\n",
       "        \"pypiLibraries\": [],\n",
       "        \"rcranLibraries\": []\n",
       "    },\n",
       "    \"docker\": {\n",
       "        \"arguments\": [],\n",
       "        \"baseDockerfile\": null,\n",
       "        \"baseImage\": \"mcr.microsoft.com/azureml/openmpi3.1.2-ubuntu18.04:20210513.v1\",\n",
       "        \"baseImageRegistry\": {\n",
       "            \"address\": null,\n",
       "            \"password\": null,\n",
       "            \"registryIdentity\": null,\n",
       "            \"username\": null\n",
       "        },\n",
       "        \"enabled\": false,\n",
       "        \"platform\": {\n",
       "            \"architecture\": \"amd64\",\n",
       "            \"os\": \"Linux\"\n",
       "        },\n",
       "        \"sharedVolumes\": true,\n",
       "        \"shmSize\": null\n",
       "    },\n",
       "    \"environmentVariables\": {\n",
       "        \"MESSAGE\": \"Hello from Azure Machine Learning\"\n",
       "    },\n",
       "    \"inferencingStackVersion\": null,\n",
       "    \"name\": \"myenv\",\n",
       "    \"python\": {\n",
       "        \"baseCondaEnvironment\": null,\n",
       "        \"condaDependencies\": {\n",
       "            \"channels\": [\n",
       "                \"anaconda\",\n",
       "                \"conda-forge\"\n",
       "            ],\n",
       "            \"dependencies\": [\n",
       "                \"python=3.6.2\",\n",
       "                {\n",
       "                    \"pip\": [\n",
       "                        \"azureml-defaults\",\n",
       "                        \"pillow==5.4.1\"\n",
       "                    ]\n",
       "                },\n",
       "                \"scikit-learn\"\n",
       "            ],\n",
       "            \"name\": \"azureml_0ebb3fd534065f09729a7404751ebfe0\"\n",
       "        },\n",
       "        \"condaDependenciesFile\": null,\n",
       "        \"interpreterPath\": \"python\",\n",
       "        \"userManagedDependencies\": false\n",
       "    },\n",
       "    \"r\": null,\n",
       "    \"spark\": {\n",
       "        \"packages\": [],\n",
       "        \"precachePackages\": true,\n",
       "        \"repositories\": []\n",
       "    },\n",
       "    \"version\": \"1\"\n",
       "}"
      ]
     },
     "execution_count": 14,
     "metadata": {},
     "output_type": "execute_result"
    }
   ],
   "source": [
    "myenv.register(workspace=ws)"
   ]
  },
  {
   "cell_type": "markdown",
   "metadata": {},
   "source": [
    "## List and get existing environments\n",
    "\n",
    "Your workspace contains a dictionary of registered environments. You can then use ```Environment.get``` to retrieve a specific environment with specific version."
   ]
  },
  {
   "cell_type": "code",
   "execution_count": 15,
   "metadata": {},
   "outputs": [
    {
     "name": "stdout",
     "output_type": "stream",
     "text": [
      "Name tutorial-env \t version 2\n",
      "Name myenv \t version 1\n",
      "Name AzureML-tensorflow-1.15-ubuntu18.04-py37-cpu-inference \t version 2\n",
      "Name AzureML-Triton \t version 16\n",
      "Name AzureML-PyTorch-1.6-CPU \t version 18\n",
      "Name AzureML-tensorflow-2.4-ubuntu18.04-py37-cpu-inference \t version 2\n",
      "Name AzureML-tensorflow-2.4-ubuntu18.04-py37-cuda11.0.3-gpu-inference \t version 2\n",
      "Name AzureML-pytorch-1.7-ubuntu18.04-py37-cpu-inference \t version 2\n",
      "Name AzureML-sklearn-0.24.1-ubuntu18.04-py37-cpu-inference \t version 2\n",
      "Name AzureML-minimal-ubuntu18.04-py37-cpu-inference \t version 2\n",
      "Name AzureML-onnxruntime-1.6-ubuntu18.04-py37-cpu-inference \t version 2\n",
      "Name AzureML-DeepSpeed-0.3-GPU \t version 10\n",
      "Name AzureML-xgboost-0.9-ubuntu18.04-py37-cpu-inference \t version 2\n",
      "Name AzureML-pytorch-1.6-ubuntu18.04-py37-cpu-inference \t version 2\n",
      "Name AzureML-tensorflow-2.4-ubuntu18.04-py37-cuda11-gpu \t version 3\n",
      "Name AzureML-TensorFlow-2.3-CPU \t version 14\n",
      "Name AzureML-sklearn-0.24-ubuntu18.04-py37-cuda11-gpu \t version 3\n",
      "Name AzureML-PyTorch-1.6-GPU \t version 17\n",
      "Name AzureML-pytorch-1.7-ubuntu18.04-py37-cuda11-gpu \t version 3\n",
      "Name AzureML-TensorFlow-2.3-GPU \t version 12\n",
      "Name AzureML-VowpalWabbit-8.8.0 \t version 32\n",
      "Name AzureML-PyTorch-1.3-CPU \t version 40\n",
      "Name AzureML-Minimal \t version 52\n",
      "Name AzureML-tritonserver-21.02-py38-inference \t version 2\n",
      "Name AzureML-Tutorial \t version 68\n",
      "Name AzureML-lightgbm-3.2-ubuntu18.04-py37-cpu \t version 1\n"
     ]
    },
    {
     "ename": "Exception",
     "evalue": "Error retrieving the environment definition. Code: 404\n: {\n  \"error\": {\n    \"code\": \"UserError\",\n    \"severity\": null,\n    \"message\": \"No definition exists for environment myenvserge version 1\",\n    \"messageFormat\": null,\n    \"messageParameters\": null,\n    \"referenceCode\": null,\n    \"detailsUri\": null,\n    \"target\": null,\n    \"details\": [],\n    \"innerError\": {\n      \"code\": \"NotFoundError\",\n      \"innerError\": null\n    },\n    \"debugInfo\": null,\n    \"additionalInfo\": null\n  },\n  \"correlation\": {\n    \"operation\": \"4a29c99885c6f14db3e26eec23dd1381\",\n    \"request\": \"0ca9a52ef9b6ee45\"\n  },\n  \"environment\": \"westeurope\",\n  \"location\": \"westeurope\",\n  \"time\": \"2021-06-23T09:34:40.5936182+00:00\",\n  \"componentName\": \"environment-management\"\n}",
     "output_type": "error",
     "traceback": [
      "\u001b[0;31m---------------------------------------------------------------------------\u001b[0m",
      "\u001b[0;31mException\u001b[0m                                 Traceback (most recent call last)",
      "\u001b[0;32m<ipython-input-15-1d89057c1e06>\u001b[0m in \u001b[0;36m<module>\u001b[0;34m\u001b[0m\n\u001b[1;32m      2\u001b[0m     \u001b[0mprint\u001b[0m\u001b[0;34m(\u001b[0m\u001b[0;34m\"Name {} \\t version {}\"\u001b[0m\u001b[0;34m.\u001b[0m\u001b[0mformat\u001b[0m\u001b[0;34m(\u001b[0m\u001b[0mname\u001b[0m\u001b[0;34m,\u001b[0m\u001b[0menv\u001b[0m\u001b[0;34m.\u001b[0m\u001b[0mversion\u001b[0m\u001b[0;34m)\u001b[0m\u001b[0;34m)\u001b[0m\u001b[0;34m\u001b[0m\u001b[0;34m\u001b[0m\u001b[0m\n\u001b[1;32m      3\u001b[0m \u001b[0;34m\u001b[0m\u001b[0m\n\u001b[0;32m----> 4\u001b[0;31m \u001b[0mrestored_environment\u001b[0m \u001b[0;34m=\u001b[0m \u001b[0mEnvironment\u001b[0m\u001b[0;34m.\u001b[0m\u001b[0mget\u001b[0m\u001b[0;34m(\u001b[0m\u001b[0mworkspace\u001b[0m\u001b[0;34m=\u001b[0m\u001b[0mws\u001b[0m\u001b[0;34m,\u001b[0m\u001b[0mname\u001b[0m\u001b[0;34m=\u001b[0m\u001b[0;34m\"myenvserge\"\u001b[0m\u001b[0;34m,\u001b[0m\u001b[0mversion\u001b[0m\u001b[0;34m=\u001b[0m\u001b[0;34m\"1\"\u001b[0m\u001b[0;34m)\u001b[0m\u001b[0;34m\u001b[0m\u001b[0;34m\u001b[0m\u001b[0m\n\u001b[0m\u001b[1;32m      5\u001b[0m \u001b[0;34m\u001b[0m\u001b[0m\n\u001b[1;32m      6\u001b[0m \u001b[0mprint\u001b[0m\u001b[0;34m(\u001b[0m\u001b[0;34m\"Attributes of restored environment\"\u001b[0m\u001b[0;34m)\u001b[0m\u001b[0;34m\u001b[0m\u001b[0;34m\u001b[0m\u001b[0m\n",
      "\u001b[0;32m/anaconda/envs/azureml_py36/lib/python3.6/site-packages/azureml/core/environment.py\u001b[0m in \u001b[0;36mget\u001b[0;34m(workspace, name, version, label)\u001b[0m\n\u001b[1;32m    963\u001b[0m             \u001b[0menvironment_dict\u001b[0m \u001b[0;34m=\u001b[0m \u001b[0menvironment_client\u001b[0m\u001b[0;34m.\u001b[0m\u001b[0m_get_environment_definition_by_label\u001b[0m\u001b[0;34m(\u001b[0m\u001b[0mname\u001b[0m\u001b[0;34m=\u001b[0m\u001b[0mname\u001b[0m\u001b[0;34m,\u001b[0m \u001b[0mlabel\u001b[0m\u001b[0;34m=\u001b[0m\u001b[0mlabel\u001b[0m\u001b[0;34m)\u001b[0m\u001b[0;34m\u001b[0m\u001b[0;34m\u001b[0m\u001b[0m\n\u001b[1;32m    964\u001b[0m         \u001b[0;32melse\u001b[0m\u001b[0;34m:\u001b[0m\u001b[0;34m\u001b[0m\u001b[0;34m\u001b[0m\u001b[0m\n\u001b[0;32m--> 965\u001b[0;31m             \u001b[0menvironment_dict\u001b[0m \u001b[0;34m=\u001b[0m \u001b[0menvironment_client\u001b[0m\u001b[0;34m.\u001b[0m\u001b[0m_get_environment_definition\u001b[0m\u001b[0;34m(\u001b[0m\u001b[0mname\u001b[0m\u001b[0;34m=\u001b[0m\u001b[0mname\u001b[0m\u001b[0;34m,\u001b[0m \u001b[0mversion\u001b[0m\u001b[0;34m=\u001b[0m\u001b[0mversion\u001b[0m\u001b[0;34m)\u001b[0m\u001b[0;34m\u001b[0m\u001b[0;34m\u001b[0m\u001b[0m\n\u001b[0m\u001b[1;32m    966\u001b[0m         \u001b[0menv\u001b[0m \u001b[0;34m=\u001b[0m \u001b[0mEnvironment\u001b[0m\u001b[0;34m.\u001b[0m\u001b[0m_deserialize_and_add_to_object\u001b[0m\u001b[0;34m(\u001b[0m\u001b[0menvironment_dict\u001b[0m\u001b[0;34m)\u001b[0m\u001b[0;34m\u001b[0m\u001b[0;34m\u001b[0m\u001b[0m\n\u001b[1;32m    967\u001b[0m \u001b[0;34m\u001b[0m\u001b[0m\n",
      "\u001b[0;32m/anaconda/envs/azureml_py36/lib/python3.6/site-packages/azureml/_restclient/environment_client.py\u001b[0m in \u001b[0;36m_get_environment_definition\u001b[0;34m(self, name, version)\u001b[0m\n\u001b[1;32m     43\u001b[0m             message = \"Error retrieving the environment definition. Code: {}\\n: {}\".format(response.status_code,\n\u001b[1;32m     44\u001b[0m                                                                                            response.text)\n\u001b[0;32m---> 45\u001b[0;31m             \u001b[0;32mraise\u001b[0m \u001b[0mException\u001b[0m\u001b[0;34m(\u001b[0m\u001b[0mmessage\u001b[0m\u001b[0;34m)\u001b[0m\u001b[0;34m\u001b[0m\u001b[0;34m\u001b[0m\u001b[0m\n\u001b[0m\u001b[1;32m     46\u001b[0m \u001b[0;34m\u001b[0m\u001b[0m\n\u001b[1;32m     47\u001b[0m     \u001b[0;32mdef\u001b[0m \u001b[0m_get_environment_definition_by_label\u001b[0m\u001b[0;34m(\u001b[0m\u001b[0mself\u001b[0m\u001b[0;34m,\u001b[0m \u001b[0mname\u001b[0m\u001b[0;34m,\u001b[0m \u001b[0mlabel\u001b[0m\u001b[0;34m)\u001b[0m\u001b[0;34m:\u001b[0m\u001b[0;34m\u001b[0m\u001b[0;34m\u001b[0m\u001b[0m\n",
      "\u001b[0;31mException\u001b[0m: Error retrieving the environment definition. Code: 404\n: {\n  \"error\": {\n    \"code\": \"UserError\",\n    \"severity\": null,\n    \"message\": \"No definition exists for environment myenvserge version 1\",\n    \"messageFormat\": null,\n    \"messageParameters\": null,\n    \"referenceCode\": null,\n    \"detailsUri\": null,\n    \"target\": null,\n    \"details\": [],\n    \"innerError\": {\n      \"code\": \"NotFoundError\",\n      \"innerError\": null\n    },\n    \"debugInfo\": null,\n    \"additionalInfo\": null\n  },\n  \"correlation\": {\n    \"operation\": \"4a29c99885c6f14db3e26eec23dd1381\",\n    \"request\": \"0ca9a52ef9b6ee45\"\n  },\n  \"environment\": \"westeurope\",\n  \"location\": \"westeurope\",\n  \"time\": \"2021-06-23T09:34:40.5936182+00:00\",\n  \"componentName\": \"environment-management\"\n}"
     ]
    }
   ],
   "source": [
    "for name,env in ws.environments.items():\n",
    "    print(\"Name {} \\t version {}\".format(name,env.version))\n",
    "\n",
    "restored_environment = Environment.get(workspace=ws,name=\"myenvserge\",version=\"1\")\n",
    "\n",
    "print(\"Attributes of restored environment\")\n",
    "restored_environment"
   ]
  },
  {
   "cell_type": "markdown",
   "metadata": {},
   "source": [
    "## Other ways to create environments\n",
    "\n",
    "### From existing Conda environment\n",
    "\n",
    "You can create an environment from existing conda environment. This make it easy to reuse your local interactive environment in Azure ML remote runs. For example, if you've created conda environment using\n",
    "```\n",
    "conda create -n mycondaenv\n",
    "```\n",
    "you can create Azure ML environment out of that conda environment using\n",
    "```\n",
    "myenv = Environment.from_existing_conda_environment(name=\"myenv\",conda_environment_name=\"mycondaenv\")\n",
    "```\n",
    "\n",
    "### From conda or pip files\n",
    "\n",
    "You can create environments from conda specification or pip requirements files using\n",
    "```\n",
    "myenv = Environment.from_conda_specification(name=\"myenv\", file_path=\"path-to-conda-specification-file\")\n",
    "\n",
    "myenv = Environment.from_pip_requirements(name=\"myenv\", file_path=\"path-to-pip-requirements-file\")\n",
    "```\n"
   ]
  },
  {
   "cell_type": "markdown",
   "metadata": {},
   "source": [
    "## Using environments for inferencing\n",
    "\n",
    "You can re-use the training environment when you deploy your model as a web service, by specifying inferencing stack version, and adding then environment to ```InferenceConfig```.\n",
    "\n",
    "```\n",
    "from azureml.core.model import InferenceConfig\n",
    "\n",
    "myenv.inferencing_stack_version = \"latest\"\n",
    "\n",
    "inference_config = InferenceConfig(entry_script=\"score.py\", environment=myenv)\n",
    "```\n",
    "\n",
    "See [Register Model and deploy as Webservice Notebook](../../deployment/deploy-to-cloud/model-register-and-deploy.ipynb) for an end-to-end example of web service deployment."
   ]
  }
 ],
 "metadata": {
  "authors": [
   {
    "name": "roastala"
   }
  ],
  "category": "starter",
  "compute": [
   "Local"
  ],
  "datasets": [
   "None"
  ],
  "deployment": [
   "None"
  ],
  "exclude_from_index": false,
  "framework": [
   "None"
  ],
  "friendly_name": "Using Azure ML environments",
  "index_order": 1,
  "kernelspec": {
   "display_name": "Python 3.6 - AzureML",
   "language": "python",
   "name": "python3-azureml"
  },
  "language_info": {
   "codemirror_mode": {
    "name": "ipython",
    "version": 3
   },
   "file_extension": ".py",
   "mimetype": "text/x-python",
   "name": "python",
   "nbconvert_exporter": "python",
   "pygments_lexer": "ipython3",
   "version": "3.6.9"
  },
  "tags": [
   "None"
  ],
  "task": "Creating and registering environments"
 },
 "nbformat": 4,
 "nbformat_minor": 2
}
