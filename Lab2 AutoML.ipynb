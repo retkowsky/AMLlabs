{
 "cells": [
  {
   "cell_type": "markdown",
   "metadata": {},
   "source": [
    "# Lab 2: AutoML with Azure ML"
   ]
  },
  {
   "cell_type": "markdown",
   "metadata": {},
   "source": [
    "<img src='https://github.com/retkowsky/images/blob/master/AzureMLservicebanniere.png?raw=true'>"
   ]
  },
  {
   "cell_type": "markdown",
   "metadata": {},
   "source": [
    "In this example we use the associated credit card dataset to showcase how you can use AutoML for a simple classification problem. The goal is to predict if an employee will leave a company (employee churn).\n",
    "\n",
    "This notebook is using remote compute to train the model.\n",
    "\n",
    "If you are using an Azure Machine Learning Compute Instance, you are all set. Otherwise, go through the [configuration](../../../configuration.ipynb) notebook first if you haven't already to establish your connection to the AzureML Workspace. \n",
    "\n",
    "In this notebook you will learn how to:\n",
    "1. Create an experiment using an existing workspace.\n",
    "2. Configure AutoML using `AutoMLConfig`.\n",
    "3. Train the model using remote compute.\n",
    "4. Explore the results.\n",
    "5. Test the fitted model."
   ]
  },
  {
   "cell_type": "markdown",
   "metadata": {},
   "source": [
    "> Azure AutoML documentation :\n",
    "https://docs.microsoft.com/en-us/azure/machine-learning/service/how-to-automated-ml"
   ]
  },
  {
   "cell_type": "markdown",
   "metadata": {},
   "source": [
    "## Setup\n",
    "\n",
    "As part of the setup you have already created an Azure ML `Workspace` object. For Automated ML you will need to create an `Experiment` object, which is a named object in a `Workspace` used to run experiments."
   ]
  },
  {
   "cell_type": "code",
   "execution_count": 1,
   "metadata": {},
   "outputs": [
    {
     "data": {
      "text/plain": [
       "'3.6.9 |Anaconda, Inc.| (default, Jul 30 2019, 19:07:31) \\n[GCC 7.3.0]'"
      ]
     },
     "execution_count": 1,
     "metadata": {},
     "output_type": "execute_result"
    }
   ],
   "source": [
    "import sys\n",
    "sys.version"
   ]
  },
  {
   "cell_type": "code",
   "execution_count": 2,
   "metadata": {},
   "outputs": [
    {
     "name": "stdout",
     "output_type": "stream",
     "text": [
      "Date: 2021-06-03 15:58:41.797847\n"
     ]
    }
   ],
   "source": [
    "import datetime\n",
    "now = datetime.datetime.now()\n",
    "print('Date:', now)"
   ]
  },
  {
   "cell_type": "code",
   "execution_count": 3,
   "metadata": {},
   "outputs": [],
   "source": [
    "import logging\n",
    "\n",
    "from matplotlib import pyplot as plt\n",
    "import pandas as pd\n",
    "import os\n",
    "import seaborn as sns\n",
    "\n",
    "import azureml.core\n",
    "from azureml.core.experiment import Experiment\n",
    "from azureml.core.workspace import Workspace\n",
    "from azureml.core.dataset import Dataset\n",
    "from azureml.train.automl import AutoMLConfig"
   ]
  },
  {
   "cell_type": "code",
   "execution_count": 4,
   "metadata": {},
   "outputs": [
    {
     "name": "stdout",
     "output_type": "stream",
     "text": [
      "You are using Azure ML 1.28.0\n"
     ]
    }
   ],
   "source": [
    "import azureml.core\n",
    "print(\"You are using Azure ML\", azureml.core.VERSION)"
   ]
  },
  {
   "cell_type": "code",
   "execution_count": 5,
   "metadata": {},
   "outputs": [],
   "source": [
    "#!pip install --upgrade azureml-sdk\n",
    "#!pip install --upgrade azureml-sdk[automl]"
   ]
  },
  {
   "cell_type": "code",
   "execution_count": 6,
   "metadata": {},
   "outputs": [],
   "source": [
    "ws = Workspace.from_config()\n",
    "\n",
    "# choose a name for experiment\n",
    "experiment_name = 'Lab2-AutoML'\n",
    "\n",
    "experiment=Experiment(ws, experiment_name)"
   ]
  },
  {
   "cell_type": "markdown",
   "metadata": {},
   "source": [
    "## Create or Attach existing AmlCompute\n",
    "A compute target is required to execute the Automated ML run. In this tutorial, you create AmlCompute as your training compute resource.\n",
    "\n",
    "If the AmlCompute with that name is already in your workspace this code will skip the creation process.\n",
    "As with other Azure services, there are limits on certain resources (e.g. AmlCompute) associated with the Azure Machine Learning service. Please read [this article](https://docs.microsoft.com/en-us/azure/machine-learning/service/how-to-manage-quotas) on the default limits and how to request more quota."
   ]
  },
  {
   "cell_type": "code",
   "execution_count": 7,
   "metadata": {},
   "outputs": [
    {
     "data": {
      "text/plain": [
       "'automlclus222606'"
      ]
     },
     "execution_count": 7,
     "metadata": {},
     "output_type": "execute_result"
    }
   ],
   "source": [
    "import random\n",
    "randomval=round(random.random()*1000000)\n",
    "ccname=\"automlclus\"+str(randomval)\n",
    "ccname"
   ]
  },
  {
   "cell_type": "code",
   "execution_count": 8,
   "metadata": {},
   "outputs": [
    {
     "name": "stdout",
     "output_type": "stream",
     "text": [
      "Creating.........\n",
      "SucceededProvisioning operation finished, operation \"Succeeded\"\n",
      "Succeeded\n",
      "AmlCompute wait for completion finished\n",
      "\n",
      "Minimum number of nodes requested have been provisioned\n"
     ]
    }
   ],
   "source": [
    "from azureml.core.compute import ComputeTarget, AmlCompute\n",
    "from azureml.core.compute_target import ComputeTargetException\n",
    "\n",
    "#Use a unique name\n",
    "cpu_cluster_name = ccname\n",
    "\n",
    "\n",
    "try:\n",
    "    compute_target = ComputeTarget(workspace=ws, name=cpu_cluster_name)\n",
    "    print('Found existing cluster, use it.')\n",
    "except ComputeTargetException:\n",
    "    compute_config = AmlCompute.provisioning_configuration(vm_size='Standard_F4s_v2',\n",
    "                                                           vm_priority='dedicated',\n",
    "                                                           min_nodes=0, # use min_nodes=0 for automatic scaling down to 0 nodess\n",
    "                                                           max_nodes=4,\n",
    "                                                           idle_seconds_before_scaledown=18000) #you can reduce the timeout to avoid extra cost\n",
    "    compute_target = ComputeTarget.create(ws, cpu_cluster_name, compute_config)\n",
    "\n",
    "compute_target.wait_for_completion(show_output=True)"
   ]
  },
  {
   "cell_type": "code",
   "execution_count": 9,
   "metadata": {},
   "outputs": [
    {
     "data": {
      "text/plain": [
       "'Succeeded'"
      ]
     },
     "execution_count": 9,
     "metadata": {},
     "output_type": "execute_result"
    }
   ],
   "source": [
    "compute_target.provisioning_state"
   ]
  },
  {
   "cell_type": "code",
   "execution_count": 10,
   "metadata": {},
   "outputs": [
    {
     "data": {
      "text/plain": [
       "<bound method AmlCompute.serialize of AmlCompute(workspace=Workspace.create(name='AMLworkshop', subscription_id='70b8f39e-8863-49f7-b6ba-34a80799550c', resource_group='AMLworkshop-rg'), name=automlclus222606, id=/subscriptions/70b8f39e-8863-49f7-b6ba-34a80799550c/resourceGroups/AMLworkshop-rg/providers/Microsoft.MachineLearningServices/workspaces/AMLworkshop/computes/automlclus222606, type=AmlCompute, provisioning_state=Succeeded, location=westeurope, tags={})>"
      ]
     },
     "execution_count": 10,
     "metadata": {},
     "output_type": "execute_result"
    }
   ],
   "source": [
    "compute_target.serialize"
   ]
  },
  {
   "cell_type": "markdown",
   "metadata": {},
   "source": [
    "# Data"
   ]
  },
  {
   "cell_type": "markdown",
   "metadata": {},
   "source": [
    "### Load Data"
   ]
  },
  {
   "cell_type": "code",
   "execution_count": 11,
   "metadata": {},
   "outputs": [],
   "source": [
    "import urllib"
   ]
  },
  {
   "cell_type": "code",
   "execution_count": 12,
   "metadata": {},
   "outputs": [
    {
     "data": {
      "text/plain": [
       "('titanic.csv', <http.client.HTTPMessage at 0x7fe4b1ccbc50>)"
      ]
     },
     "execution_count": 12,
     "metadata": {},
     "output_type": "execute_result"
    }
   ],
   "source": [
    "url=\"https://raw.githubusercontent.com/retkowsky/DataSets-AutoML_AzureMLservice/master/Titanic.csv\"\n",
    "filename = 'titanic.csv'\n",
    "urllib.request.urlretrieve(url, filename=filename)"
   ]
  },
  {
   "cell_type": "code",
   "execution_count": 13,
   "metadata": {},
   "outputs": [
    {
     "name": "stdout",
     "output_type": "stream",
     "text": [
      "-rwxrwxrwx 1 root root 60302 Jun  3 15:59 titanic.CSV\r\n"
     ]
    }
   ],
   "source": [
    "!ls titanic.CSV -l"
   ]
  },
  {
   "cell_type": "code",
   "execution_count": 14,
   "metadata": {},
   "outputs": [
    {
     "name": "stdout",
     "output_type": "stream",
     "text": [
      "Uploading an estimated of 1 files\n",
      "Uploading titanic.csv\n",
      "Uploaded titanic.csv, 1 files out of an estimated total of 1\n",
      "Uploaded 1 files\n"
     ]
    },
    {
     "data": {
      "text/plain": [
       "$AZUREML_DATAREFERENCE_9c8f7683b88d45589d9d0b12c2020de3"
      ]
     },
     "execution_count": 14,
     "metadata": {},
     "output_type": "execute_result"
    }
   ],
   "source": [
    "datastore = ws.get_default_datastore()\n",
    "datastore.upload_files(files = ['titanic.csv'],\n",
    "                       target_path = 'train-dataset/tabular/',\n",
    "                       overwrite = True,\n",
    "                       show_progress = True)"
   ]
  },
  {
   "cell_type": "code",
   "execution_count": 15,
   "metadata": {},
   "outputs": [
    {
     "data": {
      "text/html": [
       "<div>\n",
       "<style scoped>\n",
       "    .dataframe tbody tr th:only-of-type {\n",
       "        vertical-align: middle;\n",
       "    }\n",
       "\n",
       "    .dataframe tbody tr th {\n",
       "        vertical-align: top;\n",
       "    }\n",
       "\n",
       "    .dataframe thead th {\n",
       "        text-align: right;\n",
       "    }\n",
       "</style>\n",
       "<table border=\"1\" class=\"dataframe\">\n",
       "  <thead>\n",
       "    <tr style=\"text-align: right;\">\n",
       "      <th></th>\n",
       "      <th>PassengerId</th>\n",
       "      <th>Survived</th>\n",
       "      <th>Pclass</th>\n",
       "      <th>Name</th>\n",
       "      <th>Sex</th>\n",
       "      <th>Age</th>\n",
       "      <th>SibSp</th>\n",
       "      <th>Parch</th>\n",
       "      <th>Ticket</th>\n",
       "      <th>Fare</th>\n",
       "      <th>Cabin</th>\n",
       "      <th>Embarked</th>\n",
       "    </tr>\n",
       "  </thead>\n",
       "  <tbody>\n",
       "    <tr>\n",
       "      <th>0</th>\n",
       "      <td>1</td>\n",
       "      <td>0</td>\n",
       "      <td>3</td>\n",
       "      <td>Braund, Mr. Owen Harris</td>\n",
       "      <td>male</td>\n",
       "      <td>22.0</td>\n",
       "      <td>1</td>\n",
       "      <td>0</td>\n",
       "      <td>A/5 21171</td>\n",
       "      <td>7.2500</td>\n",
       "      <td>None</td>\n",
       "      <td>S</td>\n",
       "    </tr>\n",
       "    <tr>\n",
       "      <th>1</th>\n",
       "      <td>2</td>\n",
       "      <td>1</td>\n",
       "      <td>1</td>\n",
       "      <td>Cumings, Mrs. John Bradley (Florence Briggs Th...</td>\n",
       "      <td>female</td>\n",
       "      <td>38.0</td>\n",
       "      <td>1</td>\n",
       "      <td>0</td>\n",
       "      <td>PC 17599</td>\n",
       "      <td>71.2833</td>\n",
       "      <td>C85</td>\n",
       "      <td>C</td>\n",
       "    </tr>\n",
       "    <tr>\n",
       "      <th>2</th>\n",
       "      <td>3</td>\n",
       "      <td>1</td>\n",
       "      <td>3</td>\n",
       "      <td>Heikkinen, Miss. Laina</td>\n",
       "      <td>female</td>\n",
       "      <td>26.0</td>\n",
       "      <td>0</td>\n",
       "      <td>0</td>\n",
       "      <td>STON/O2. 3101282</td>\n",
       "      <td>7.9250</td>\n",
       "      <td>None</td>\n",
       "      <td>S</td>\n",
       "    </tr>\n",
       "  </tbody>\n",
       "</table>\n",
       "</div>"
      ],
      "text/plain": [
       "   PassengerId  Survived  Pclass  \\\n",
       "0            1         0       3   \n",
       "1            2         1       1   \n",
       "2            3         1       3   \n",
       "\n",
       "                                                Name     Sex   Age  SibSp  \\\n",
       "0                            Braund, Mr. Owen Harris    male  22.0      1   \n",
       "1  Cumings, Mrs. John Bradley (Florence Briggs Th...  female  38.0      1   \n",
       "2                             Heikkinen, Miss. Laina  female  26.0      0   \n",
       "\n",
       "   Parch            Ticket     Fare Cabin Embarked  \n",
       "0      0         A/5 21171   7.2500  None        S  \n",
       "1      0          PC 17599  71.2833   C85        C  \n",
       "2      0  STON/O2. 3101282   7.9250  None        S  "
      ]
     },
     "execution_count": 15,
     "metadata": {},
     "output_type": "execute_result"
    }
   ],
   "source": [
    "from azureml.core import Dataset\n",
    "dataset = Dataset.Tabular.from_delimited_files(path = [(datastore, 'train-dataset/tabular/titanic.csv')])\n",
    "\n",
    "# preview the first 3 rows of the dataset\n",
    "dataset.take(3).to_pandas_dataframe()"
   ]
  },
  {
   "cell_type": "code",
   "execution_count": 16,
   "metadata": {},
   "outputs": [],
   "source": [
    "training_data, validation_data = dataset.random_split(percentage=0.8, seed=223) #Partitionning the dataset\n",
    "label_column_name = 'Survived' # Variable to predict"
   ]
  },
  {
   "cell_type": "code",
   "execution_count": 17,
   "metadata": {},
   "outputs": [],
   "source": [
    "df=dataset.to_pandas_dataframe()"
   ]
  },
  {
   "cell_type": "code",
   "execution_count": 18,
   "metadata": {},
   "outputs": [
    {
     "data": {
      "text/html": [
       "<div>\n",
       "<style scoped>\n",
       "    .dataframe tbody tr th:only-of-type {\n",
       "        vertical-align: middle;\n",
       "    }\n",
       "\n",
       "    .dataframe tbody tr th {\n",
       "        vertical-align: top;\n",
       "    }\n",
       "\n",
       "    .dataframe thead th {\n",
       "        text-align: right;\n",
       "    }\n",
       "</style>\n",
       "<table border=\"1\" class=\"dataframe\">\n",
       "  <thead>\n",
       "    <tr style=\"text-align: right;\">\n",
       "      <th></th>\n",
       "      <th>PassengerId</th>\n",
       "      <th>Survived</th>\n",
       "      <th>Pclass</th>\n",
       "      <th>Name</th>\n",
       "      <th>Sex</th>\n",
       "      <th>Age</th>\n",
       "      <th>SibSp</th>\n",
       "      <th>Parch</th>\n",
       "      <th>Ticket</th>\n",
       "      <th>Fare</th>\n",
       "      <th>Cabin</th>\n",
       "      <th>Embarked</th>\n",
       "    </tr>\n",
       "  </thead>\n",
       "  <tbody>\n",
       "    <tr>\n",
       "      <th>0</th>\n",
       "      <td>1</td>\n",
       "      <td>0</td>\n",
       "      <td>3</td>\n",
       "      <td>Braund, Mr. Owen Harris</td>\n",
       "      <td>male</td>\n",
       "      <td>22.0</td>\n",
       "      <td>1</td>\n",
       "      <td>0</td>\n",
       "      <td>A/5 21171</td>\n",
       "      <td>7.2500</td>\n",
       "      <td>None</td>\n",
       "      <td>S</td>\n",
       "    </tr>\n",
       "    <tr>\n",
       "      <th>1</th>\n",
       "      <td>2</td>\n",
       "      <td>1</td>\n",
       "      <td>1</td>\n",
       "      <td>Cumings, Mrs. John Bradley (Florence Briggs Th...</td>\n",
       "      <td>female</td>\n",
       "      <td>38.0</td>\n",
       "      <td>1</td>\n",
       "      <td>0</td>\n",
       "      <td>PC 17599</td>\n",
       "      <td>71.2833</td>\n",
       "      <td>C85</td>\n",
       "      <td>C</td>\n",
       "    </tr>\n",
       "    <tr>\n",
       "      <th>2</th>\n",
       "      <td>3</td>\n",
       "      <td>1</td>\n",
       "      <td>3</td>\n",
       "      <td>Heikkinen, Miss. Laina</td>\n",
       "      <td>female</td>\n",
       "      <td>26.0</td>\n",
       "      <td>0</td>\n",
       "      <td>0</td>\n",
       "      <td>STON/O2. 3101282</td>\n",
       "      <td>7.9250</td>\n",
       "      <td>None</td>\n",
       "      <td>S</td>\n",
       "    </tr>\n",
       "    <tr>\n",
       "      <th>3</th>\n",
       "      <td>4</td>\n",
       "      <td>1</td>\n",
       "      <td>1</td>\n",
       "      <td>Futrelle, Mrs. Jacques Heath (Lily May Peel)</td>\n",
       "      <td>female</td>\n",
       "      <td>35.0</td>\n",
       "      <td>1</td>\n",
       "      <td>0</td>\n",
       "      <td>113803</td>\n",
       "      <td>53.1000</td>\n",
       "      <td>C123</td>\n",
       "      <td>S</td>\n",
       "    </tr>\n",
       "    <tr>\n",
       "      <th>4</th>\n",
       "      <td>5</td>\n",
       "      <td>0</td>\n",
       "      <td>3</td>\n",
       "      <td>Allen, Mr. William Henry</td>\n",
       "      <td>male</td>\n",
       "      <td>35.0</td>\n",
       "      <td>0</td>\n",
       "      <td>0</td>\n",
       "      <td>373450</td>\n",
       "      <td>8.0500</td>\n",
       "      <td>None</td>\n",
       "      <td>S</td>\n",
       "    </tr>\n",
       "  </tbody>\n",
       "</table>\n",
       "</div>"
      ],
      "text/plain": [
       "   PassengerId  Survived  Pclass  \\\n",
       "0            1         0       3   \n",
       "1            2         1       1   \n",
       "2            3         1       3   \n",
       "3            4         1       1   \n",
       "4            5         0       3   \n",
       "\n",
       "                                                Name     Sex   Age  SibSp  \\\n",
       "0                            Braund, Mr. Owen Harris    male  22.0      1   \n",
       "1  Cumings, Mrs. John Bradley (Florence Briggs Th...  female  38.0      1   \n",
       "2                             Heikkinen, Miss. Laina  female  26.0      0   \n",
       "3       Futrelle, Mrs. Jacques Heath (Lily May Peel)  female  35.0      1   \n",
       "4                           Allen, Mr. William Henry    male  35.0      0   \n",
       "\n",
       "   Parch            Ticket     Fare Cabin Embarked  \n",
       "0      0         A/5 21171   7.2500  None        S  \n",
       "1      0          PC 17599  71.2833   C85        C  \n",
       "2      0  STON/O2. 3101282   7.9250  None        S  \n",
       "3      0            113803  53.1000  C123        S  \n",
       "4      0            373450   8.0500  None        S  "
      ]
     },
     "execution_count": 18,
     "metadata": {},
     "output_type": "execute_result"
    }
   ],
   "source": [
    "df.head(20)"
   ]
  },
  {
   "cell_type": "code",
   "execution_count": null,
   "metadata": {},
   "outputs": [],
   "source": [
    "df.describe()"
   ]
  },
  {
   "cell_type": "code",
   "execution_count": 19,
   "metadata": {},
   "outputs": [
    {
     "data": {
      "text/plain": [
       "Index(['PassengerId', 'Survived', 'Pclass', 'Name', 'Sex', 'Age', 'SibSp',\n",
       "       'Parch', 'Ticket', 'Fare', 'Cabin', 'Embarked'],\n",
       "      dtype='object')"
      ]
     },
     "execution_count": 19,
     "metadata": {},
     "output_type": "execute_result"
    }
   ],
   "source": [
    "df.columns"
   ]
  },
  {
   "cell_type": "code",
   "execution_count": 20,
   "metadata": {
    "scrolled": true
   },
   "outputs": [
    {
     "data": {
      "text/plain": [
       "(891, 12)"
      ]
     },
     "execution_count": 20,
     "metadata": {},
     "output_type": "execute_result"
    }
   ],
   "source": [
    "df.shape"
   ]
  },
  {
   "cell_type": "code",
   "execution_count": 25,
   "metadata": {},
   "outputs": [
    {
     "data": {
      "text/plain": [
       "0    549\n",
       "1    342\n",
       "Name: Survived, dtype: int64"
      ]
     },
     "execution_count": 25,
     "metadata": {},
     "output_type": "execute_result"
    }
   ],
   "source": [
    "df.Survived.value_counts()"
   ]
  },
  {
   "cell_type": "code",
   "execution_count": 26,
   "metadata": {},
   "outputs": [
    {
     "data": {
      "text/plain": [
       "0    0.616162\n",
       "1    0.383838\n",
       "Name: Survived, dtype: float64"
      ]
     },
     "execution_count": 26,
     "metadata": {},
     "output_type": "execute_result"
    }
   ],
   "source": [
    "df.Survived.value_counts(normalize=\"true\")"
   ]
  },
  {
   "cell_type": "code",
   "execution_count": 27,
   "metadata": {},
   "outputs": [
    {
     "data": {
      "text/plain": [
       "<seaborn.axisgrid.FacetGrid at 0x7fe49803a748>"
      ]
     },
     "execution_count": 27,
     "metadata": {},
     "output_type": "execute_result"
    },
    {
     "data": {
      "image/png": "[encoded data removed]",
      "text/plain": [
       "<Figure size 504x504 with 1 Axes>"
      ]
     },
     "metadata": {
      "needs_background": "light"
     },
     "output_type": "display_data"
    }
   ],
   "source": [
    "sns.catplot(x=\"Survived\", kind=\"count\", data=df, height=7)"
   ]
  },
  {
   "cell_type": "markdown",
   "metadata": {},
   "source": [
    "## Let's save the dataset as an Azure ML dataset"
   ]
  },
  {
   "cell_type": "code",
   "execution_count": 28,
   "metadata": {},
   "outputs": [],
   "source": [
    "tagsdataset= {\"Type\": \"Test\", \n",
    "              \"Team\": \"DataScience\",\n",
    "              \"Topic\": \"Titanic\",\n",
    "              \"Country\": \"France\",\n",
    "              \"Demo\": \"Yes\",\n",
    "              }\n",
    "\n",
    "dataset = dataset.register(workspace=ws,\n",
    "                           name='Titanic',\n",
    "                           description='Dataset for AutoML',\n",
    "                           create_new_version=True,\n",
    "                           tags=tagsdataset)"
   ]
  },
  {
   "cell_type": "code",
   "execution_count": 29,
   "metadata": {},
   "outputs": [
    {
     "data": {
      "text/plain": [
       "'Titanic'"
      ]
     },
     "execution_count": 29,
     "metadata": {},
     "output_type": "execute_result"
    }
   ],
   "source": [
    "dataset.name"
   ]
  },
  {
   "cell_type": "code",
   "execution_count": 30,
   "metadata": {},
   "outputs": [
    {
     "data": {
      "text/plain": [
       "{'Type': 'Test',\n",
       " 'Team': 'DataScience',\n",
       " 'Topic': 'Titanic',\n",
       " 'Country': 'France',\n",
       " 'Demo': 'Yes'}"
      ]
     },
     "execution_count": 30,
     "metadata": {},
     "output_type": "execute_result"
    }
   ],
   "source": [
    "dataset.tags"
   ]
  },
  {
   "cell_type": "code",
   "execution_count": 31,
   "metadata": {},
   "outputs": [
    {
     "data": {
      "text/plain": [
       "2"
      ]
     },
     "execution_count": 31,
     "metadata": {},
     "output_type": "execute_result"
    }
   ],
   "source": [
    "dataset.version"
   ]
  },
  {
   "cell_type": "markdown",
   "metadata": {},
   "source": [
    "## AutoML\n",
    "\n",
    "Instantiate a AutoMLConfig object. This defines the settings and data used to run the experiment.\n",
    "\n",
    "\n",
    "**_You can find more information about primary metrics_** [here](https://docs.microsoft.com/en-us/azure/machine-learning/service/how-to-configure-auto-train#primary-metric)\n",
    "\n",
    "Documentation AutoMLConfig : https://docs.microsoft.com/en-us/python/api/azureml-train-automl-client/azureml.train.automl.automlconfig.automlconfig?view=azure-ml-py"
   ]
  },
  {
   "cell_type": "code",
   "execution_count": 32,
   "metadata": {},
   "outputs": [],
   "source": [
    "automl_settings = {\n",
    "    \"n_cross_validations\": 3,          # Cross validation\n",
    "    \"primary_metric\": 'precision_score_weighted',      # Metric\n",
    "    \"iterations\": 10,                  # Number of max iterations\n",
    "    \"max_concurrent_iterations\": 4,    # Max concurrent iterations\n",
    "    \"experiment_timeout_minutes\": 15,  # Timeout in minutes full process\n",
    "    \"iteration_timeout_minutes\": 5,    # Timeout per iteration\n",
    "    \"enable_early_stopping\": True,     # Early Stopping\n",
    "    \"verbosity\": logging.INFO,         # Verbosity\n",
    "    \"featurization\": 'auto',           # Data Engineering preprocess\n",
    "    \"enable_stack_ensemble\": False,    # No Stack ensemble modelling\n",
    "    \"enable_voting_ensemble\" : False,  # No Vote ensemble modelling\n",
    "    }\n",
    "\n",
    "automl_config = AutoMLConfig(task = 'classification',               # Classification, Regression or Forecasting AutoML task\n",
    "                             debug_log = 'automl.log',              # Log file\n",
    "                             blocked_models=['XGBoostClassifier'],  # Models to exclude if needed.\n",
    "                             compute_target = compute_target,       # Compute Target to use\n",
    "                             training_data = training_data,         # Training dataset to use\n",
    "                             label_column_name = label_column_name, # Target variable to explain\n",
    "                             **automl_settings                      # Additional settings\n",
    "                            )"
   ]
  },
  {
   "cell_type": "markdown",
   "metadata": {},
   "source": [
    "Call the `submit` method on the experiment object and pass the run configuration. Depending on the data and the number of iterations this can run for a while. Validation errors and current status will be shown when setting `show_output=True` and the execution will be synchronous."
   ]
  },
  {
   "cell_type": "code",
   "execution_count": 33,
   "metadata": {},
   "outputs": [
    {
     "name": "stdout",
     "output_type": "stream",
     "text": [
      "Submitting remote run.\n",
      "No run_configuration provided, running on automlclus222606 with default configuration\n",
      "Running on remote compute: automlclus222606\n"
     ]
    },
    {
     "data": {
      "text/html": [
       "<table style=\"width:100%\"><tr><th>Experiment</th><th>Id</th><th>Type</th><th>Status</th><th>Details Page</th><th>Docs Page</th></tr><tr><td>Lab2-AutoML</td><td>AutoML_1a520446-53de-45ed-8114-0ffff381fa82</td><td>automl</td><td>NotStarted</td><td><a href=\"https://ml.azure.com/runs/AutoML_1a520446-53de-45ed-8114-0ffff381fa82?wsid=/subscriptions/70b8f39e-8863-49f7-b6ba-34a80799550c/resourcegroups/AMLworkshop-rg/workspaces/AMLworkshop&amp;tid=72f988bf-86f1-41af-91ab-2d7cd011db47\" target=\"_blank\" rel=\"noopener\">Link to Azure Machine Learning studio</a></td><td><a href=\"https://docs.microsoft.com/en-us/python/api/overview/azure/ml/intro?view=azure-ml-py\" target=\"_blank\" rel=\"noopener\">Link to Documentation</a></td></tr></table>"
      ],
      "text/plain": [
       "<IPython.core.display.HTML object>"
      ]
     },
     "metadata": {},
     "output_type": "display_data"
    },
    {
     "name": "stdout",
     "output_type": "stream",
     "text": [
      "\n",
      "Current status: FeaturesGeneration. Generating features for the dataset.\n",
      "Current status: ModelSelection. Beginning model selection.\n",
      "\n",
      "****************************************************************************************************\n",
      "DATA GUARDRAILS: \n",
      "\n",
      "TYPE:         Class balancing detection\n",
      "STATUS:       PASSED\n",
      "DESCRIPTION:  Your inputs were analyzed, and all classes are balanced in your training data.\n",
      "              Learn more about imbalanced data: https://aka.ms/AutomatedMLImbalancedData\n",
      "\n",
      "****************************************************************************************************\n",
      "\n",
      "TYPE:         Missing feature values imputation\n",
      "STATUS:       DONE\n",
      "DESCRIPTION:  If the missing values are expected, let the run complete. Otherwise cancel the current run and use a script to customize the handling of missing feature values that may be more appropriate based on the data type and business requirement.\n",
      "              Learn more about missing value imputation: https://aka.ms/AutomatedMLFeaturization\n",
      "DETAILS:      \n",
      "+---------------------------------+---------------------------------+---------------------------------+\n",
      "|Column name                      |Missing value count              |Imputation type                  |\n",
      "+=================================+=================================+=================================+\n",
      "|Age                              |142                              |mean                             |\n",
      "|Embarked                         |2                                |                                 |\n",
      "+---------------------------------+---------------------------------+---------------------------------+\n",
      "\n",
      "****************************************************************************************************\n",
      "\n",
      "TYPE:         High cardinality feature detection\n",
      "STATUS:       DONE\n",
      "DESCRIPTION:  High cardinality features were detected in your inputs and handled.\n",
      "              Learn more about high cardinality feature handling: https://aka.ms/AutomatedMLFeaturization\n",
      "DETAILS:      High cardinality features refer to columns that contain a large percentage of unique values.\n",
      "+---------------------------------+---------------------------------+\n",
      "|Column name                      |Column Content Type              |\n",
      "+=================================+=================================+\n",
      "|Name                             |text                             |\n",
      "+---------------------------------+---------------------------------+\n",
      "\n",
      "****************************************************************************************************\n",
      "\n",
      "****************************************************************************************************\n",
      "ITERATION: The iteration being evaluated.\n",
      "PIPELINE: A summary description of the pipeline being evaluated.\n",
      "DURATION: Time taken for the current iteration.\n",
      "METRIC: The result of computing score on the fitted pipeline.\n",
      "BEST: The best observed score thus far.\n",
      "****************************************************************************************************\n",
      "\n",
      " ITERATION   PIPELINE                                       DURATION      METRIC      BEST\n",
      "         3   MaxAbsScaler RandomForest                      0:00:55       0.7840    0.7840\n",
      "         1   MaxAbsScaler RandomForest                      0:00:56       0.7543    0.7840\n",
      "         0   MaxAbsScaler LightGBM                          0:01:40       0.7901    0.7901\n",
      "         2   MaxAbsScaler RandomForest                      0:01:49       0.4790    0.7901\n",
      "         4   MaxAbsScaler RandomForest                      0:01:40       0.7824    0.7901\n",
      "         5   MaxAbsScaler RandomForest                      0:00:54       0.7841    0.7901\n",
      "         6   MaxAbsScaler RandomForest                      0:00:52       0.7876    0.7901\n",
      "         7   MaxAbsScaler LightGBM                          0:00:56       0.7998    0.7998\n",
      "         8   MaxAbsScaler SGD                               0:00:52       0.7886    0.7998\n",
      "         9   TruncatedSVDWrapper LogisticRegression         0:00:53       0.8012    0.8012\n"
     ]
    }
   ],
   "source": [
    "remote_run = experiment.submit(automl_config, show_output = True)"
   ]
  },
  {
   "cell_type": "code",
   "execution_count": 38,
   "metadata": {},
   "outputs": [
    {
     "data": {
      "text/plain": [
       "<bound method Run.get_status of Run(Experiment: Lab2-AutoML,\n",
       "Id: AutoML_1a520446-53de-45ed-8114-0ffff381fa82,\n",
       "Type: automl,\n",
       "Status: Completed)>"
      ]
     },
     "execution_count": 38,
     "metadata": {},
     "output_type": "execute_result"
    }
   ],
   "source": [
    "remote_run.get_status"
   ]
  },
  {
   "cell_type": "code",
   "execution_count": 39,
   "metadata": {},
   "outputs": [],
   "source": [
    "#remote_run.wait_for_completion(show_output=False)"
   ]
  },
  {
   "cell_type": "code",
   "execution_count": 40,
   "metadata": {},
   "outputs": [
    {
     "data": {
      "text/html": [
       "<table style=\"width:100%\"><tr><th>Experiment</th><th>Id</th><th>Type</th><th>Status</th><th>Details Page</th><th>Docs Page</th></tr><tr><td>Lab2-AutoML</td><td>AutoML_1a520446-53de-45ed-8114-0ffff381fa82</td><td>automl</td><td>Completed</td><td><a href=\"https://ml.azure.com/runs/AutoML_1a520446-53de-45ed-8114-0ffff381fa82?wsid=/subscriptions/70b8f39e-8863-49f7-b6ba-34a80799550c/resourcegroups/AMLworkshop-rg/workspaces/AMLworkshop&amp;tid=72f988bf-86f1-41af-91ab-2d7cd011db47\" target=\"_blank\" rel=\"noopener\">Link to Azure Machine Learning studio</a></td><td><a href=\"https://docs.microsoft.com/en-us/python/api/overview/azure/ml/intro?view=azure-ml-py\" target=\"_blank\" rel=\"noopener\">Link to Documentation</a></td></tr></table>"
      ],
      "text/plain": [
       "Run(Experiment: Lab2-AutoML,\n",
       "Id: AutoML_1a520446-53de-45ed-8114-0ffff381fa82,\n",
       "Type: automl,\n",
       "Status: Completed)"
      ]
     },
     "execution_count": 40,
     "metadata": {},
     "output_type": "execute_result"
    }
   ],
   "source": [
    "remote_run"
   ]
  },
  {
   "cell_type": "code",
   "execution_count": 41,
   "metadata": {},
   "outputs": [
    {
     "name": "stdout",
     "output_type": "stream",
     "text": [
      "Run ID: AutoML_1a520446-53de-45ed-8114-0ffff381fa82\n",
      "Run ID: AutoML_d5f56a31-65ce-4edc-bf99-a15e25149502\n",
      "Run ID: AutoML_54fee7ef-3c07-4da3-b4a4-5b0c945897ce\n",
      "Run ID: AutoML_435fc678-9cbe-4220-8dff-fe477f4d3c40\n",
      "Run ID: AutoML_bc759f61-36cf-48ec-9771-9cda172112fe\n",
      "Run ID: AutoML_acf9e3d4-9282-40e7-9b66-10935cfff3f9\n",
      "Run ID: AutoML_4a6a4d43-fe80-4cf3-8be0-abcb6be5f844\n",
      "Run ID: AutoML_17ac028c-4881-4934-9c81-5a5217708f4f\n",
      "Run ID: AutoML_a8a7acd2-7ccb-4130-b678-bf7845354aa3\n",
      "Run ID: AutoML_1e7d8f36-3d76-4dc3-a326-0de36cfdd9d8\n",
      "Run ID: AutoML_061cf663-b190-4cad-a9ec-a1dab853bc46\n",
      "Run ID: AutoML_6f863afc-6b15-4437-b98e-b5fc9e9264d0\n",
      "Run ID: AutoML_6f49c184-0bd2-44d7-bc0f-dcf3c3f0073b\n",
      "Run ID: AutoML_2594582d-e975-4755-a32d-ef61712881a5\n",
      "Run ID: AutoML_ceac0041-3667-4abf-a8bf-4fc2f3887d8c\n",
      "Run ID: AutoML_d70d9de3-6577-410f-ae0d-2c226350c2b5\n",
      "Run ID: AutoML_036a4b20-2692-45f1-80ed-1a53bd81c9ae\n",
      "Run ID: AutoML_3c4efcf1-739e-46fa-823d-e0d4ad69ac3d\n",
      "Run ID: AutoML_61389ec3-6330-48bd-a1ad-54d557c87bf9\n",
      "Run ID: AutoML_4037e500-3027-4f0d-8f7c-61763f87918b\n"
     ]
    }
   ],
   "source": [
    "# We can have the list of all the runs from the current experiment\n",
    "list_runs = experiment.get_runs()\n",
    "\n",
    "for run in list_runs:\n",
    "    print('Run ID:', run.id)"
   ]
  },
  {
   "cell_type": "markdown",
   "metadata": {},
   "source": [
    "## Results"
   ]
  },
  {
   "cell_type": "markdown",
   "metadata": {},
   "source": [
    "#### Widget for Monitoring Runs\n",
    "\n",
    "The widget will first report a \"loading\" status while running the first iteration. After completing the first iteration, an auto-updating graph and table will be shown. The widget will refresh once per minute, so you should see the graph update as child runs complete.\n",
    "\n",
    "**Note:** The widget displays a link at the bottom. Use this link to open a web interface to explore the individual run details"
   ]
  },
  {
   "cell_type": "code",
   "execution_count": 42,
   "metadata": {
    "tags": [
     "widget-rundetails-sample"
    ]
   },
   "outputs": [
    {
     "data": {
      "application/vnd.jupyter.widget-view+json": {
       "model_id": "909c1235da324ff3842352bceaad30e5",
       "version_major": 2,
       "version_minor": 0
      },
      "text/plain": [
       "_AutoMLWidget(widget_settings={'childWidgetDisplay': 'popup', 'send_telemetry': False, 'log_level': 'INFO', 's…"
      ]
     },
     "metadata": {},
     "output_type": "display_data"
    },
    {
     "data": {
      "application/aml.mini.widget.v1": "{\"status\": \"Completed\", \"workbench_run_details_uri\": \"https://ml.azure.com/runs/AutoML_1a520446-53de-45ed-8114-0ffff381fa82?wsid=/subscriptions/70b8f39e-8863-49f7-b6ba-34a80799550c/resourcegroups/AMLworkshop-rg/workspaces/AMLworkshop&tid=72f988bf-86f1-41af-91ab-2d7cd011db47\", \"run_id\": \"AutoML_1a520446-53de-45ed-8114-0ffff381fa82\", \"run_properties\": {\"run_id\": \"AutoML_1a520446-53de-45ed-8114-0ffff381fa82\", \"created_utc\": \"2021-06-03T16:00:53.715423Z\", \"properties\": {\"num_iterations\": \"10\", \"training_type\": \"TrainFull\", \"acquisition_function\": \"EI\", \"primary_metric\": \"precision_score_weighted\", \"train_split\": \"0\", \"acquisition_parameter\": \"0\", \"num_cross_validation\": \"3\", \"target\": \"automlclus222606\", \"AMLSettingsJsonString\": \"{\\\"path\\\":null,\\\"name\\\":\\\"Lab2-AutoML\\\",\\\"subscription_id\\\":\\\"70b8f39e-8863-49f7-b6ba-34a80799550c\\\",\\\"resource_group\\\":\\\"AMLworkshop-rg\\\",\\\"workspace_name\\\":\\\"AMLworkshop\\\",\\\"region\\\":\\\"westeurope\\\",\\\"compute_target\\\":\\\"automlclus222606\\\",\\\"spark_service\\\":null,\\\"azure_service\\\":\\\"remote\\\",\\\"many_models\\\":false,\\\"pipeline_fetch_max_batch_size\\\":1,\\\"enable_batch_run\\\":false,\\\"enable_run_restructure\\\":false,\\\"start_auxiliary_runs_before_parent_complete\\\":false,\\\"enable_code_generation\\\":false,\\\"iterations\\\":10,\\\"primary_metric\\\":\\\"precision_score_weighted\\\",\\\"task_type\\\":\\\"classification\\\",\\\"data_script\\\":null,\\\"test_size\\\":0.0,\\\"validation_size\\\":0.0,\\\"n_cross_validations\\\":3,\\\"y_min\\\":null,\\\"y_max\\\":null,\\\"num_classes\\\":null,\\\"featurization\\\":\\\"auto\\\",\\\"_ignore_package_version_incompatibilities\\\":false,\\\"is_timeseries\\\":false,\\\"max_cores_per_iteration\\\":1,\\\"max_concurrent_iterations\\\":4,\\\"iteration_timeout_minutes\\\":5,\\\"mem_in_mb\\\":null,\\\"enforce_time_on_windows\\\":false,\\\"experiment_timeout_minutes\\\":15,\\\"experiment_exit_score\\\":null,\\\"whitelist_models\\\":null,\\\"blacklist_algos\\\":[\\\"XGBoostClassifier\\\",\\\"TensorFlowLinearClassifier\\\",\\\"TensorFlowDNN\\\"],\\\"supported_models\\\":[\\\"XGBoostClassifier\\\",\\\"AveragedPerceptronClassifier\\\",\\\"ExtremeRandomTrees\\\",\\\"SGD\\\",\\\"RandomForest\\\",\\\"LightGBM\\\",\\\"GradientBoosting\\\",\\\"SVM\\\",\\\"TensorFlowDNN\\\",\\\"KNN\\\",\\\"DecisionTree\\\",\\\"TensorFlowLinearClassifier\\\",\\\"MultinomialNaiveBayes\\\",\\\"LogisticRegression\\\",\\\"BernoulliNaiveBayes\\\",\\\"LinearSVM\\\"],\\\"private_models\\\":[],\\\"auto_blacklist\\\":true,\\\"blacklist_samples_reached\\\":false,\\\"exclude_nan_labels\\\":true,\\\"verbosity\\\":20,\\\"_debug_log\\\":\\\"azureml_automl.log\\\",\\\"show_warnings\\\":false,\\\"model_explainability\\\":true,\\\"service_url\\\":null,\\\"sdk_url\\\":null,\\\"sdk_packages\\\":null,\\\"enable_onnx_compatible_models\\\":false,\\\"enable_split_onnx_featurizer_estimator_models\\\":false,\\\"vm_type\\\":\\\"STANDARD_F4S_V2\\\",\\\"telemetry_verbosity\\\":20,\\\"send_telemetry\\\":true,\\\"enable_dnn\\\":false,\\\"scenario\\\":\\\"SDK-1.13.0\\\",\\\"environment_label\\\":null,\\\"save_mlflow\\\":false,\\\"force_text_dnn\\\":false,\\\"enable_feature_sweeping\\\":true,\\\"enable_early_stopping\\\":true,\\\"early_stopping_n_iters\\\":10,\\\"metrics\\\":null,\\\"enable_metric_confidence\\\":false,\\\"enable_ensembling\\\":false,\\\"enable_stack_ensembling\\\":false,\\\"ensemble_iterations\\\":10,\\\"enable_tf\\\":false,\\\"enable_subsampling\\\":false,\\\"subsample_seed\\\":null,\\\"enable_nimbusml\\\":false,\\\"enable_streaming\\\":false,\\\"force_streaming\\\":false,\\\"track_child_runs\\\":true,\\\"allowed_private_models\\\":[],\\\"label_column_name\\\":\\\"Survived\\\",\\\"weight_column_name\\\":null,\\\"cv_split_column_names\\\":null,\\\"enable_local_managed\\\":false,\\\"_local_managed_run_id\\\":null,\\\"cost_mode\\\":1,\\\"lag_length\\\":0,\\\"metric_operation\\\":\\\"maximize\\\",\\\"preprocess\\\":true}\", \"DataPrepJsonString\": \"{\\\\\\\"training_data\\\\\\\": {\\\\\\\"datasetId\\\\\\\": \\\\\\\"2f3ab442-0fb5-4780-83fc-7b6403f4d6f1\\\\\\\"}, \\\\\\\"datasets\\\\\\\": 0}\", \"EnableSubsampling\": \"False\", \"runTemplate\": \"AutoML\", \"azureml.runsource\": \"automl\", \"display_task_type\": \"classification\", \"dependencies_versions\": \"{\\\"azureml-widgets\\\": \\\"1.28.0\\\", \\\"azureml-train\\\": \\\"1.28.0\\\", \\\"azureml-train-restclients-hyperdrive\\\": \\\"1.28.0\\\", \\\"azureml-train-core\\\": \\\"1.28.0\\\", \\\"azureml-train-automl\\\": \\\"1.28.0\\\", \\\"azureml-train-automl-runtime\\\": \\\"1.28.0\\\", \\\"azureml-train-automl-client\\\": \\\"1.28.0\\\", \\\"azureml-tensorboard\\\": \\\"1.28.0\\\", \\\"azureml-telemetry\\\": \\\"1.28.0\\\", \\\"azureml-sdk\\\": \\\"1.28.0\\\", \\\"azureml-samples\\\": \\\"0+unknown\\\", \\\"azureml-pipeline\\\": \\\"1.28.0\\\", \\\"azureml-pipeline-steps\\\": \\\"1.28.0\\\", \\\"azureml-pipeline-core\\\": \\\"1.28.0\\\", \\\"azureml-opendatasets\\\": \\\"1.28.0\\\", \\\"azureml-model-management-sdk\\\": \\\"1.0.1b6.post1\\\", \\\"azureml-mlflow\\\": \\\"1.28.0\\\", \\\"azureml-interpret\\\": \\\"1.28.0\\\", \\\"azureml-explain-model\\\": \\\"1.28.0\\\", \\\"azureml-defaults\\\": \\\"1.28.0\\\", \\\"azureml-dataset-runtime\\\": \\\"1.28.0\\\", \\\"azureml-dataprep\\\": \\\"2.15.0\\\", \\\"azureml-dataprep-rslex\\\": \\\"1.13.0\\\", \\\"azureml-dataprep-native\\\": \\\"33.0.0\\\", \\\"azureml-datadrift\\\": \\\"1.28.0\\\", \\\"azureml-core\\\": \\\"1.28.0\\\", \\\"azureml-contrib-services\\\": \\\"1.28.0\\\", \\\"azureml-contrib-server\\\": \\\"1.28.0\\\", \\\"azureml-contrib-reinforcementlearning\\\": \\\"1.28.0\\\", \\\"azureml-contrib-pipeline-steps\\\": \\\"1.28.0\\\", \\\"azureml-contrib-notebook\\\": \\\"1.28.0\\\", \\\"azureml-contrib-gbdt\\\": \\\"1.28.0\\\", \\\"azureml-contrib-fairness\\\": \\\"1.28.0\\\", \\\"azureml-contrib-dataset\\\": \\\"1.28.0\\\", \\\"azureml-cli-common\\\": \\\"1.28.0\\\", \\\"azureml-automl-runtime\\\": \\\"1.28.0.post2\\\", \\\"azureml-automl-dnn-nlp\\\": \\\"1.28.0\\\", \\\"azureml-automl-core\\\": \\\"1.28.0\\\", \\\"azureml-accel-models\\\": \\\"1.28.0\\\"}\", \"_aml_system_scenario_identification\": \"Remote.Parent\", \"ClientType\": \"SDK\", \"environment_cpu_name\": \"AzureML-AutoML\", \"environment_cpu_label\": \"prod\", \"environment_gpu_name\": \"AzureML-AutoML-GPU\", \"environment_gpu_label\": \"prod\", \"root_attribution\": \"automl\", \"attribution\": \"AutoML\", \"Orchestrator\": \"AutoML\", \"CancelUri\": \"https://westeurope.api.azureml.ms/jasmine/v1.0/subscriptions/70b8f39e-8863-49f7-b6ba-34a80799550c/resourceGroups/AMLworkshop-rg/providers/Microsoft.MachineLearningServices/workspaces/AMLworkshop/experimentids/df45fe53-13c0-4fc1-a75b-36c22b379cdc/cancel/AutoML_1a520446-53de-45ed-8114-0ffff381fa82\", \"ClientSdkVersion\": \"1.29.0\", \"snapshotId\": \"00000000-0000-0000-0000-000000000000\", \"SetupRunId\": \"AutoML_1a520446-53de-45ed-8114-0ffff381fa82_setup\", \"SetupRunContainerId\": \"dcid.AutoML_1a520446-53de-45ed-8114-0ffff381fa82_setup\", \"FeaturizationRunJsonPath\": \"featurizer_container.json\", \"FeaturizationRunId\": \"AutoML_1a520446-53de-45ed-8114-0ffff381fa82_featurize\", \"ProblemInfoJsonString\": \"{\\\"dataset_num_categorical\\\": 0, \\\"is_sparse\\\": true, \\\"subsampling\\\": false, \\\"has_extra_col\\\": true, \\\"dataset_classes\\\": 2, \\\"dataset_features\\\": 6146, \\\"dataset_samples\\\": 730, \\\"single_frequency_class_detected\\\": false}\", \"ModelExplainRunId\": \"AutoML_1a520446-53de-45ed-8114-0ffff381fa82_ModelExplain\"}, \"tags\": {\"model_explain_run\": \"best_run\", \"_aml_system_azureml.automlComponent\": \"AutoML\", \"pipeline_id\": \"<cf1dc9b7ea4a50d759bce352343ec6737501695a>;<032c2f067189c1f56172ca21b98c8843539dd9de>;<1fd5868c208aedafb2bfd358f8d40174211c5606>;<5dfac790c5c209f98a1da2dc1c7fb76f0397324f>;<b19eeb61727e9c4fbb5aa45fb6e9fe3fab5b1f04>;<2a4d6884653b914a3c776e7938f6ae32acfc26c6>;<197f7a2c9f73f532dd122984f886bacedf643181>;<8411576228d65def7c19b60f4f63f437dcf2912f>;<9d9aae231358b88cfcfc3810e129cfb4b7b95d09>;<b6fda4855c36d32d9ba9e802a7271a2a0b12297b>;\", \"score\": \"<0.78404223182911>;<0.7543251161065649>;<0.7823711118701978>;<0.7901456421776202>;<0.4789671542121126>;<0.7840965894900039>;<0.7875586690154508>;<0.788638678408467>;<0.7998348069233834>;<0.8011715688683364>;\", \"predicted_cost\": \"<0.5>;<0.5>;<0.019009333333333333>;<0>;<0.5>;<0.026527285160619033>;<0.031834782694650385>;<0.01176855295698154>;<0.044124253708697325>;<0.048137982598779>;\", \"fit_time\": \"<0.019009333333333333>;<0.04792366666666667>;<0.074066>;<0.102742>;<0.037972>;<0.019521>;<0.030459666666666666>;<0.010561000000000001>;<0.029046>;<0.23766066666666666>;\", \"training_percent\": \"<100>;<100>;<100>;<100>;<100>;<100>;<100>;<100>;<100>;<100>;\", \"iteration\": \"<3>;<1>;<4>;<0>;<2>;<5>;<6>;<8>;<7>;<9>;\", \"run_preprocessor\": \"<MaxAbsScaler>;<MaxAbsScaler>;<MaxAbsScaler>;<MaxAbsScaler>;<MaxAbsScaler>;<MaxAbsScaler>;<MaxAbsScaler>;<MaxAbsScaler>;<MaxAbsScaler>;<TruncatedSVDWrapper>;\", \"run_algorithm\": \"<RandomForest>;<RandomForest>;<RandomForest>;<LightGBM>;<RandomForest>;<RandomForest>;<RandomForest>;<SGD>;<LightGBM>;<LogisticRegression>;\", \"automl_best_child_run_id\": \"AutoML_1a520446-53de-45ed-8114-0ffff381fa82_9\", \"model_explain_best_run_child_id\": \"AutoML_1a520446-53de-45ed-8114-0ffff381fa82_9\"}, \"end_time_utc\": \"2021-06-03T16:11:39.776877Z\", \"status\": \"Completed\", \"log_files\": {}, \"log_groups\": [], \"run_duration\": \"0:10:46\", \"run_number\": \"1622736053\", \"run_queued_details\": {\"status\": \"Completed\", \"details\": null}}, \"child_runs\": [{\"run_id\": \"AutoML_1a520446-53de-45ed-8114-0ffff381fa82_3\", \"run_number\": 1622736423, \"metric\": null, \"status\": \"Completed\", \"run_type\": \"azureml.scriptrun\", \"training_percent\": \"100\", \"start_time\": \"2021-06-03T16:07:17.499159Z\", \"end_time\": \"2021-06-03T16:08:12.887045Z\", \"created_time\": \"2021-06-03T16:07:03.254713Z\", \"created_time_dt\": \"2021-06-03T16:07:03.254713Z\", \"duration\": \"0:01:09\", \"iteration\": \"3\", \"goal\": \"precision_score_weighted_max\", \"run_name\": \"MaxAbsScaler, RandomForest\", \"run_properties\": \"copy=True\", \"primary_metric\": 0.78404223, \"best_metric\": 0.78404223}, {\"run_id\": \"AutoML_1a520446-53de-45ed-8114-0ffff381fa82_2\", \"run_number\": 1622736424, \"metric\": null, \"status\": \"Completed\", \"run_type\": \"azureml.scriptrun\", \"training_percent\": \"100\", \"start_time\": \"2021-06-03T16:08:33.469735Z\", \"end_time\": \"2021-06-03T16:10:22.730753Z\", \"created_time\": \"2021-06-03T16:07:03.25705Z\", \"created_time_dt\": \"2021-06-03T16:07:03.25705Z\", \"duration\": \"0:03:19\", \"iteration\": \"2\", \"goal\": \"precision_score_weighted_max\", \"run_name\": \"MaxAbsScaler, RandomForest\", \"run_properties\": \"copy=True\", \"primary_metric\": 0.47896715, \"best_metric\": 0.47896715}, {\"run_id\": \"AutoML_1a520446-53de-45ed-8114-0ffff381fa82_4\", \"run_number\": 1622736495, \"metric\": null, \"status\": \"Completed\", \"run_type\": \"azureml.scriptrun\", \"training_percent\": \"100\", \"start_time\": \"2021-06-03T16:08:35.232016Z\", \"end_time\": \"2021-06-03T16:10:15.505986Z\", \"created_time\": \"2021-06-03T16:08:15.587829Z\", \"created_time_dt\": \"2021-06-03T16:08:15.587829Z\", \"duration\": \"0:01:59\", \"iteration\": \"4\", \"goal\": \"precision_score_weighted_max\", \"run_name\": \"MaxAbsScaler, RandomForest\", \"run_properties\": \"copy=True\", \"primary_metric\": 0.78237111, \"best_metric\": 0.78404223}, {\"run_id\": \"AutoML_1a520446-53de-45ed-8114-0ffff381fa82_5\", \"run_number\": 1622736566, \"metric\": null, \"status\": \"Completed\", \"run_type\": \"azureml.scriptrun\", \"training_percent\": \"100\", \"start_time\": \"2021-06-03T16:09:36.292638Z\", \"end_time\": \"2021-06-03T16:10:30.151235Z\", \"created_time\": \"2021-06-03T16:09:26.321233Z\", \"created_time_dt\": \"2021-06-03T16:09:26.321233Z\", \"duration\": \"0:01:03\", \"iteration\": \"5\", \"goal\": \"precision_score_weighted_max\", \"run_name\": \"MaxAbsScaler, RandomForest\", \"run_properties\": \"copy=True\", \"primary_metric\": 0.78409659, \"best_metric\": 0.78409659}, {\"run_id\": \"AutoML_1a520446-53de-45ed-8114-0ffff381fa82_6\", \"run_number\": 1622736618, \"metric\": null, \"status\": \"Completed\", \"run_type\": \"azureml.scriptrun\", \"training_percent\": \"100\", \"start_time\": \"2021-06-03T16:10:28.683756Z\", \"end_time\": \"2021-06-03T16:11:20.186667Z\", \"created_time\": \"2021-06-03T16:10:18.337462Z\", \"created_time_dt\": \"2021-06-03T16:10:18.337462Z\", \"duration\": \"0:01:01\", \"iteration\": \"6\", \"goal\": \"precision_score_weighted_max\", \"run_name\": \"MaxAbsScaler, RandomForest\", \"run_properties\": \"copy=True\", \"primary_metric\": 0.78755867, \"best_metric\": 0.78755867}, {\"run_id\": \"AutoML_1a520446-53de-45ed-8114-0ffff381fa82_7\", \"run_number\": 1622736622, \"metric\": null, \"status\": \"Completed\", \"run_type\": \"azureml.scriptrun\", \"training_percent\": \"100\", \"start_time\": \"2021-06-03T16:10:38.117234Z\", \"end_time\": \"2021-06-03T16:11:34.143775Z\", \"created_time\": \"2021-06-03T16:10:22.575721Z\", \"created_time_dt\": \"2021-06-03T16:10:22.575721Z\", \"duration\": \"0:01:11\", \"iteration\": \"7\", \"goal\": \"precision_score_weighted_max\", \"run_name\": \"MaxAbsScaler, LightGBM\", \"run_properties\": \"copy=True\", \"primary_metric\": 0.79983481, \"best_metric\": 0.79983481}, {\"run_id\": \"AutoML_1a520446-53de-45ed-8114-0ffff381fa82_9\", \"run_number\": 1622736634, \"metric\": null, \"status\": \"Completed\", \"run_type\": \"azureml.scriptrun\", \"training_percent\": \"100\", \"start_time\": \"2021-06-03T16:10:41.755142Z\", \"end_time\": \"2021-06-03T16:11:34.818136Z\", \"created_time\": \"2021-06-03T16:10:34.143512Z\", \"created_time_dt\": \"2021-06-03T16:10:34.143512Z\", \"duration\": \"0:01:00\", \"iteration\": \"9\", \"goal\": \"precision_score_weighted_max\", \"run_name\": \"TruncatedSVDWrapper, LogisticRegression\", \"run_properties\": \"n_components=0.95, random_state=None\", \"primary_metric\": 0.80117157, \"best_metric\": 0.80117157}], \"children_metrics\": {\"categories\": [0], \"series\": {\"weighted_accuracy\": [{\"categories\": [\"2\", \"3\", \"4\", \"5\", \"6\", \"7\", \"9\"], \"mode\": \"markers\", \"name\": \"weighted_accuracy\", \"stepped\": false, \"type\": \"scatter\", \"data\": [0.7254492908766877, 0.7978730266222928, 0.7807131240724295, 0.7855962800212014, 0.7857350870322263, 0.8190785875641042, 0.8149176562646264]}, {\"categories\": [\"2\", \"3\", \"4\", \"5\", \"6\", \"7\", \"9\"], \"mode\": \"lines\", \"name\": \"weighted_accuracy_max\", \"stepped\": true, \"type\": \"scatter\", \"data\": [0.7254492908766877, 0.7978730266222928, 0.7978730266222928, 0.7978730266222928, 0.7978730266222928, 0.8190785875641042, 0.8190785875641042]}], \"matthews_correlation\": [{\"categories\": [\"2\", \"3\", \"4\", \"5\", \"6\", \"7\", \"9\"], \"mode\": \"markers\", \"name\": \"matthews_correlation\", \"stepped\": false, \"type\": \"scatter\", \"data\": [0.09982288952223208, 0.5390394776849371, 0.5378952194456527, 0.5413666700187092, 0.5469742137291108, 0.5705087609298752, 0.5739898149748536]}, {\"categories\": [\"2\", \"3\", \"4\", \"5\", \"6\", \"7\", \"9\"], \"mode\": \"lines\", \"name\": \"matthews_correlation_max\", \"stepped\": true, \"type\": \"scatter\", \"data\": [0.09982288952223208, 0.5390394776849371, 0.5390394776849371, 0.5413666700187092, 0.5469742137291108, 0.5705087609298752, 0.5739898149748536]}], \"AUC_weighted\": [{\"categories\": [\"2\", \"3\", \"4\", \"5\", \"6\", \"7\", \"9\"], \"mode\": \"markers\", \"name\": \"AUC_weighted\", \"stepped\": false, \"type\": \"scatter\", \"data\": [0.7992302607348187, 0.8301896992342469, 0.832369915993497, 0.8139359788181597, 0.8417824722004289, 0.8522219246118455, 0.8501241668166332]}, {\"categories\": [\"2\", \"3\", \"4\", \"5\", \"6\", \"7\", \"9\"], \"mode\": \"lines\", \"name\": \"AUC_weighted_max\", \"stepped\": true, \"type\": \"scatter\", \"data\": [0.7992302607348187, 0.8301896992342469, 0.832369915993497, 0.832369915993497, 0.8417824722004289, 0.8522219246118455, 0.8522219246118455]}], \"AUC_macro\": [{\"categories\": [\"2\", \"3\", \"4\", \"5\", \"6\", \"7\", \"9\"], \"mode\": \"markers\", \"name\": \"AUC_macro\", \"stepped\": false, \"type\": \"scatter\", \"data\": [0.7992302607348187, 0.8301896992342469, 0.832369915993497, 0.8139359788181597, 0.8417824722004289, 0.8522219246118454, 0.8501241668166332]}, {\"categories\": [\"2\", \"3\", \"4\", \"5\", \"6\", \"7\", \"9\"], \"mode\": \"lines\", \"name\": \"AUC_macro_max\", \"stepped\": true, \"type\": \"scatter\", \"data\": [0.7992302607348187, 0.8301896992342469, 0.832369915993497, 0.832369915993497, 0.8417824722004289, 0.8522219246118454, 0.8522219246118454]}], \"accuracy\": [{\"categories\": [\"2\", \"3\", \"4\", \"5\", \"6\", \"7\", \"9\"], \"mode\": \"markers\", \"name\": \"accuracy\", \"stepped\": false, \"type\": \"scatter\", \"data\": [0.6369099822348153, 0.782179720704311, 0.7767096179360903, 0.7794474802671525, 0.7808360880613461, 0.7986406260541051, 0.7986293822662979]}, {\"categories\": [\"2\", \"3\", \"4\", \"5\", \"6\", \"7\", \"9\"], \"mode\": \"lines\", \"name\": \"accuracy_max\", \"stepped\": true, \"type\": \"scatter\", \"data\": [0.6369099822348153, 0.782179720704311, 0.782179720704311, 0.782179720704311, 0.782179720704311, 0.7986406260541051, 0.7986406260541051]}], \"f1_score_macro\": [{\"categories\": [\"2\", \"3\", \"4\", \"5\", \"6\", \"7\", \"9\"], \"mode\": \"markers\", \"name\": \"f1_score_macro\", \"stepped\": false, \"type\": \"scatter\", \"data\": [0.45520053034887903, 0.766115301927706, 0.7672325852749928, 0.7689687252800188, 0.7706466004707361, 0.7806809998747593, 0.7832894660605335]}, {\"categories\": [\"2\", \"3\", \"4\", \"5\", \"6\", \"7\", \"9\"], \"mode\": \"lines\", \"name\": \"f1_score_macro_max\", \"stepped\": true, \"type\": \"scatter\", \"data\": [0.45520053034887903, 0.766115301927706, 0.7672325852749928, 0.7689687252800188, 0.7706466004707361, 0.7806809998747593, 0.7832894660605335]}], \"recall_score_weighted\": [{\"categories\": [\"2\", \"3\", \"4\", \"5\", \"6\", \"7\", \"9\"], \"mode\": \"markers\", \"name\": \"recall_score_weighted\", \"stepped\": false, \"type\": \"scatter\", \"data\": [0.6369099822348153, 0.782179720704311, 0.7767096179360903, 0.7794474802671525, 0.7808360880613461, 0.7986406260541051, 0.7986293822662979]}, {\"categories\": [\"2\", \"3\", \"4\", \"5\", \"6\", \"7\", \"9\"], \"mode\": \"lines\", \"name\": \"recall_score_weighted_max\", \"stepped\": true, \"type\": \"scatter\", \"data\": [0.6369099822348153, 0.782179720704311, 0.782179720704311, 0.782179720704311, 0.782179720704311, 0.7986406260541051, 0.7986406260541051]}], \"average_precision_score_macro\": [{\"categories\": [\"2\", \"3\", \"4\", \"5\", \"6\", \"7\", \"9\"], \"mode\": \"markers\", \"name\": \"average_precision_score_macro\", \"stepped\": false, \"type\": \"scatter\", \"data\": [0.7668928465567948, 0.8094634734315277, 0.8213013941044561, 0.7832074012150527, 0.8373137803167072, 0.8426029540610834, 0.8449692062424937]}, {\"categories\": [\"2\", \"3\", \"4\", \"5\", \"6\", \"7\", \"9\"], \"mode\": \"lines\", \"name\": \"average_precision_score_macro_max\", \"stepped\": true, \"type\": \"scatter\", \"data\": [0.7668928465567948, 0.8094634734315277, 0.8213013941044561, 0.8213013941044561, 0.8373137803167072, 0.8426029540610834, 0.8449692062424937]}], \"recall_score_micro\": [{\"categories\": [\"2\", \"3\", \"4\", \"5\", \"6\", \"7\", \"9\"], \"mode\": \"markers\", \"name\": \"recall_score_micro\", \"stepped\": false, \"type\": \"scatter\", \"data\": [0.6369099822348153, 0.782179720704311, 0.7767096179360903, 0.7794474802671525, 0.7808360880613461, 0.7986406260541051, 0.7986293822662979]}, {\"categories\": [\"2\", \"3\", \"4\", \"5\", \"6\", \"7\", \"9\"], \"mode\": \"lines\", \"name\": \"recall_score_micro_max\", \"stepped\": true, \"type\": \"scatter\", \"data\": [0.6369099822348153, 0.782179720704311, 0.782179720704311, 0.782179720704311, 0.782179720704311, 0.7986406260541051, 0.7986406260541051]}], \"precision_score_micro\": [{\"categories\": [\"2\", \"3\", \"4\", \"5\", \"6\", \"7\", \"9\"], \"mode\": \"markers\", \"name\": \"precision_score_micro\", \"stepped\": false, \"type\": \"scatter\", \"data\": [0.6369099822348153, 0.782179720704311, 0.7767096179360903, 0.7794474802671525, 0.7808360880613461, 0.7986406260541051, 0.7986293822662979]}, {\"categories\": [\"2\", \"3\", \"4\", \"5\", \"6\", \"7\", \"9\"], \"mode\": \"lines\", \"name\": \"precision_score_micro_max\", \"stepped\": true, \"type\": \"scatter\", \"data\": [0.6369099822348153, 0.782179720704311, 0.782179720704311, 0.782179720704311, 0.782179720704311, 0.7986406260541051, 0.7986406260541051]}], \"norm_macro_recall\": [{\"categories\": [\"2\", \"3\", \"4\", \"5\", \"6\", \"7\", \"9\"], \"mode\": \"markers\", \"name\": \"norm_macro_recall\", \"stepped\": false, \"type\": \"scatter\", \"data\": [0.07642031171442938, 0.5298692392345642, 0.5448278859656569, 0.5455727837693782, 0.5512741400899295, 0.5520831292890116, 0.5613827750050661]}, {\"categories\": [\"2\", \"3\", \"4\", \"5\", \"6\", \"7\", \"9\"], \"mode\": \"lines\", \"name\": \"norm_macro_recall_max\", \"stepped\": true, \"type\": \"scatter\", \"data\": [0.07642031171442938, 0.5298692392345642, 0.5448278859656569, 0.5455727837693782, 0.5512741400899295, 0.5520831292890116, 0.5613827750050661]}], \"AUC_micro\": [{\"categories\": [\"2\", \"3\", \"4\", \"5\", \"6\", \"7\", \"9\"], \"mode\": \"markers\", \"name\": \"AUC_micro\", \"stepped\": false, \"type\": \"scatter\", \"data\": [0.7635363592004003, 0.8433279483948811, 0.8343678437335503, 0.8192707841303836, 0.8489082617881247, 0.8668480725495096, 0.8627995707879896]}, {\"categories\": [\"2\", \"3\", \"4\", \"5\", \"6\", \"7\", \"9\"], \"mode\": \"lines\", \"name\": \"AUC_micro_max\", \"stepped\": true, \"type\": \"scatter\", \"data\": [0.7635363592004003, 0.8433279483948811, 0.8433279483948811, 0.8433279483948811, 0.8489082617881247, 0.8668480725495096, 0.8668480725495096]}], \"recall_score_macro\": [{\"categories\": [\"2\", \"3\", \"4\", \"5\", \"6\", \"7\", \"9\"], \"mode\": \"markers\", \"name\": \"recall_score_macro\", \"stepped\": false, \"type\": \"scatter\", \"data\": [0.5382101558572147, 0.7649346196172822, 0.7724139429828285, 0.7727863918846891, 0.7756370700449647, 0.7760415646445059, 0.7806913875025329]}, {\"categories\": [\"2\", \"3\", \"4\", \"5\", \"6\", \"7\", \"9\"], \"mode\": \"lines\", \"name\": \"recall_score_macro_max\", \"stepped\": true, \"type\": \"scatter\", \"data\": [0.5382101558572147, 0.7649346196172822, 0.7724139429828285, 0.7727863918846891, 0.7756370700449647, 0.7760415646445059, 0.7806913875025329]}], \"log_loss\": [{\"categories\": [\"2\", \"3\", \"4\", \"5\", \"6\", \"7\", \"9\"], \"mode\": \"markers\", \"name\": \"log_loss\", \"stepped\": false, \"type\": \"scatter\", \"data\": [0.6049608267596552, 0.5075947969308087, 0.5259840276917891, 0.528536028415968, 0.4925523757962682, 0.4611715620321834, 0.5300148747146466]}, {\"categories\": [\"2\", \"3\", \"4\", \"5\", \"6\", \"7\", \"9\"], \"mode\": \"lines\", \"name\": \"log_loss_min\", \"stepped\": true, \"type\": \"scatter\", \"data\": [0.6049608267596552, 0.5075947969308087, 0.5075947969308087, 0.5075947969308087, 0.4925523757962682, 0.4611715620321834, 0.4611715620321834]}], \"precision_score_weighted\": [{\"categories\": [\"2\", \"3\", \"4\", \"5\", \"6\", \"7\", \"9\"], \"mode\": \"markers\", \"name\": \"precision_score_weighted\", \"stepped\": false, \"type\": \"scatter\", \"data\": [0.4789671542121126, 0.78404223182911, 0.7823711118701978, 0.7840965894900039, 0.7875586690154508, 0.7998348069233834, 0.8011715688683364]}, {\"categories\": [\"2\", \"3\", \"4\", \"5\", \"6\", \"7\", \"9\"], \"mode\": \"lines\", \"name\": \"precision_score_weighted_max\", \"stepped\": true, \"type\": \"scatter\", \"data\": [0.4789671542121126, 0.78404223182911, 0.78404223182911, 0.7840965894900039, 0.7875586690154508, 0.7998348069233834, 0.8011715688683364]}], \"f1_score_weighted\": [{\"categories\": [\"2\", \"3\", \"4\", \"5\", \"6\", \"7\", \"9\"], \"mode\": \"markers\", \"name\": \"f1_score_weighted\", \"stepped\": false, \"type\": \"scatter\", \"data\": [0.5257177364572431, 0.7798167074012762, 0.7779218485958754, 0.7801471739727489, 0.7814996104067738, 0.7948075929911603, 0.7963117458438509]}, {\"categories\": [\"2\", \"3\", \"4\", \"5\", \"6\", \"7\", \"9\"], \"mode\": \"lines\", \"name\": \"f1_score_weighted_max\", \"stepped\": true, \"type\": \"scatter\", \"data\": [0.5257177364572431, 0.7798167074012762, 0.7798167074012762, 0.7801471739727489, 0.7814996104067738, 0.7948075929911603, 0.7963117458438509]}], \"precision_score_macro\": [{\"categories\": [\"2\", \"3\", \"4\", \"5\", \"6\", \"7\", \"9\"], \"mode\": \"markers\", \"name\": \"precision_score_macro\", \"stepped\": false, \"type\": \"scatter\", \"data\": [0.43488057774550154, 0.7745107971158186, 0.7655799416129563, 0.7686896251291303, 0.7715089856145317, 0.7950853018544842, 0.7937746913429587]}, {\"categories\": [\"2\", \"3\", \"4\", \"5\", \"6\", \"7\", \"9\"], \"mode\": \"lines\", \"name\": \"precision_score_macro_max\", \"stepped\": true, \"type\": \"scatter\", \"data\": [0.43488057774550154, 0.7745107971158186, 0.7745107971158186, 0.7745107971158186, 0.7745107971158186, 0.7950853018544842, 0.7950853018544842]}], \"f1_score_micro\": [{\"categories\": [\"2\", \"3\", \"4\", \"5\", \"6\", \"7\", \"9\"], \"mode\": \"markers\", \"name\": \"f1_score_micro\", \"stepped\": false, \"type\": \"scatter\", \"data\": [0.6369099822348153, 0.782179720704311, 0.7767096179360903, 0.7794474802671524, 0.7808360880613461, 0.7986406260541051, 0.7986293822662979]}, {\"categories\": [\"2\", \"3\", \"4\", \"5\", \"6\", \"7\", \"9\"], \"mode\": \"lines\", \"name\": \"f1_score_micro_max\", \"stepped\": true, \"type\": \"scatter\", \"data\": [0.6369099822348153, 0.782179720704311, 0.782179720704311, 0.782179720704311, 0.782179720704311, 0.7986406260541051, 0.7986406260541051]}], \"balanced_accuracy\": [{\"categories\": [\"2\", \"3\", \"4\", \"5\", \"6\", \"7\", \"9\"], \"mode\": \"markers\", \"name\": \"balanced_accuracy\", \"stepped\": false, \"type\": \"scatter\", \"data\": [0.5382101558572147, 0.7649346196172822, 0.7724139429828285, 0.7727863918846891, 0.7756370700449647, 0.7760415646445059, 0.7806913875025329]}, {\"categories\": [\"2\", \"3\", \"4\", \"5\", \"6\", \"7\", \"9\"], \"mode\": \"lines\", \"name\": \"balanced_accuracy_max\", \"stepped\": true, \"type\": \"scatter\", \"data\": [0.5382101558572147, 0.7649346196172822, 0.7724139429828285, 0.7727863918846891, 0.7756370700449647, 0.7760415646445059, 0.7806913875025329]}], \"average_precision_score_micro\": [{\"categories\": [\"2\", \"3\", \"4\", \"5\", \"6\", \"7\", \"9\"], \"mode\": \"markers\", \"name\": \"average_precision_score_micro\", \"stepped\": false, \"type\": \"scatter\", \"data\": [0.7495340442392558, 0.8250142325523754, 0.8208089348041244, 0.7980958964913638, 0.8374599962791313, 0.8460618492673068, 0.8532778065928182]}, {\"categories\": [\"2\", \"3\", \"4\", \"5\", \"6\", \"7\", \"9\"], \"mode\": \"lines\", \"name\": \"average_precision_score_micro_max\", \"stepped\": true, \"type\": \"scatter\", \"data\": [0.7495340442392558, 0.8250142325523754, 0.8250142325523754, 0.8250142325523754, 0.8374599962791313, 0.8460618492673068, 0.8532778065928182]}], \"average_precision_score_weighted\": [{\"categories\": [\"2\", \"3\", \"4\", \"5\", \"6\", \"7\", \"9\"], \"mode\": \"markers\", \"name\": \"average_precision_score_weighted\", \"stepped\": false, \"type\": \"scatter\", \"data\": [0.7803038379787175, 0.8212071509243825, 0.8297034925076704, 0.799432739969078, 0.84334790015011, 0.8485735281514848, 0.8528267935772732]}, {\"categories\": [\"2\", \"3\", \"4\", \"5\", \"6\", \"7\", \"9\"], \"mode\": \"lines\", \"name\": \"average_precision_score_weighted_max\", \"stepped\": true, \"type\": \"scatter\", \"data\": [0.7803038379787175, 0.8212071509243825, 0.8297034925076704, 0.8297034925076704, 0.84334790015011, 0.8485735281514848, 0.8528267935772732]}]}, \"metricName\": null, \"primaryMetricName\": \"precision_score_weighted\", \"showLegend\": false}, \"run_metrics\": [{\"name\": \"experiment_status\", \"run_id\": \"AutoML_1a520446-53de-45ed-8114-0ffff381fa82\", \"categories\": [0, 1, 2, 3, 4, 5, 6, 7, 8, 9, 10, 11, 12, 13], \"series\": [{\"data\": [\"DatasetEvaluation\", \"FeaturesGeneration\", \"DatasetFeaturization\", \"DatasetFeaturizationCompleted\", \"DatasetCrossValidationSplit\", \"ModelSelection\", \"BestRunExplainModel\", \"ModelExplanationDataSetSetup\", \"PickSurrogateModel\", \"EngineeredFeatureExplanations\", \"EngineeredFeatureExplanations\", \"RawFeaturesExplanations\", \"RawFeaturesExplanations\", \"BestRunExplainModel\"]}]}, {\"name\": \"experiment_status_description\", \"run_id\": \"AutoML_1a520446-53de-45ed-8114-0ffff381fa82\", \"categories\": [0, 1, 2, 3, 4, 5, 6, 7, 8, 9, 10, 11, 12, 13], \"series\": [{\"data\": [\"Gathering dataset statistics.\", \"Generating features for the dataset.\", \"Beginning to fit featurizers and featurize the dataset.\", \"Completed fit featurizers and featurizing the dataset.\", \"Generating individually featurized CV splits.\", \"Beginning model selection.\", \"Best run model explanations started\", \"Model explanations data setup completed\", \"Choosing LinearModel as the surrogate model for explanations\", \"Computation of engineered features started\", \"Computation of engineered features completed\", \"Computation of raw features started\", \"Computation of raw features completed\", \"Best run model explanations completed\"]}]}, {\"name\": \"weighted_accuracy\", \"run_id\": \"AutoML_1a520446-53de-45ed-8114-0ffff381fa82\", \"categories\": [0], \"series\": [{\"data\": [0.8149176562646264]}]}, {\"name\": \"recall_score_weighted\", \"run_id\": \"AutoML_1a520446-53de-45ed-8114-0ffff381fa82\", \"categories\": [0], \"series\": [{\"data\": [0.7986293822662979]}]}, {\"name\": \"precision_score_weighted\", \"run_id\": \"AutoML_1a520446-53de-45ed-8114-0ffff381fa82\", \"categories\": [0], \"series\": [{\"data\": [0.8011715688683364]}]}, {\"name\": \"average_precision_score_micro\", \"run_id\": \"AutoML_1a520446-53de-45ed-8114-0ffff381fa82\", \"categories\": [0], \"series\": [{\"data\": [0.8532778065928182]}]}, {\"name\": \"f1_score_micro\", \"run_id\": \"AutoML_1a520446-53de-45ed-8114-0ffff381fa82\", \"categories\": [0], \"series\": [{\"data\": [0.7986293822662979]}]}, {\"name\": \"average_precision_score_weighted\", \"run_id\": \"AutoML_1a520446-53de-45ed-8114-0ffff381fa82\", \"categories\": [0], \"series\": [{\"data\": [0.8528267935772732]}]}, {\"name\": \"AUC_micro\", \"run_id\": \"AutoML_1a520446-53de-45ed-8114-0ffff381fa82\", \"categories\": [0], \"series\": [{\"data\": [0.8627995707879896]}]}, {\"name\": \"log_loss\", \"run_id\": \"AutoML_1a520446-53de-45ed-8114-0ffff381fa82\", \"categories\": [0], \"series\": [{\"data\": [0.5300148747146466]}]}, {\"name\": \"precision_score_micro\", \"run_id\": \"AutoML_1a520446-53de-45ed-8114-0ffff381fa82\", \"categories\": [0], \"series\": [{\"data\": [0.7986293822662979]}]}, {\"name\": \"f1_score_macro\", \"run_id\": \"AutoML_1a520446-53de-45ed-8114-0ffff381fa82\", \"categories\": [0], \"series\": [{\"data\": [0.7832894660605335]}]}, {\"name\": \"precision_score_macro\", \"run_id\": \"AutoML_1a520446-53de-45ed-8114-0ffff381fa82\", \"categories\": [0], \"series\": [{\"data\": [0.7937746913429587]}]}, {\"name\": \"recall_score_micro\", \"run_id\": \"AutoML_1a520446-53de-45ed-8114-0ffff381fa82\", \"categories\": [0], \"series\": [{\"data\": [0.7986293822662979]}]}, {\"name\": \"accuracy\", \"run_id\": \"AutoML_1a520446-53de-45ed-8114-0ffff381fa82\", \"categories\": [0], \"series\": [{\"data\": [0.7986293822662979]}]}, {\"name\": \"AUC_weighted\", \"run_id\": \"AutoML_1a520446-53de-45ed-8114-0ffff381fa82\", \"categories\": [0], \"series\": [{\"data\": [0.8501241668166332]}]}, {\"name\": \"norm_macro_recall\", \"run_id\": \"AutoML_1a520446-53de-45ed-8114-0ffff381fa82\", \"categories\": [0], \"series\": [{\"data\": [0.5613827750050661]}]}, {\"name\": \"average_precision_score_macro\", \"run_id\": \"AutoML_1a520446-53de-45ed-8114-0ffff381fa82\", \"categories\": [0], \"series\": [{\"data\": [0.8449692062424937]}]}, {\"name\": \"balanced_accuracy\", \"run_id\": \"AutoML_1a520446-53de-45ed-8114-0ffff381fa82\", \"categories\": [0], \"series\": [{\"data\": [0.7806913875025329]}]}, {\"name\": \"matthews_correlation\", \"run_id\": \"AutoML_1a520446-53de-45ed-8114-0ffff381fa82\", \"categories\": [0], \"series\": [{\"data\": [0.5739898149748536]}]}, {\"name\": \"f1_score_weighted\", \"run_id\": \"AutoML_1a520446-53de-45ed-8114-0ffff381fa82\", \"categories\": [0], \"series\": [{\"data\": [0.7963117458438509]}]}, {\"name\": \"recall_score_macro\", \"run_id\": \"AutoML_1a520446-53de-45ed-8114-0ffff381fa82\", \"categories\": [0], \"series\": [{\"data\": [0.7806913875025329]}]}, {\"name\": \"AUC_macro\", \"run_id\": \"AutoML_1a520446-53de-45ed-8114-0ffff381fa82\", \"categories\": [0], \"series\": [{\"data\": [0.8501241668166332]}]}], \"run_logs\": \"\\nRun is completed.\", \"graph\": {}, \"widget_settings\": {\"childWidgetDisplay\": \"popup\", \"send_telemetry\": false, \"log_level\": \"INFO\", \"sdk_version\": \"1.28.0\"}, \"loading\": false}"
     },
     "metadata": {},
     "output_type": "display_data"
    }
   ],
   "source": [
    "from azureml.widgets import RunDetails\n",
    "RunDetails(remote_run).show()"
   ]
  },
  {
   "cell_type": "markdown",
   "metadata": {},
   "source": [
    "## Analyze results\n",
    "\n",
    "### Retrieve the Best Model\n",
    "\n",
    "Below we select the best pipeline from our iterations. The `get_output` method returns the best run and the fitted model.  Overloads on `get_output` allow you to retrieve the best run and fitted model for *any* logged metric or for a particular *iteration*."
   ]
  },
  {
   "cell_type": "code",
   "execution_count": 43,
   "metadata": {},
   "outputs": [
    {
     "name": "stderr",
     "output_type": "stream",
     "text": [
      "WARNING:root:The version of the SDK does not match the version the model was trained on.\n",
      "WARNING:root:The consistency in the result may not be guaranteed.\n",
      "WARNING:root:Package:azureml-automl-core, training version:1.29.0, current version:1.28.0\n",
      "Package:azureml-automl-runtime, training version:1.29.0, current version:1.28.0.post2\n",
      "Package:azureml-core, training version:1.29.0, current version:1.28.0\n",
      "Package:azureml-dataset-runtime, training version:1.29.0, current version:1.28.0\n",
      "Package:azureml-defaults, training version:1.29.0, current version:1.28.0\n",
      "Package:azureml-interpret, training version:1.29.0, current version:1.28.0\n",
      "Package:azureml-mlflow, training version:1.29.0, current version:1.28.0\n",
      "Package:azureml-pipeline-core, training version:1.29.0, current version:1.28.0\n",
      "Package:azureml-telemetry, training version:1.29.0, current version:1.28.0\n",
      "Package:azureml-train-automl-client, training version:1.29.0, current version:1.28.0\n",
      "Package:azureml-train-automl-runtime, training version:1.29.0, current version:1.28.0\n",
      "WARNING:root:Please ensure the version of your local conda dependencies match the version on which your model was trained in order to properly retrieve your model.\n"
     ]
    }
   ],
   "source": [
    "best_run, fitted_model = remote_run.get_output()"
   ]
  },
  {
   "cell_type": "markdown",
   "metadata": {},
   "source": [
    "## Test the fitted model\n",
    "\n",
    "Now that the model is trained, split the data in the same way the data was split for training (The difference here is the data is being split locally) and then run the test data through the trained model to get the predicted values."
   ]
  },
  {
   "cell_type": "code",
   "execution_count": 44,
   "metadata": {},
   "outputs": [],
   "source": [
    "X_test_df = validation_data.drop_columns(columns=[label_column_name]).to_pandas_dataframe()\n",
    "y_test_df = validation_data.keep_columns(columns=[label_column_name], validate=True).to_pandas_dataframe()"
   ]
  },
  {
   "cell_type": "code",
   "execution_count": 45,
   "metadata": {},
   "outputs": [
    {
     "data": {
      "text/plain": [
       "array([1, 1, 0, 0, 1, 0, 1, 1, 0, 1, 1, 0, 1, 1, 0, 0, 0, 1, 1, 0, 0, 0,\n",
       "       0, 0, 1, 1, 0, 0, 0, 0, 0, 0, 1, 0, 0, 1, 0, 0, 0, 0, 0, 0, 0, 1,\n",
       "       1, 0, 1, 0, 0, 1, 1, 0, 1, 0, 0, 0, 1, 1, 0, 0, 1, 1, 0, 1, 0, 0,\n",
       "       1, 1, 1, 0, 1, 0, 0, 1, 0, 0, 0, 0, 0, 0, 0, 0, 0, 0, 1, 0, 1, 0,\n",
       "       0, 0, 0, 0, 0, 0, 0, 0, 0, 0, 0, 0, 0, 0, 0, 0, 1, 0, 1, 1, 1, 0,\n",
       "       1, 0, 0, 1, 0, 1, 0, 0, 1, 0, 1, 0, 0, 0, 0, 0, 0, 0, 0, 0, 1, 0,\n",
       "       0, 0, 0, 0, 1, 0, 1, 1, 0, 1, 0, 0, 1, 0, 0, 0, 1, 0, 0, 0, 0, 1,\n",
       "       0, 1, 0, 0, 1, 0, 1])"
      ]
     },
     "execution_count": 45,
     "metadata": {},
     "output_type": "execute_result"
    }
   ],
   "source": [
    "y_pred = fitted_model.predict(X_test_df)\n",
    "y_pred"
   ]
  },
  {
   "cell_type": "markdown",
   "metadata": {},
   "source": [
    "### Confusion Matrix"
   ]
  },
  {
   "cell_type": "code",
   "execution_count": 46,
   "metadata": {},
   "outputs": [
    {
     "data": {
      "image/png": "[encoded data removed]",
      "text/plain": [
       "<Figure size 432x288 with 2 Axes>"
      ]
     },
     "metadata": {
      "needs_background": "light"
     },
     "output_type": "display_data"
    }
   ],
   "source": [
    "from sklearn.metrics import confusion_matrix\n",
    "import numpy as np\n",
    "import itertools\n",
    "\n",
    "cf =confusion_matrix(y_test_df.values,y_pred)\n",
    "plt.imshow(cf,cmap=plt.cm.Blues,interpolation='nearest')\n",
    "plt.colorbar()\n",
    "\n",
    "plt.title('Confusion Matrix')\n",
    "plt.xlabel('Predicted')\n",
    "plt.ylabel('Actual')\n",
    "class_labels = ['False','True']\n",
    "tick_marks = np.arange(len(class_labels))\n",
    "plt.xticks(tick_marks,class_labels)\n",
    "plt.yticks([-0.5,0,1,1.5],['','False','True',''])\n",
    "\n",
    "# plotting text value inside cells\n",
    "thresh = cf.max() / 2.\n",
    "for i,j in itertools.product(range(cf.shape[0]),range(cf.shape[1])):\n",
    "    plt.text(j,i,format(cf[i,j],'d'),horizontalalignment='center',color='white' if cf[i,j] >thresh else 'black')\n",
    "plt.show()"
   ]
  },
  {
   "cell_type": "markdown",
   "metadata": {},
   "source": [
    "## All models"
   ]
  },
  {
   "cell_type": "code",
   "execution_count": 47,
   "metadata": {},
   "outputs": [
    {
     "data": {
      "text/html": [
       "<div>\n",
       "<style scoped>\n",
       "    .dataframe tbody tr th:only-of-type {\n",
       "        vertical-align: middle;\n",
       "    }\n",
       "\n",
       "    .dataframe tbody tr th {\n",
       "        vertical-align: top;\n",
       "    }\n",
       "\n",
       "    .dataframe thead th {\n",
       "        text-align: right;\n",
       "    }\n",
       "</style>\n",
       "<table border=\"1\" class=\"dataframe\">\n",
       "  <thead>\n",
       "    <tr style=\"text-align: right;\">\n",
       "      <th></th>\n",
       "      <th>0</th>\n",
       "      <th>1</th>\n",
       "      <th>2</th>\n",
       "      <th>3</th>\n",
       "      <th>4</th>\n",
       "      <th>5</th>\n",
       "      <th>6</th>\n",
       "      <th>7</th>\n",
       "      <th>8</th>\n",
       "      <th>9</th>\n",
       "    </tr>\n",
       "  </thead>\n",
       "  <tbody>\n",
       "    <tr>\n",
       "      <th>AUC_micro</th>\n",
       "      <td>0.85</td>\n",
       "      <td>0.78</td>\n",
       "      <td>0.76</td>\n",
       "      <td>0.84</td>\n",
       "      <td>0.83</td>\n",
       "      <td>0.82</td>\n",
       "      <td>0.85</td>\n",
       "      <td>0.87</td>\n",
       "      <td>0.85</td>\n",
       "      <td>0.86</td>\n",
       "    </tr>\n",
       "    <tr>\n",
       "      <th>matthews_correlation</th>\n",
       "      <td>0.55</td>\n",
       "      <td>0.48</td>\n",
       "      <td>0.10</td>\n",
       "      <td>0.54</td>\n",
       "      <td>0.54</td>\n",
       "      <td>0.54</td>\n",
       "      <td>0.55</td>\n",
       "      <td>0.57</td>\n",
       "      <td>0.55</td>\n",
       "      <td>0.57</td>\n",
       "    </tr>\n",
       "    <tr>\n",
       "      <th>balanced_accuracy</th>\n",
       "      <td>0.77</td>\n",
       "      <td>0.74</td>\n",
       "      <td>0.54</td>\n",
       "      <td>0.76</td>\n",
       "      <td>0.77</td>\n",
       "      <td>0.77</td>\n",
       "      <td>0.78</td>\n",
       "      <td>0.78</td>\n",
       "      <td>0.77</td>\n",
       "      <td>0.78</td>\n",
       "    </tr>\n",
       "    <tr>\n",
       "      <th>accuracy</th>\n",
       "      <td>0.79</td>\n",
       "      <td>0.74</td>\n",
       "      <td>0.64</td>\n",
       "      <td>0.78</td>\n",
       "      <td>0.78</td>\n",
       "      <td>0.78</td>\n",
       "      <td>0.78</td>\n",
       "      <td>0.80</td>\n",
       "      <td>0.79</td>\n",
       "      <td>0.80</td>\n",
       "    </tr>\n",
       "    <tr>\n",
       "      <th>log_loss</th>\n",
       "      <td>0.57</td>\n",
       "      <td>0.67</td>\n",
       "      <td>0.60</td>\n",
       "      <td>0.51</td>\n",
       "      <td>0.53</td>\n",
       "      <td>0.53</td>\n",
       "      <td>0.49</td>\n",
       "      <td>0.46</td>\n",
       "      <td>2.14</td>\n",
       "      <td>0.53</td>\n",
       "    </tr>\n",
       "    <tr>\n",
       "      <th>precision_score_macro</th>\n",
       "      <td>0.78</td>\n",
       "      <td>0.74</td>\n",
       "      <td>0.43</td>\n",
       "      <td>0.77</td>\n",
       "      <td>0.77</td>\n",
       "      <td>0.77</td>\n",
       "      <td>0.77</td>\n",
       "      <td>0.80</td>\n",
       "      <td>0.78</td>\n",
       "      <td>0.79</td>\n",
       "    </tr>\n",
       "    <tr>\n",
       "      <th>norm_macro_recall</th>\n",
       "      <td>0.55</td>\n",
       "      <td>0.48</td>\n",
       "      <td>0.08</td>\n",
       "      <td>0.53</td>\n",
       "      <td>0.54</td>\n",
       "      <td>0.55</td>\n",
       "      <td>0.55</td>\n",
       "      <td>0.55</td>\n",
       "      <td>0.54</td>\n",
       "      <td>0.56</td>\n",
       "    </tr>\n",
       "    <tr>\n",
       "      <th>f1_score_micro</th>\n",
       "      <td>0.79</td>\n",
       "      <td>0.74</td>\n",
       "      <td>0.64</td>\n",
       "      <td>0.78</td>\n",
       "      <td>0.78</td>\n",
       "      <td>0.78</td>\n",
       "      <td>0.78</td>\n",
       "      <td>0.80</td>\n",
       "      <td>0.79</td>\n",
       "      <td>0.80</td>\n",
       "    </tr>\n",
       "    <tr>\n",
       "      <th>f1_score_macro</th>\n",
       "      <td>0.78</td>\n",
       "      <td>0.74</td>\n",
       "      <td>0.46</td>\n",
       "      <td>0.77</td>\n",
       "      <td>0.77</td>\n",
       "      <td>0.77</td>\n",
       "      <td>0.77</td>\n",
       "      <td>0.78</td>\n",
       "      <td>0.77</td>\n",
       "      <td>0.78</td>\n",
       "    </tr>\n",
       "    <tr>\n",
       "      <th>f1_score_weighted</th>\n",
       "      <td>0.79</td>\n",
       "      <td>0.75</td>\n",
       "      <td>0.53</td>\n",
       "      <td>0.78</td>\n",
       "      <td>0.78</td>\n",
       "      <td>0.78</td>\n",
       "      <td>0.78</td>\n",
       "      <td>0.79</td>\n",
       "      <td>0.78</td>\n",
       "      <td>0.80</td>\n",
       "    </tr>\n",
       "    <tr>\n",
       "      <th>recall_score_weighted</th>\n",
       "      <td>0.79</td>\n",
       "      <td>0.74</td>\n",
       "      <td>0.64</td>\n",
       "      <td>0.78</td>\n",
       "      <td>0.78</td>\n",
       "      <td>0.78</td>\n",
       "      <td>0.78</td>\n",
       "      <td>0.80</td>\n",
       "      <td>0.79</td>\n",
       "      <td>0.80</td>\n",
       "    </tr>\n",
       "    <tr>\n",
       "      <th>recall_score_micro</th>\n",
       "      <td>0.79</td>\n",
       "      <td>0.74</td>\n",
       "      <td>0.64</td>\n",
       "      <td>0.78</td>\n",
       "      <td>0.78</td>\n",
       "      <td>0.78</td>\n",
       "      <td>0.78</td>\n",
       "      <td>0.80</td>\n",
       "      <td>0.79</td>\n",
       "      <td>0.80</td>\n",
       "    </tr>\n",
       "    <tr>\n",
       "      <th>AUC_macro</th>\n",
       "      <td>0.84</td>\n",
       "      <td>0.79</td>\n",
       "      <td>0.80</td>\n",
       "      <td>0.83</td>\n",
       "      <td>0.83</td>\n",
       "      <td>0.81</td>\n",
       "      <td>0.84</td>\n",
       "      <td>0.85</td>\n",
       "      <td>0.83</td>\n",
       "      <td>0.85</td>\n",
       "    </tr>\n",
       "    <tr>\n",
       "      <th>precision_score_micro</th>\n",
       "      <td>0.79</td>\n",
       "      <td>0.74</td>\n",
       "      <td>0.64</td>\n",
       "      <td>0.78</td>\n",
       "      <td>0.78</td>\n",
       "      <td>0.78</td>\n",
       "      <td>0.78</td>\n",
       "      <td>0.80</td>\n",
       "      <td>0.79</td>\n",
       "      <td>0.80</td>\n",
       "    </tr>\n",
       "    <tr>\n",
       "      <th>average_precision_score_weighted</th>\n",
       "      <td>0.84</td>\n",
       "      <td>0.79</td>\n",
       "      <td>0.78</td>\n",
       "      <td>0.82</td>\n",
       "      <td>0.83</td>\n",
       "      <td>0.80</td>\n",
       "      <td>0.84</td>\n",
       "      <td>0.85</td>\n",
       "      <td>0.82</td>\n",
       "      <td>0.85</td>\n",
       "    </tr>\n",
       "    <tr>\n",
       "      <th>average_precision_score_macro</th>\n",
       "      <td>0.83</td>\n",
       "      <td>0.77</td>\n",
       "      <td>0.77</td>\n",
       "      <td>0.81</td>\n",
       "      <td>0.82</td>\n",
       "      <td>0.78</td>\n",
       "      <td>0.84</td>\n",
       "      <td>0.84</td>\n",
       "      <td>0.81</td>\n",
       "      <td>0.84</td>\n",
       "    </tr>\n",
       "    <tr>\n",
       "      <th>precision_score_weighted</th>\n",
       "      <td>0.79</td>\n",
       "      <td>0.75</td>\n",
       "      <td>0.48</td>\n",
       "      <td>0.78</td>\n",
       "      <td>0.78</td>\n",
       "      <td>0.78</td>\n",
       "      <td>0.79</td>\n",
       "      <td>0.80</td>\n",
       "      <td>0.79</td>\n",
       "      <td>0.80</td>\n",
       "    </tr>\n",
       "    <tr>\n",
       "      <th>average_precision_score_micro</th>\n",
       "      <td>0.84</td>\n",
       "      <td>0.77</td>\n",
       "      <td>0.75</td>\n",
       "      <td>0.83</td>\n",
       "      <td>0.82</td>\n",
       "      <td>0.80</td>\n",
       "      <td>0.84</td>\n",
       "      <td>0.85</td>\n",
       "      <td>0.82</td>\n",
       "      <td>0.85</td>\n",
       "    </tr>\n",
       "    <tr>\n",
       "      <th>AUC_weighted</th>\n",
       "      <td>0.84</td>\n",
       "      <td>0.79</td>\n",
       "      <td>0.80</td>\n",
       "      <td>0.83</td>\n",
       "      <td>0.83</td>\n",
       "      <td>0.81</td>\n",
       "      <td>0.84</td>\n",
       "      <td>0.85</td>\n",
       "      <td>0.83</td>\n",
       "      <td>0.85</td>\n",
       "    </tr>\n",
       "    <tr>\n",
       "      <th>recall_score_macro</th>\n",
       "      <td>0.77</td>\n",
       "      <td>0.74</td>\n",
       "      <td>0.54</td>\n",
       "      <td>0.76</td>\n",
       "      <td>0.77</td>\n",
       "      <td>0.77</td>\n",
       "      <td>0.78</td>\n",
       "      <td>0.78</td>\n",
       "      <td>0.77</td>\n",
       "      <td>0.78</td>\n",
       "    </tr>\n",
       "    <tr>\n",
       "      <th>weighted_accuracy</th>\n",
       "      <td>0.81</td>\n",
       "      <td>0.75</td>\n",
       "      <td>0.73</td>\n",
       "      <td>0.80</td>\n",
       "      <td>0.78</td>\n",
       "      <td>0.79</td>\n",
       "      <td>0.79</td>\n",
       "      <td>0.82</td>\n",
       "      <td>0.80</td>\n",
       "      <td>0.81</td>\n",
       "    </tr>\n",
       "  </tbody>\n",
       "</table>\n",
       "</div>"
      ],
      "text/plain": [
       "                                    0    1    2    3    4    5    6    7    8  \\\n",
       "AUC_micro                        0.85 0.78 0.76 0.84 0.83 0.82 0.85 0.87 0.85   \n",
       "matthews_correlation             0.55 0.48 0.10 0.54 0.54 0.54 0.55 0.57 0.55   \n",
       "balanced_accuracy                0.77 0.74 0.54 0.76 0.77 0.77 0.78 0.78 0.77   \n",
       "accuracy                         0.79 0.74 0.64 0.78 0.78 0.78 0.78 0.80 0.79   \n",
       "log_loss                         0.57 0.67 0.60 0.51 0.53 0.53 0.49 0.46 2.14   \n",
       "precision_score_macro            0.78 0.74 0.43 0.77 0.77 0.77 0.77 0.80 0.78   \n",
       "norm_macro_recall                0.55 0.48 0.08 0.53 0.54 0.55 0.55 0.55 0.54   \n",
       "f1_score_micro                   0.79 0.74 0.64 0.78 0.78 0.78 0.78 0.80 0.79   \n",
       "f1_score_macro                   0.78 0.74 0.46 0.77 0.77 0.77 0.77 0.78 0.77   \n",
       "f1_score_weighted                0.79 0.75 0.53 0.78 0.78 0.78 0.78 0.79 0.78   \n",
       "recall_score_weighted            0.79 0.74 0.64 0.78 0.78 0.78 0.78 0.80 0.79   \n",
       "recall_score_micro               0.79 0.74 0.64 0.78 0.78 0.78 0.78 0.80 0.79   \n",
       "AUC_macro                        0.84 0.79 0.80 0.83 0.83 0.81 0.84 0.85 0.83   \n",
       "precision_score_micro            0.79 0.74 0.64 0.78 0.78 0.78 0.78 0.80 0.79   \n",
       "average_precision_score_weighted 0.84 0.79 0.78 0.82 0.83 0.80 0.84 0.85 0.82   \n",
       "average_precision_score_macro    0.83 0.77 0.77 0.81 0.82 0.78 0.84 0.84 0.81   \n",
       "precision_score_weighted         0.79 0.75 0.48 0.78 0.78 0.78 0.79 0.80 0.79   \n",
       "average_precision_score_micro    0.84 0.77 0.75 0.83 0.82 0.80 0.84 0.85 0.82   \n",
       "AUC_weighted                     0.84 0.79 0.80 0.83 0.83 0.81 0.84 0.85 0.83   \n",
       "recall_score_macro               0.77 0.74 0.54 0.76 0.77 0.77 0.78 0.78 0.77   \n",
       "weighted_accuracy                0.81 0.75 0.73 0.80 0.78 0.79 0.79 0.82 0.80   \n",
       "\n",
       "                                    9  \n",
       "AUC_micro                        0.86  \n",
       "matthews_correlation             0.57  \n",
       "balanced_accuracy                0.78  \n",
       "accuracy                         0.80  \n",
       "log_loss                         0.53  \n",
       "precision_score_macro            0.79  \n",
       "norm_macro_recall                0.56  \n",
       "f1_score_micro                   0.80  \n",
       "f1_score_macro                   0.78  \n",
       "f1_score_weighted                0.80  \n",
       "recall_score_weighted            0.80  \n",
       "recall_score_micro               0.80  \n",
       "AUC_macro                        0.85  \n",
       "precision_score_micro            0.80  \n",
       "average_precision_score_weighted 0.85  \n",
       "average_precision_score_macro    0.84  \n",
       "precision_score_weighted         0.80  \n",
       "average_precision_score_micro    0.85  \n",
       "AUC_weighted                     0.85  \n",
       "recall_score_macro               0.78  \n",
       "weighted_accuracy                0.81  "
      ]
     },
     "execution_count": 47,
     "metadata": {},
     "output_type": "execute_result"
    }
   ],
   "source": [
    "children = list(remote_run.get_children())\n",
    "metricslist = {}\n",
    "for run in children:\n",
    "    properties = run.get_properties()\n",
    "    metrics = {k: v for k, v in run.get_metrics().items() if isinstance(v, float)}\n",
    "    metricslist[int(properties['iteration'])] = metrics\n",
    "\n",
    "mylist = pd.DataFrame(metricslist).sort_index(1)\n",
    "mylist"
   ]
  },
  {
   "cell_type": "markdown",
   "metadata": {},
   "source": [
    "## Best Model"
   ]
  },
  {
   "cell_type": "code",
   "execution_count": 48,
   "metadata": {},
   "outputs": [
    {
     "name": "stderr",
     "output_type": "stream",
     "text": [
      "WARNING:root:The version of the SDK does not match the version the model was trained on.\n",
      "WARNING:root:The consistency in the result may not be guaranteed.\n",
      "WARNING:root:Package:azureml-automl-core, training version:1.29.0, current version:1.28.0\n",
      "Package:azureml-automl-runtime, training version:1.29.0, current version:1.28.0.post2\n",
      "Package:azureml-core, training version:1.29.0, current version:1.28.0\n",
      "Package:azureml-dataset-runtime, training version:1.29.0, current version:1.28.0\n",
      "Package:azureml-defaults, training version:1.29.0, current version:1.28.0\n",
      "Package:azureml-interpret, training version:1.29.0, current version:1.28.0\n",
      "Package:azureml-mlflow, training version:1.29.0, current version:1.28.0\n",
      "Package:azureml-pipeline-core, training version:1.29.0, current version:1.28.0\n",
      "Package:azureml-telemetry, training version:1.29.0, current version:1.28.0\n",
      "Package:azureml-train-automl-client, training version:1.29.0, current version:1.28.0\n",
      "Package:azureml-train-automl-runtime, training version:1.29.0, current version:1.28.0\n",
      "WARNING:root:Please ensure the version of your local conda dependencies match the version on which your model was trained in order to properly retrieve your model.\n"
     ]
    },
    {
     "name": "stdout",
     "output_type": "stream",
     "text": [
      "Best AutoML run = Run(Experiment: Lab2-AutoML,\n",
      "Id: AutoML_1a520446-53de-45ed-8114-0ffff381fa82_9,\n",
      "Type: azureml.scriptrun,\n",
      "Status: Completed)\n"
     ]
    }
   ],
   "source": [
    "best_run, fitted_model = remote_run.get_output()\n",
    "print(\"Best AutoML run =\", best_run)"
   ]
  },
  {
   "cell_type": "code",
   "execution_count": 49,
   "metadata": {},
   "outputs": [
    {
     "data": {
      "text/plain": [
       "[('datatransformer',\n",
       "  DataTransformer(\n",
       "      task='classification',\n",
       "      is_onnx_compatible=False,\n",
       "      enable_feature_sweeping=True,\n",
       "      enable_dnn=False,\n",
       "      force_text_dnn=False,\n",
       "      feature_sweeping_timeout=86400,\n",
       "      featurization_config=None,\n",
       "      is_cross_validation=True,\n",
       "      feature_sweeping_config={}\n",
       "  )),\n",
       " ('TruncatedSVDWrapper',\n",
       "  TruncatedSVDWrapper(n_components=0.95, random_state=None)),\n",
       " ('LogisticRegression',\n",
       "  LogisticRegression(C=11.513953993264458, class_weight=None, dual=False,\n",
       "                     fit_intercept=True, intercept_scaling=1, l1_ratio=None,\n",
       "                     max_iter=100, multi_class='ovr', n_jobs=1, penalty='l2',\n",
       "                     random_state=None, solver='newton-cg', tol=0.0001, verbose=0,\n",
       "                     warm_start=False))]"
      ]
     },
     "execution_count": 49,
     "metadata": {},
     "output_type": "execute_result"
    }
   ],
   "source": [
    "fitted_model.steps"
   ]
  },
  {
   "cell_type": "code",
   "execution_count": 50,
   "metadata": {},
   "outputs": [
    {
     "name": "stdout",
     "output_type": "stream",
     "text": [
      "Pipeline(memory=None,\n",
      "         steps=[('datatransformer',\n",
      "                 DataTransformer(enable_dnn=False, enable_feature_sweeping=True, feature_sweeping_config={}, feature_sweeping_timeout=86400, featurization_config=None, force_text_dnn=False, is_cross_validation=True, is_onnx_compatible=False, observer=None, task='classification', working_dir='/mnt/batch/tasks/shared/LS_root/mount...\n",
      "                ('TruncatedSVDWrapper',\n",
      "                 TruncatedSVDWrapper(n_components=0.95, random_state=None)),\n",
      "                ('LogisticRegression',\n",
      "                 LogisticRegression(C=11.513953993264458, class_weight=None,\n",
      "                                    dual=False, fit_intercept=True,\n",
      "                                    intercept_scaling=1, l1_ratio=None,\n",
      "                                    max_iter=100, multi_class='ovr', n_jobs=1,\n",
      "                                    penalty='l2', random_state=None,\n",
      "                                    solver='newton-cg', tol=0.0001, verbose=0,\n",
      "                                    warm_start=False))],\n",
      "         verbose=False)\n"
     ]
    }
   ],
   "source": [
    "print(fitted_model)"
   ]
  },
  {
   "cell_type": "code",
   "execution_count": 51,
   "metadata": {},
   "outputs": [
    {
     "data": {
      "text/plain": [
       "<bound method Pipeline.get_params of Pipeline(memory=None,\n",
       "         steps=[('datatransformer',\n",
       "                 DataTransformer(enable_dnn=False, enable_feature_sweeping=True, feature_sweeping_config={}, feature_sweeping_timeout=86400, featurization_config=None, force_text_dnn=False, is_cross_validation=True, is_onnx_compatible=False, observer=None, task='classification', working_dir='/mnt/batch/tasks/shared/LS_root/mount...\n",
       "                ('TruncatedSVDWrapper',\n",
       "                 TruncatedSVDWrapper(n_components=0.95, random_state=None)),\n",
       "                ('LogisticRegression',\n",
       "                 LogisticRegression(C=11.513953993264458, class_weight=None,\n",
       "                                    dual=False, fit_intercept=True,\n",
       "                                    intercept_scaling=1, l1_ratio=None,\n",
       "                                    max_iter=100, multi_class='ovr', n_jobs=1,\n",
       "                                    penalty='l2', random_state=None,\n",
       "                                    solver='newton-cg', tol=0.0001, verbose=0,\n",
       "                                    warm_start=False))],\n",
       "         verbose=False)>"
      ]
     },
     "execution_count": 51,
     "metadata": {},
     "output_type": "execute_result"
    }
   ],
   "source": [
    "fitted_model.get_params"
   ]
  },
  {
   "cell_type": "code",
   "execution_count": 52,
   "metadata": {},
   "outputs": [
    {
     "name": "stdout",
     "output_type": "stream",
     "text": [
      "Metrics of the best model:\n",
      "\n",
      "- AUC_macro = 0.8501241668166332\n",
      "- recall_score_micro = 0.7986293822662979\n",
      "- average_precision_score_weighted = 0.8528267935772732\n",
      "- precision_score_macro = 0.7937746913429587\n",
      "- matthews_correlation = 0.5739898149748536\n",
      "- precision_score_micro = 0.7986293822662979\n",
      "- norm_macro_recall = 0.5613827750050661\n",
      "- f1_score_weighted = 0.7963117458438509\n",
      "- average_precision_score_macro = 0.8449692062424937\n",
      "- AUC_weighted = 0.8501241668166332\n",
      "- recall_score_macro = 0.7806913875025329\n",
      "- recall_score_weighted = 0.7986293822662979\n",
      "- weighted_accuracy = 0.8149176562646264\n",
      "- average_precision_score_micro = 0.8532778065928182\n",
      "- accuracy = 0.7986293822662979\n",
      "- log_loss = 0.5300148747146466\n",
      "- f1_score_macro = 0.7832894660605335\n",
      "- balanced_accuracy = 0.7806913875025329\n",
      "- AUC_micro = 0.8627995707879896\n",
      "- f1_score_micro = 0.7986293822662979\n",
      "- precision_score_weighted = 0.8011715688683364\n",
      "- confusion_matrix = aml://artifactId/ExperimentRun/dcid.AutoML_1a520446-53de-45ed-8114-0ffff381fa82_9/confusion_matrix\n",
      "- accuracy_table = aml://artifactId/ExperimentRun/dcid.AutoML_1a520446-53de-45ed-8114-0ffff381fa82_9/accuracy_table\n"
     ]
    }
   ],
   "source": [
    "print(\"Metrics of the best model:\")\n",
    "print()\n",
    "best_run_metrics = best_run.get_metrics()\n",
    "for metric_name in best_run_metrics:\n",
    "    metric = best_run_metrics[metric_name]\n",
    "    print('-', metric_name, '=', metric)"
   ]
  },
  {
   "cell_type": "markdown",
   "metadata": {},
   "source": [
    "## We can choose any iteration"
   ]
  },
  {
   "cell_type": "code",
   "execution_count": 53,
   "metadata": {},
   "outputs": [
    {
     "name": "stderr",
     "output_type": "stream",
     "text": [
      "WARNING:root:The version of the SDK does not match the version the model was trained on.\n",
      "WARNING:root:The consistency in the result may not be guaranteed.\n",
      "WARNING:root:Package:azureml-automl-core, training version:1.29.0, current version:1.28.0\n",
      "Package:azureml-automl-runtime, training version:1.29.0, current version:1.28.0.post2\n",
      "Package:azureml-core, training version:1.29.0, current version:1.28.0\n",
      "Package:azureml-dataset-runtime, training version:1.29.0, current version:1.28.0\n",
      "Package:azureml-defaults, training version:1.29.0, current version:1.28.0\n",
      "Package:azureml-interpret, training version:1.29.0, current version:1.28.0\n",
      "Package:azureml-mlflow, training version:1.29.0, current version:1.28.0\n",
      "Package:azureml-pipeline-core, training version:1.29.0, current version:1.28.0\n",
      "Package:azureml-telemetry, training version:1.29.0, current version:1.28.0\n",
      "Package:azureml-train-automl-client, training version:1.29.0, current version:1.28.0\n",
      "Package:azureml-train-automl-runtime, training version:1.29.0, current version:1.28.0\n",
      "WARNING:root:Please ensure the version of your local conda dependencies match the version on which your model was trained in order to properly retrieve your model.\n"
     ]
    },
    {
     "name": "stdout",
     "output_type": "stream",
     "text": [
      "Model 2  iteration :\n",
      "Run(Experiment: Lab2-AutoML,\n",
      "Id: AutoML_1a520446-53de-45ed-8114-0ffff381fa82_2,\n",
      "Type: azureml.scriptrun,\n",
      "Status: Completed)\n",
      "\n",
      "Pipeline(memory=None,\n",
      "         steps=[('datatransformer',\n",
      "                 DataTransformer(enable_dnn=False, enable_feature_sweeping=True, feature_sweeping_config={}, feature_sweeping_timeout=86400, featurization_config=None, force_text_dnn=False, is_cross_validation=True, is_onnx_compatible=False, observer=None, task='classification', working_dir='/mnt/batch/tasks/shared/LS_root/mount...\n",
      "                 RandomForestClassifier(bootstrap=True, ccp_alpha=0.0,\n",
      "                                        class_weight=None, criterion='gini',\n",
      "                                        max_depth=None, max_features='sqrt',\n",
      "                                        max_leaf_nodes=None, max_samples=None,\n",
      "                                        min_impurity_decrease=0.0,\n",
      "                                        min_impurity_split=None,\n",
      "                                        min_samples_leaf=0.035789473684210524,\n",
      "                                        min_samples_split=0.01,\n",
      "                                        min_weight_fraction_leaf=0.0,\n",
      "                                        n_estimators=10, n_jobs=1,\n",
      "                                        oob_score=True, random_state=None,\n",
      "                                        verbose=0, warm_start=False))],\n",
      "         verbose=False)\n"
     ]
    }
   ],
   "source": [
    "iteration = 2\n",
    "\n",
    "my_run, my_model = remote_run.get_output(iteration = iteration)\n",
    "print(\"Model\",iteration,\" iteration :\")\n",
    "print(my_run)\n",
    "print()\n",
    "print(my_model)"
   ]
  },
  {
   "cell_type": "markdown",
   "metadata": {},
   "source": [
    "### We want to keep the best model"
   ]
  },
  {
   "cell_type": "code",
   "execution_count": 54,
   "metadata": {},
   "outputs": [
    {
     "name": "stderr",
     "output_type": "stream",
     "text": [
      "WARNING:root:The version of the SDK does not match the version the model was trained on.\n",
      "WARNING:root:The consistency in the result may not be guaranteed.\n",
      "WARNING:root:Package:azureml-automl-core, training version:1.29.0, current version:1.28.0\n",
      "Package:azureml-automl-runtime, training version:1.29.0, current version:1.28.0.post2\n",
      "Package:azureml-core, training version:1.29.0, current version:1.28.0\n",
      "Package:azureml-dataset-runtime, training version:1.29.0, current version:1.28.0\n",
      "Package:azureml-defaults, training version:1.29.0, current version:1.28.0\n",
      "Package:azureml-interpret, training version:1.29.0, current version:1.28.0\n",
      "Package:azureml-mlflow, training version:1.29.0, current version:1.28.0\n",
      "Package:azureml-pipeline-core, training version:1.29.0, current version:1.28.0\n",
      "Package:azureml-telemetry, training version:1.29.0, current version:1.28.0\n",
      "Package:azureml-train-automl-client, training version:1.29.0, current version:1.28.0\n",
      "Package:azureml-train-automl-runtime, training version:1.29.0, current version:1.28.0\n",
      "WARNING:root:Please ensure the version of your local conda dependencies match the version on which your model was trained in order to properly retrieve your model.\n"
     ]
    },
    {
     "name": "stdout",
     "output_type": "stream",
     "text": [
      "Run(Experiment: Lab2-AutoML,\n",
      "Id: AutoML_1a520446-53de-45ed-8114-0ffff381fa82_9,\n",
      "Type: azureml.scriptrun,\n",
      "Status: Completed)\n",
      "\n",
      "Pipeline(memory=None,\n",
      "         steps=[('datatransformer',\n",
      "                 DataTransformer(enable_dnn=False, enable_feature_sweeping=True, feature_sweeping_config={}, feature_sweeping_timeout=86400, featurization_config=None, force_text_dnn=False, is_cross_validation=True, is_onnx_compatible=False, observer=None, task='classification', working_dir='/mnt/batch/tasks/shared/LS_root/mount...\n",
      "                ('TruncatedSVDWrapper',\n",
      "                 TruncatedSVDWrapper(n_components=0.95, random_state=None)),\n",
      "                ('LogisticRegression',\n",
      "                 LogisticRegression(C=11.513953993264458, class_weight=None,\n",
      "                                    dual=False, fit_intercept=True,\n",
      "                                    intercept_scaling=1, l1_ratio=None,\n",
      "                                    max_iter=100, multi_class='ovr', n_jobs=1,\n",
      "                                    penalty='l2', random_state=None,\n",
      "                                    solver='newton-cg', tol=0.0001, verbose=0,\n",
      "                                    warm_start=False))],\n",
      "         verbose=False)\n",
      "\n",
      "Metrics:\n",
      "AUC_macro = 0.8501241668166332\n",
      "recall_score_micro = 0.7986293822662979\n",
      "average_precision_score_weighted = 0.8528267935772732\n",
      "precision_score_macro = 0.7937746913429587\n",
      "matthews_correlation = 0.5739898149748536\n",
      "precision_score_micro = 0.7986293822662979\n",
      "norm_macro_recall = 0.5613827750050661\n",
      "f1_score_weighted = 0.7963117458438509\n",
      "average_precision_score_macro = 0.8449692062424937\n",
      "AUC_weighted = 0.8501241668166332\n",
      "recall_score_macro = 0.7806913875025329\n",
      "recall_score_weighted = 0.7986293822662979\n",
      "weighted_accuracy = 0.8149176562646264\n",
      "average_precision_score_micro = 0.8532778065928182\n",
      "accuracy = 0.7986293822662979\n",
      "log_loss = 0.5300148747146466\n",
      "f1_score_macro = 0.7832894660605335\n",
      "balanced_accuracy = 0.7806913875025329\n",
      "AUC_micro = 0.8627995707879896\n",
      "f1_score_micro = 0.7986293822662979\n",
      "precision_score_weighted = 0.8011715688683364\n",
      "confusion_matrix = aml://artifactId/ExperimentRun/dcid.AutoML_1a520446-53de-45ed-8114-0ffff381fa82_9/confusion_matrix\n",
      "accuracy_table = aml://artifactId/ExperimentRun/dcid.AutoML_1a520446-53de-45ed-8114-0ffff381fa82_9/accuracy_table\n"
     ]
    }
   ],
   "source": [
    "best_run, fitted_model = remote_run.get_output()\n",
    "print(best_run)\n",
    "print()\n",
    "print(fitted_model)\n",
    "print()\n",
    "print(\"Metrics:\")\n",
    "best_run_metrics = best_run.get_metrics()\n",
    "for metric_name in best_run_metrics:\n",
    "    metric = best_run_metrics[metric_name]\n",
    "    print(metric_name, '=', metric)"
   ]
  },
  {
   "cell_type": "code",
   "execution_count": 55,
   "metadata": {},
   "outputs": [
    {
     "name": "stdout",
     "output_type": "stream",
     "text": [
      "datatransformer\n",
      "TruncatedSVDWrapper\n",
      "LogisticRegression\n"
     ]
    }
   ],
   "source": [
    "for step in fitted_model.named_steps:\n",
    "    print(step)"
   ]
  },
  {
   "cell_type": "code",
   "execution_count": 56,
   "metadata": {},
   "outputs": [
    {
     "data": {
      "text/plain": [
       "Model(workspace=Workspace.create(name='AMLworkshop', subscription_id='70b8f39e-8863-49f7-b6ba-34a80799550c', resource_group='AMLworkshop-rg'), name=BestAutoMLModel, id=BestAutoMLModel:29, version=29, tags={'Training Context': 'Azure Auto ML', 'Compute Cluster': 'Yes', 'Topic': 'Titanic'}, properties={'AUC': '0.8501241668166332', 'Average Precision Score': '0.8528267935772732', 'Accuracy': '0.7986293822662979', 'Precision': '0.8011715688683364'})"
      ]
     },
     "execution_count": 56,
     "metadata": {},
     "output_type": "execute_result"
    }
   ],
   "source": [
    "from azureml.core import Model\n",
    "\n",
    "best_run.register_model(model_path='outputs/model.pkl', \n",
    "                        model_name='BestAutoMLModel',\n",
    "                        tags={'Training Context':'Azure Auto ML', \n",
    "                              'Compute Cluster':'Yes', \n",
    "                              'Topic':'Titanic'},\n",
    "                        properties={'AUC': best_run_metrics['AUC_weighted'], \n",
    "                                    'Average Precision Score': best_run_metrics['average_precision_score_weighted'],\n",
    "                                    'Accuracy': best_run_metrics['accuracy'],\n",
    "                                    'Precision': best_run_metrics['precision_score_weighted']}\n",
    "                       )"
   ]
  },
  {
   "cell_type": "code",
   "execution_count": 57,
   "metadata": {},
   "outputs": [
    {
     "data": {
      "text/plain": [
       "{'runTemplate': 'automl_child',\n",
       " 'pipeline_id': 'b6fda4855c36d32d9ba9e802a7271a2a0b12297b',\n",
       " 'pipeline_spec': '{\"objects\": [{\"class_name\": \"TruncatedSVDWrapper\", \"module\": \"automl.client.core.common.model_wrappers\", \"param_args\": [], \"param_kwargs\": {\"n_components\": 0.95}, \"prepared_kwargs\": {}, \"spec_class\": \"preproc\"}, {\"class_name\": \"LogisticRegression\", \"module\": \"sklearn.linear_model\", \"param_args\": [], \"param_kwargs\": {\"C\": 11.513953993264458, \"class_weight\": null, \"multi_class\": \"ovr\", \"penalty\": \"l2\", \"solver\": \"newton-cg\"}, \"prepared_kwargs\": {}, \"spec_class\": \"sklearn\"}], \"pipeline_id\": \"b6fda4855c36d32d9ba9e802a7271a2a0b12297b\", \"module\": \"sklearn.pipeline\", \"class_name\": \"Pipeline\", \"pipeline_name\": \"{ TruncatedSVDWrapper, LogisticRegression }\"}',\n",
       " 'training_percent': '100',\n",
       " 'predicted_cost': '0.048137982598779',\n",
       " 'iteration': '9',\n",
       " '_aml_system_scenario_identification': 'Remote.Child',\n",
       " '_azureml.ComputeTargetType': 'amlcompute',\n",
       " 'ContentSnapshotId': '5aa4f2c1-e73c-4a9a-be8e-a328c9a3a315',\n",
       " 'ProcessInfoFile': 'azureml-logs/process_info.json',\n",
       " 'ProcessStatusFile': 'azureml-logs/process_status.json',\n",
       " 'run_preprocessor': 'TruncatedSVDWrapper',\n",
       " 'run_algorithm': 'LogisticRegression',\n",
       " 'model_output_path': 'outputs/model.pkl',\n",
       " 'conda_env_data_location': 'aml://artifact/ExperimentRun/dcid.AutoML_1a520446-53de-45ed-8114-0ffff381fa82_9/outputs/conda_env_v_1_0_0.yml',\n",
       " 'model_data_location': 'aml://artifact/ExperimentRun/dcid.AutoML_1a520446-53de-45ed-8114-0ffff381fa82_9/outputs/model.pkl',\n",
       " 'model_size_on_disk': '10518938',\n",
       " 'scoring_data_location': 'aml://artifact/ExperimentRun/dcid.AutoML_1a520446-53de-45ed-8114-0ffff381fa82_9/outputs/scoring_file_v_1_0_0.py',\n",
       " 'scoring_data_location_v2': 'aml://artifact/ExperimentRun/dcid.AutoML_1a520446-53de-45ed-8114-0ffff381fa82_9/outputs/scoring_file_v_2_0_0.py',\n",
       " 'model_exp_support': 'True',\n",
       " 'pipeline_graph_version': '1.0.0',\n",
       " 'model_name': 'AutoML1a52044659',\n",
       " 'score': '0.8011715688683364',\n",
       " 'score_table': 'NaN',\n",
       " 'run_properties': 'n_components=0.95, random_state=None',\n",
       " 'pipeline_script': '{\"objects\": [{\"class_name\": \"TruncatedSVDWrapper\", \"module\": \"automl.client.core.common.model_wrappers\", \"param_args\": [], \"param_kwargs\": {\"n_components\": 0.95}, \"prepared_kwargs\": {}, \"spec_class\": \"preproc\"}, {\"class_name\": \"LogisticRegression\", \"module\": \"sklearn.linear_model\", \"param_args\": [], \"param_kwargs\": {\"C\": 11.513953993264458, \"class_weight\": null, \"multi_class\": \"ovr\", \"penalty\": \"l2\", \"solver\": \"newton-cg\"}, \"prepared_kwargs\": {}, \"spec_class\": \"sklearn\"}], \"pipeline_id\": \"b6fda4855c36d32d9ba9e802a7271a2a0b12297b\", \"module\": \"sklearn.pipeline\", \"class_name\": \"Pipeline\", \"pipeline_name\": \"{ TruncatedSVDWrapper, LogisticRegression }\"}',\n",
       " 'training_type': 'MeanCrossValidation',\n",
       " 'fit_time': '0.23766066666666666',\n",
       " 'goal': 'precision_score_weighted_max',\n",
       " 'primary_metric': 'precision_score_weighted',\n",
       " 'errors': '{}',\n",
       " 'onnx_model_resource': '{}',\n",
       " 'dependencies_versions': '{\"azureml-train-automl-runtime\": \"1.29.0\", \"azureml-train-automl-client\": \"1.29.0\", \"azureml-telemetry\": \"1.29.0\", \"azureml-pipeline-core\": \"1.29.0\", \"azureml-model-management-sdk\": \"1.0.1b6.post1\", \"azureml-mlflow\": \"1.29.0\", \"azureml-interpret\": \"1.29.0\", \"azureml-defaults\": \"1.29.0\", \"azureml-dataset-runtime\": \"1.29.0\", \"azureml-dataprep\": \"2.15.1\", \"azureml-dataprep-rslex\": \"1.13.0\", \"azureml-dataprep-native\": \"33.0.0\", \"azureml-core\": \"1.29.0\", \"azureml-automl-runtime\": \"1.29.0\", \"azureml-automl-core\": \"1.29.0\"}',\n",
       " 'num_cores': '2',\n",
       " 'num_logical_cores': '4',\n",
       " 'peak_memory_usage': '776708',\n",
       " 'vm_configuration': 'Intel(R) Xeon(R) Platinum 8272CL CPU @ 2.60GHz',\n",
       " 'core_hours': '0.0031066483333333336',\n",
       " 'feature_skus': 'automatedml_sdk_guardrails'}"
      ]
     },
     "execution_count": 57,
     "metadata": {},
     "output_type": "execute_result"
    }
   ],
   "source": [
    "best_run.properties"
   ]
  },
  {
   "cell_type": "code",
   "execution_count": 58,
   "metadata": {},
   "outputs": [
    {
     "data": {
      "text/html": [
       "<table style=\"width:100%\"><tr><th>Name</th><th>Workspace</th><th>Report Page</th><th>Docs Page</th></tr><tr><td>Lab2-AutoML</td><td>AMLworkshop</td><td><a href=\"https://ml.azure.com/experiments/id/df45fe53-13c0-4fc1-a75b-36c22b379cdc?wsid=/subscriptions/70b8f39e-8863-49f7-b6ba-34a80799550c/resourcegroups/AMLworkshop-rg/workspaces/AMLworkshop&amp;tid=72f988bf-86f1-41af-91ab-2d7cd011db47\" target=\"_blank\" rel=\"noopener\">Link to Azure Machine Learning studio</a></td><td><a href=\"https://docs.microsoft.com/en-us/python/api/azureml-core/azureml.core.experiment.Experiment?view=azure-ml-py\" target=\"_blank\" rel=\"noopener\">Link to Documentation</a></td></tr></table>"
      ],
      "text/plain": [
       "Experiment(Name: Lab2-AutoML,\n",
       "Workspace: AMLworkshop)"
      ]
     },
     "execution_count": 58,
     "metadata": {},
     "output_type": "execute_result"
    }
   ],
   "source": [
    "experiment"
   ]
  },
  {
   "cell_type": "markdown",
   "metadata": {},
   "source": [
    "> You can open now the **Lab3 notebook**."
   ]
  },
  {
   "cell_type": "markdown",
   "metadata": {},
   "source": [
    "<img src=\"https://github.com/retkowsky/images/blob/master/Powered-by-MS-Azure-logo-v2.png?raw=true\" height=\"300\" width=\"300\">"
   ]
  }
 ],
 "metadata": {
  "authors": [
   {
    "name": "ratanase"
   }
  ],
  "category": "tutorial",
  "compute": [
   "AML Compute"
  ],
  "datasets": [
   "Creditcard"
  ],
  "deployment": [
   "None"
  ],
  "exclude_from_index": false,
  "file_extension": ".py",
  "framework": [
   "None"
  ],
  "friendly_name": "Classification of credit card fraudulent transactions using Automated ML",
  "index_order": 5,
  "kernelspec": {
   "display_name": "Python 3.6 - AzureML",
   "language": "python",
   "name": "python3-azureml"
  },
  "language_info": {
   "codemirror_mode": {
    "name": "ipython",
    "version": 3
   },
   "file_extension": ".py",
   "mimetype": "text/x-python",
   "name": "python",
   "nbconvert_exporter": "python",
   "pygments_lexer": "ipython3",
   "version": "3.6.9"
  },
  "mimetype": "text/x-python",
  "name": "python",
  "nbconvert_exporter": "python",
  "pygments_lexer": "ipython3",
  "tags": [
   "remote_run",
   "AutomatedML"
  ],
  "task": "Classification",
  "version": "3.6.7"
 },
 "nbformat": 4,
 "nbformat_minor": 2
}
