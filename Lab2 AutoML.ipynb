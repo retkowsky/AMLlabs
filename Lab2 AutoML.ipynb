{
 "cells": [
  {
   "cell_type": "markdown",
   "metadata": {},
   "source": [
    "# Lab 2: AUTOML\n",
    "<br>\n",
    "\n",
    "<img src='https://github.com/retkowsky/images/blob/master/AzureMLservicebanniere.png?raw=true'>\n",
    "\n",
    "\n",
    "Documentation : https://docs.microsoft.com/en-us/azure/machine-learning/"
   ]
  },
  {
   "cell_type": "markdown",
   "metadata": {},
   "source": [
    "## Introduction\n",
    "\n",
    "In this example we use the associated credit card dataset to showcase how you can use AutoML for a simple classification problem. The goal is to predict if a credit card transaction is considered a fraudulent charge.\n",
    "\n",
    "This notebook is using remote compute to train the model.\n",
    "\n",
    "If you are using an Azure Machine Learning Compute Instance, you are all set. Otherwise, go through the [configuration](../../../configuration.ipynb) notebook first if you haven't already to establish your connection to the AzureML Workspace. \n",
    "\n",
    "In this notebook you will learn how to:\n",
    "1. Create an experiment using an existing workspace.\n",
    "2. Configure AutoML using `AutoMLConfig`.\n",
    "3. Train the model using remote compute.\n",
    "4. Explore the results.\n",
    "5. Test the fitted model."
   ]
  },
  {
   "cell_type": "markdown",
   "metadata": {},
   "source": [
    "## Setup\n",
    "\n",
    "As part of the setup you have already created an Azure ML `Workspace` object. For Automated ML you will need to create an `Experiment` object, which is a named object in a `Workspace` used to run experiments."
   ]
  },
  {
   "cell_type": "code",
   "execution_count": 1,
   "metadata": {},
   "outputs": [],
   "source": [
    "import logging\n",
    "from matplotlib import pyplot as plt\n",
    "import pandas as pd\n",
    "import os\n",
    "import azureml.core\n",
    "from azureml.core.experiment import Experiment\n",
    "from azureml.core.workspace import Workspace\n",
    "from azureml.core.dataset import Dataset\n",
    "from azureml.train.automl import AutoMLConfig"
   ]
  },
  {
   "cell_type": "code",
   "execution_count": 2,
   "metadata": {},
   "outputs": [
    {
     "name": "stdout",
     "output_type": "stream",
     "text": [
      "You are currently using version 1.30.0 of the Azure ML SDK\n"
     ]
    }
   ],
   "source": [
    "print(\"You are currently using version\", azureml.core.VERSION, \"of the Azure ML SDK\")"
   ]
  },
  {
   "cell_type": "code",
   "execution_count": 3,
   "metadata": {},
   "outputs": [
    {
     "data": {
      "text/html": [
       "<div>\n",
       "<style scoped>\n",
       "    .dataframe tbody tr th:only-of-type {\n",
       "        vertical-align: middle;\n",
       "    }\n",
       "\n",
       "    .dataframe tbody tr th {\n",
       "        vertical-align: top;\n",
       "    }\n",
       "\n",
       "    .dataframe thead th {\n",
       "        text-align: right;\n",
       "    }\n",
       "</style>\n",
       "<table border=\"1\" class=\"dataframe\">\n",
       "  <thead>\n",
       "    <tr style=\"text-align: right;\">\n",
       "      <th></th>\n",
       "      <th></th>\n",
       "    </tr>\n",
       "  </thead>\n",
       "  <tbody>\n",
       "    <tr>\n",
       "      <th>Workspace</th>\n",
       "      <td>azuremlworkshop2021</td>\n",
       "    </tr>\n",
       "    <tr>\n",
       "      <th>Resource Group</th>\n",
       "      <td>azuremlworkshop2021-rg</td>\n",
       "    </tr>\n",
       "    <tr>\n",
       "      <th>Location</th>\n",
       "      <td>westeurope</td>\n",
       "    </tr>\n",
       "    <tr>\n",
       "      <th>Experiment Name</th>\n",
       "      <td>Lab2-AutoML</td>\n",
       "    </tr>\n",
       "  </tbody>\n",
       "</table>\n",
       "</div>"
      ],
      "text/plain": [
       "                                       \n",
       "Workspace        azuremlworkshop2021   \n",
       "Resource Group   azuremlworkshop2021-rg\n",
       "Location         westeurope            \n",
       "Experiment Name  Lab2-AutoML           "
      ]
     },
     "execution_count": 3,
     "metadata": {},
     "output_type": "execute_result"
    }
   ],
   "source": [
    "ws = Workspace.from_config()\n",
    "\n",
    "# choose a name for experiment\n",
    "experiment_name = 'Lab2-AutoML'\n",
    "\n",
    "experiment=Experiment(ws, experiment_name)\n",
    "\n",
    "output = {}\n",
    "output['Workspace'] = ws.name\n",
    "output['Resource Group'] = ws.resource_group\n",
    "output['Location'] = ws.location\n",
    "output['Experiment Name'] = experiment.name\n",
    "pd.set_option('display.max_colwidth', -1)\n",
    "outputDf = pd.DataFrame(data = output, index = [''])\n",
    "outputDf.T"
   ]
  },
  {
   "cell_type": "markdown",
   "metadata": {},
   "source": [
    "## Create or Attach existing AmlCompute\n",
    "A compute target is required to execute the Automated ML run. In this tutorial, you create AmlCompute as your training compute resource.\n",
    "\n",
    "> Note that if you have an AzureML Data Scientist role, you will not have permission to create compute resources. Talk to your workspace or IT admin to create the compute targets described in this section, if they do not already exist.\n",
    "\n",
    "#### Creation of AmlCompute takes approximately 5 minutes. \n",
    "If the AmlCompute with that name is already in your workspace this code will skip the creation process.\n",
    "As with other Azure services, there are limits on certain resources (e.g. AmlCompute) associated with the Azure Machine Learning service. Please read [this article](https://docs.microsoft.com/en-us/azure/machine-learning/service/how-to-manage-quotas) on the default limits and how to request more quota."
   ]
  },
  {
   "cell_type": "code",
   "execution_count": 4,
   "metadata": {},
   "outputs": [
    {
     "name": "stdout",
     "output_type": "stream",
     "text": [
      "Found existing cluster, use it.\n",
      "Succeeded\n",
      "AmlCompute wait for completion finished\n",
      "\n",
      "Minimum number of nodes requested have been provisioned\n"
     ]
    }
   ],
   "source": [
    "from azureml.core.compute import ComputeTarget, AmlCompute\n",
    "from azureml.core.compute_target import ComputeTargetException\n",
    "\n",
    "# Choose a name for your CPU cluster\n",
    "cpu_cluster_name = \"cpu-cluster-lab2\"\n",
    "\n",
    "# Verify that cluster does not exist already\n",
    "try:\n",
    "    compute_target = ComputeTarget(workspace=ws, name=cpu_cluster_name)\n",
    "    print('Found existing cluster, use it.')\n",
    "except ComputeTargetException:\n",
    "    compute_config = AmlCompute.provisioning_configuration(vm_size='STANDARD_DS12_V2',\n",
    "                                                           max_nodes=6)\n",
    "    compute_target = ComputeTarget.create(ws, cpu_cluster_name, compute_config)\n",
    "\n",
    "compute_target.wait_for_completion(show_output=True)"
   ]
  },
  {
   "cell_type": "markdown",
   "metadata": {},
   "source": [
    "# Data"
   ]
  },
  {
   "cell_type": "markdown",
   "metadata": {},
   "source": [
    "### Load Data\n",
    "\n",
    "Load the credit card dataset from a csv file containing both training features and labels. The features are inputs to the model, while the training labels represent the expected output of the model. Next, we'll split the data using random_split and extract the training data for the model."
   ]
  },
  {
   "cell_type": "code",
   "execution_count": 5,
   "metadata": {},
   "outputs": [],
   "source": [
    "data = \"https://raw.githubusercontent.com/retkowsky/DataSets-AutoML_AzureMLservice/master/Assurances.csv\"\n",
    "dataset = Dataset.Tabular.from_delimited_files(data)\n",
    "training_data, validation_data = dataset.random_split(percentage=0.7, seed=223)\n",
    "label_column_name = 'Sinistre'"
   ]
  },
  {
   "cell_type": "code",
   "execution_count": 6,
   "metadata": {},
   "outputs": [],
   "source": [
    "df=dataset.to_pandas_dataframe()"
   ]
  },
  {
   "cell_type": "code",
   "execution_count": 7,
   "metadata": {},
   "outputs": [
    {
     "data": {
      "text/plain": [
       "(2160, 15)"
      ]
     },
     "execution_count": 7,
     "metadata": {},
     "output_type": "execute_result"
    }
   ],
   "source": [
    "df.shape"
   ]
  },
  {
   "cell_type": "code",
   "execution_count": 8,
   "metadata": {},
   "outputs": [
    {
     "data": {
      "text/plain": [
       "Index(['Identifiant_Client', 'Marque', 'Usage', 'CSP', 'Puissance', 'Valeur',\n",
       "       'Zone_tarif', 'Statut_marital', 'Année_permis', 'Mode_garage', 'Age',\n",
       "       'Ancienneté_véhicule', 'Ancienneté_contrat', 'Type_assurance',\n",
       "       'Sinistre'],\n",
       "      dtype='object')"
      ]
     },
     "execution_count": 8,
     "metadata": {},
     "output_type": "execute_result"
    }
   ],
   "source": [
    "df.columns"
   ]
  },
  {
   "cell_type": "code",
   "execution_count": 9,
   "metadata": {},
   "outputs": [
    {
     "data": {
      "text/html": [
       "<div>\n",
       "<style scoped>\n",
       "    .dataframe tbody tr th:only-of-type {\n",
       "        vertical-align: middle;\n",
       "    }\n",
       "\n",
       "    .dataframe tbody tr th {\n",
       "        vertical-align: top;\n",
       "    }\n",
       "\n",
       "    .dataframe thead th {\n",
       "        text-align: right;\n",
       "    }\n",
       "</style>\n",
       "<table border=\"1\" class=\"dataframe\">\n",
       "  <thead>\n",
       "    <tr style=\"text-align: right;\">\n",
       "      <th></th>\n",
       "      <th>Identifiant_Client</th>\n",
       "      <th>Marque</th>\n",
       "      <th>Usage</th>\n",
       "      <th>CSP</th>\n",
       "      <th>Puissance</th>\n",
       "      <th>Valeur</th>\n",
       "      <th>Zone_tarif</th>\n",
       "      <th>Statut_marital</th>\n",
       "      <th>Année_permis</th>\n",
       "      <th>Mode_garage</th>\n",
       "      <th>Age</th>\n",
       "      <th>Ancienneté_véhicule</th>\n",
       "      <th>Ancienneté_contrat</th>\n",
       "      <th>Type_assurance</th>\n",
       "      <th>Sinistre</th>\n",
       "    </tr>\n",
       "  </thead>\n",
       "  <tbody>\n",
       "    <tr>\n",
       "      <th>0</th>\n",
       "      <td>1000758</td>\n",
       "      <td>Peugeot</td>\n",
       "      <td>Privé &amp; Professionnel</td>\n",
       "      <td>Ouvriers (O)</td>\n",
       "      <td>6</td>\n",
       "      <td>6.0</td>\n",
       "      <td>3.0</td>\n",
       "      <td>Marié</td>\n",
       "      <td>1985.0</td>\n",
       "      <td>Non</td>\n",
       "      <td>53.0</td>\n",
       "      <td>16</td>\n",
       "      <td>8</td>\n",
       "      <td>Tous risques</td>\n",
       "      <td>Aucun accident</td>\n",
       "    </tr>\n",
       "    <tr>\n",
       "      <th>1</th>\n",
       "      <td>1000980</td>\n",
       "      <td>Citroën</td>\n",
       "      <td>Privé &amp; trajet travail</td>\n",
       "      <td>Cadres et professions intellectuelles supérieures (CPIS)</td>\n",
       "      <td>8</td>\n",
       "      <td>8.0</td>\n",
       "      <td>1.0</td>\n",
       "      <td>Marié</td>\n",
       "      <td>1990.0</td>\n",
       "      <td>Oui</td>\n",
       "      <td>41.0</td>\n",
       "      <td>13</td>\n",
       "      <td>13</td>\n",
       "      <td>Tous risques</td>\n",
       "      <td>Aucun accident</td>\n",
       "    </tr>\n",
       "    <tr>\n",
       "      <th>2</th>\n",
       "      <td>1001134</td>\n",
       "      <td>Peugeot</td>\n",
       "      <td>Privé &amp; trajet travail</td>\n",
       "      <td>Cadres et professions intellectuelles supérieures (CPIS)</td>\n",
       "      <td>8</td>\n",
       "      <td>7.0</td>\n",
       "      <td>9.0</td>\n",
       "      <td>Marié</td>\n",
       "      <td>2000.0</td>\n",
       "      <td>Oui</td>\n",
       "      <td>30.0</td>\n",
       "      <td>8</td>\n",
       "      <td>4</td>\n",
       "      <td>Tous risques</td>\n",
       "      <td>Accident</td>\n",
       "    </tr>\n",
       "    <tr>\n",
       "      <th>3</th>\n",
       "      <td>1001267</td>\n",
       "      <td>Renault</td>\n",
       "      <td>Privé &amp; trajet travail</td>\n",
       "      <td>Employés (E)</td>\n",
       "      <td>9</td>\n",
       "      <td>8.0</td>\n",
       "      <td>8.0</td>\n",
       "      <td>Marié</td>\n",
       "      <td>1981.0</td>\n",
       "      <td>Oui</td>\n",
       "      <td>53.0</td>\n",
       "      <td>11</td>\n",
       "      <td>5</td>\n",
       "      <td>Tous risques sérénité</td>\n",
       "      <td>Aucun accident</td>\n",
       "    </tr>\n",
       "    <tr>\n",
       "      <th>4</th>\n",
       "      <td>1003548</td>\n",
       "      <td>Renault</td>\n",
       "      <td>Privé &amp; trajet travail</td>\n",
       "      <td>Cadres et professions intellectuelles supérieures (CPIS)</td>\n",
       "      <td>6</td>\n",
       "      <td>5.0</td>\n",
       "      <td>5.0</td>\n",
       "      <td>Marié</td>\n",
       "      <td>1995.0</td>\n",
       "      <td>Oui</td>\n",
       "      <td>36.0</td>\n",
       "      <td>5</td>\n",
       "      <td>5</td>\n",
       "      <td>Tous risques sérénité</td>\n",
       "      <td>Aucun accident</td>\n",
       "    </tr>\n",
       "  </tbody>\n",
       "</table>\n",
       "</div>"
      ],
      "text/plain": [
       "   Identifiant_Client   Marque                   Usage  \\\n",
       "0  1000758             Peugeot  Privé & Professionnel    \n",
       "1  1000980             Citroën  Privé & trajet travail   \n",
       "2  1001134             Peugeot  Privé & trajet travail   \n",
       "3  1001267             Renault  Privé & trajet travail   \n",
       "4  1003548             Renault  Privé & trajet travail   \n",
       "\n",
       "                                                        CSP  Puissance  \\\n",
       "0  Ouvriers (O)                                              6           \n",
       "1  Cadres et professions intellectuelles supérieures (CPIS)  8           \n",
       "2  Cadres et professions intellectuelles supérieures (CPIS)  8           \n",
       "3  Employés (E)                                              9           \n",
       "4  Cadres et professions intellectuelles supérieures (CPIS)  6           \n",
       "\n",
       "   Valeur  Zone_tarif Statut_marital  Année_permis Mode_garage   Age  \\\n",
       "0  6.0     3.0         Marié          1985.0        Non         53.0   \n",
       "1  8.0     1.0         Marié          1990.0        Oui         41.0   \n",
       "2  7.0     9.0         Marié          2000.0        Oui         30.0   \n",
       "3  8.0     8.0         Marié          1981.0        Oui         53.0   \n",
       "4  5.0     5.0         Marié          1995.0        Oui         36.0   \n",
       "\n",
       "   Ancienneté_véhicule  Ancienneté_contrat         Type_assurance  \\\n",
       "0  16                   8                   Tous risques            \n",
       "1  13                   13                  Tous risques            \n",
       "2  8                    4                   Tous risques            \n",
       "3  11                   5                   Tous risques sérénité   \n",
       "4  5                    5                   Tous risques sérénité   \n",
       "\n",
       "         Sinistre  \n",
       "0  Aucun accident  \n",
       "1  Aucun accident  \n",
       "2  Accident        \n",
       "3  Aucun accident  \n",
       "4  Aucun accident  "
      ]
     },
     "execution_count": 9,
     "metadata": {},
     "output_type": "execute_result"
    }
   ],
   "source": [
    "df.head()"
   ]
  },
  {
   "cell_type": "code",
   "execution_count": 10,
   "metadata": {},
   "outputs": [
    {
     "data": {
      "text/plain": [
       "Aucun accident    1623\n",
       "Accident          537 \n",
       "Name: Sinistre, dtype: int64"
      ]
     },
     "execution_count": 10,
     "metadata": {},
     "output_type": "execute_result"
    }
   ],
   "source": [
    "df.Sinistre.value_counts()"
   ]
  },
  {
   "cell_type": "code",
   "execution_count": 11,
   "metadata": {},
   "outputs": [
    {
     "data": {
      "text/plain": [
       "Aucun accident    0.751389\n",
       "Accident          0.248611\n",
       "Name: Sinistre, dtype: float64"
      ]
     },
     "execution_count": 11,
     "metadata": {},
     "output_type": "execute_result"
    }
   ],
   "source": [
    "df.Sinistre.value_counts(normalize=\"true\")"
   ]
  },
  {
   "cell_type": "code",
   "execution_count": 12,
   "metadata": {},
   "outputs": [
    {
     "data": {
      "text/plain": [
       "<seaborn.axisgrid.FacetGrid at 0x7fd15f794320>"
      ]
     },
     "execution_count": 12,
     "metadata": {},
     "output_type": "execute_result"
    },
    {
     "data": {
      "image/png": "[encoded data removed]",
      "text/plain": [
       "<Figure size 504x504 with 1 Axes>"
      ]
     },
     "metadata": {
      "needs_background": "light"
     },
     "output_type": "display_data"
    }
   ],
   "source": [
    "import seaborn as sns\n",
    "sns.catplot(x=\"Sinistre\", kind=\"count\", data=df, height=7)"
   ]
  },
  {
   "cell_type": "markdown",
   "metadata": {},
   "source": [
    "## Train\n",
    "\n",
    "Instantiate a AutoMLConfig object. This defines the settings and data used to run the experiment.\n",
    "\n",
    "|Property|Description|\n",
    "|-|-|\n",
    "|**task**|classification or regression|\n",
    "|**primary_metric**|This is the metric that you want to optimize. Classification supports the following primary metrics: <br><i>accuracy</i><br><i>AUC_weighted</i><br><i>average_precision_score_weighted</i><br><i>norm_macro_recall</i><br><i>precision_score_weighted</i>|\n",
    "|**enable_early_stopping**|Stop the run if the metric score is not showing improvement.|\n",
    "|**n_cross_validations**|Number of cross validation splits.|\n",
    "|**training_data**|Input dataset, containing both features and label column.|\n",
    "|**label_column_name**|The name of the label column.|\n",
    "\n",
    "**_You can find more information about primary metrics_** [here](https://docs.microsoft.com/en-us/azure/machine-learning/service/how-to-configure-auto-train#primary-metric)"
   ]
  },
  {
   "cell_type": "code",
   "execution_count": 13,
   "metadata": {},
   "outputs": [],
   "source": [
    "automl_settings = {\n",
    "    \"n_cross_validations\": 3,\n",
    "    \"primary_metric\": 'average_precision_score_weighted', #Metric\n",
    "    \"enable_early_stopping\": True,\n",
    "    \"max_concurrent_iterations\": 2, # This is a limit for testing purpose, please increase it as per cluster size\n",
    "    \"experiment_timeout_hours\": 0.25, # This is a time limit for testing purposes, remove it for real use cases, this will drastically limit ablity to find the best model possible\n",
    "    \"iterations\": 5, # Number of iterations\n",
    "    \"verbosity\": logging.INFO,\n",
    "}\n",
    "\n",
    "automl_config = AutoMLConfig(task = 'classification',\n",
    "                             debug_log = 'automl_errors.log',\n",
    "                             compute_target = compute_target,\n",
    "                             training_data = training_data,\n",
    "                             label_column_name = label_column_name,\n",
    "                             **automl_settings\n",
    "                            )"
   ]
  },
  {
   "cell_type": "markdown",
   "metadata": {},
   "source": [
    "Call the `submit` method on the experiment object and pass the run configuration. Depending on the data and the number of iterations this can run for a while. Validation errors and current status will be shown when setting `show_output=True` and the execution will be synchronous."
   ]
  },
  {
   "cell_type": "code",
   "execution_count": 14,
   "metadata": {},
   "outputs": [
    {
     "name": "stdout",
     "output_type": "stream",
     "text": [
      "Submitting remote run.\n"
     ]
    },
    {
     "data": {
      "text/html": [
       "<table style=\"width:100%\"><tr><th>Experiment</th><th>Id</th><th>Type</th><th>Status</th><th>Details Page</th><th>Docs Page</th></tr><tr><td>Lab2-AutoML</td><td>AutoML_098d91f5-5f0b-48d4-9c6c-0119d314a56f</td><td>automl</td><td>NotStarted</td><td><a href=\"https://ml.azure.com/runs/AutoML_098d91f5-5f0b-48d4-9c6c-0119d314a56f?wsid=/subscriptions/70b8f39e-8863-49f7-b6ba-34a80799550c/resourcegroups/azuremlworkshop2021-rg/workspaces/azuremlworkshop2021&amp;tid=72f988bf-86f1-41af-91ab-2d7cd011db47\" target=\"_blank\" rel=\"noopener\">Link to Azure Machine Learning studio</a></td><td><a href=\"https://docs.microsoft.com/en-us/python/api/overview/azure/ml/intro?view=azure-ml-py\" target=\"_blank\" rel=\"noopener\">Link to Documentation</a></td></tr></table>"
      ],
      "text/plain": [
       "<IPython.core.display.HTML object>"
      ]
     },
     "metadata": {},
     "output_type": "display_data"
    }
   ],
   "source": [
    "remote_run = experiment.submit(automl_config, show_output = False)"
   ]
  },
  {
   "cell_type": "code",
   "execution_count": 15,
   "metadata": {},
   "outputs": [],
   "source": [
    "# If you need to retrieve a run that already started, use the following code\n",
    "#from azureml.train.automl.run import AutoMLRun\n",
    "#remote_run = AutoMLRun(experiment = experiment, run_id = '<replace with your run id>')"
   ]
  },
  {
   "cell_type": "code",
   "execution_count": 16,
   "metadata": {},
   "outputs": [
    {
     "data": {
      "text/plain": [
       "{'runId': 'AutoML_098d91f5-5f0b-48d4-9c6c-0119d314a56f',\n",
       " 'target': 'cpu-cluster-lab2',\n",
       " 'status': 'Completed',\n",
       " 'startTimeUtc': '2021-07-09T12:43:29.109498Z',\n",
       " 'endTimeUtc': '2021-07-09T12:54:48.826903Z',\n",
       " 'properties': {'num_iterations': '5',\n",
       "  'training_type': 'TrainFull',\n",
       "  'acquisition_function': 'EI',\n",
       "  'primary_metric': 'average_precision_score_weighted',\n",
       "  'train_split': '0',\n",
       "  'acquisition_parameter': '0',\n",
       "  'num_cross_validation': '3',\n",
       "  'target': 'cpu-cluster-lab2',\n",
       "  'AMLSettingsJsonString': '{\"path\":null,\"name\":\"Lab2-AutoML\",\"subscription_id\":\"70b8f39e-8863-49f7-b6ba-34a80799550c\",\"resource_group\":\"azuremlworkshop2021-rg\",\"workspace_name\":\"azuremlworkshop2021\",\"region\":\"westeurope\",\"compute_target\":\"cpu-cluster-lab2\",\"spark_service\":null,\"azure_service\":\"remote\",\"many_models\":false,\"pipeline_fetch_max_batch_size\":1,\"enable_batch_run\":false,\"enable_run_restructure\":false,\"start_auxiliary_runs_before_parent_complete\":false,\"enable_code_generation\":false,\"iterations\":5,\"primary_metric\":\"average_precision_score_weighted\",\"task_type\":\"classification\",\"data_script\":null,\"test_size\":0.0,\"validation_size\":0.0,\"n_cross_validations\":3,\"y_min\":null,\"y_max\":null,\"num_classes\":null,\"featurization\":\"auto\",\"_ignore_package_version_incompatibilities\":false,\"is_timeseries\":false,\"max_cores_per_iteration\":1,\"max_concurrent_iterations\":2,\"iteration_timeout_minutes\":null,\"mem_in_mb\":null,\"enforce_time_on_windows\":false,\"experiment_timeout_minutes\":15,\"experiment_exit_score\":null,\"whitelist_models\":null,\"blacklist_algos\":[\"TensorFlowLinearClassifier\",\"TensorFlowDNN\"],\"supported_models\":[\"LinearSVM\",\"SVM\",\"TensorFlowLinearClassifier\",\"ExtremeRandomTrees\",\"BernoulliNaiveBayes\",\"KNN\",\"SGD\",\"DecisionTree\",\"LogisticRegression\",\"XGBoostClassifier\",\"GradientBoosting\",\"TensorFlowDNN\",\"AveragedPerceptronClassifier\",\"MultinomialNaiveBayes\",\"LightGBM\",\"RandomForest\"],\"private_models\":[],\"auto_blacklist\":true,\"blacklist_samples_reached\":false,\"exclude_nan_labels\":true,\"verbosity\":20,\"_debug_log\":\"azureml_automl.log\",\"show_warnings\":false,\"model_explainability\":true,\"service_url\":null,\"sdk_url\":null,\"sdk_packages\":null,\"enable_onnx_compatible_models\":false,\"enable_split_onnx_featurizer_estimator_models\":false,\"vm_type\":\"STANDARD_DS12_V2\",\"telemetry_verbosity\":20,\"send_telemetry\":true,\"enable_dnn\":false,\"scenario\":\"SDK-1.13.0\",\"environment_label\":null,\"save_mlflow\":false,\"force_text_dnn\":false,\"enable_feature_sweeping\":true,\"enable_early_stopping\":true,\"early_stopping_n_iters\":10,\"metrics\":null,\"enable_metric_confidence\":false,\"enable_ensembling\":true,\"enable_stack_ensembling\":true,\"ensemble_iterations\":5,\"enable_tf\":false,\"enable_subsampling\":false,\"subsample_seed\":null,\"enable_nimbusml\":false,\"enable_streaming\":false,\"force_streaming\":false,\"track_child_runs\":true,\"allowed_private_models\":[],\"label_column_name\":\"Sinistre\",\"weight_column_name\":null,\"cv_split_column_names\":null,\"enable_local_managed\":false,\"_local_managed_run_id\":null,\"cost_mode\":1,\"lag_length\":0,\"metric_operation\":\"maximize\",\"preprocess\":true}',\n",
       "  'DataPrepJsonString': '{\\\\\"training_data\\\\\": {\\\\\"datasetId\\\\\": \\\\\"9d83019b-c933-4600-b958-5165af07c0d0\\\\\"}, \\\\\"datasets\\\\\": 0}',\n",
       "  'EnableSubsampling': 'False',\n",
       "  'runTemplate': 'AutoML',\n",
       "  'azureml.runsource': 'automl',\n",
       "  'display_task_type': 'classification',\n",
       "  'dependencies_versions': '{\"azureml-widgets\": \"1.30.0\", \"azureml-train\": \"1.30.0\", \"azureml-train-restclients-hyperdrive\": \"1.30.0\", \"azureml-train-core\": \"1.30.0\", \"azureml-train-automl\": \"1.30.0\", \"azureml-train-automl-runtime\": \"1.30.0\", \"azureml-train-automl-client\": \"1.30.0\", \"azureml-tensorboard\": \"1.30.0\", \"azureml-telemetry\": \"1.30.0\", \"azureml-sdk\": \"1.30.0\", \"azureml-samples\": \"0+unknown\", \"azureml-pipeline\": \"1.30.0\", \"azureml-pipeline-steps\": \"1.30.0\", \"azureml-pipeline-core\": \"1.30.0\", \"azureml-opendatasets\": \"1.30.0\", \"azureml-model-management-sdk\": \"1.0.1b6.post1\", \"azureml-mlflow\": \"1.30.0\", \"azureml-interpret\": \"1.30.0\", \"azureml-explain-model\": \"1.30.0\", \"azureml-defaults\": \"1.30.0\", \"azureml-dataset-runtime\": \"1.30.0\", \"azureml-dataprep\": \"2.15.1\", \"azureml-dataprep-rslex\": \"1.13.0\", \"azureml-dataprep-native\": \"33.0.0\", \"azureml-datadrift\": \"1.30.0\", \"azureml-core\": \"1.30.0\", \"azureml-contrib-services\": \"1.30.0\", \"azureml-contrib-server\": \"1.30.0\", \"azureml-contrib-reinforcementlearning\": \"1.30.0\", \"azureml-contrib-pipeline-steps\": \"1.30.0\", \"azureml-contrib-notebook\": \"1.30.0\", \"azureml-contrib-fairness\": \"1.30.0\", \"azureml-contrib-dataset\": \"1.30.0\", \"azureml-cli-common\": \"1.30.0\", \"azureml-automl-runtime\": \"1.30.0\", \"azureml-automl-dnn-nlp\": \"1.30.0\", \"azureml-automl-core\": \"1.30.0\", \"azureml-accel-models\": \"1.30.0\"}',\n",
       "  '_aml_system_scenario_identification': 'Remote.Parent',\n",
       "  'ClientType': 'SDK',\n",
       "  'environment_cpu_name': 'AzureML-AutoML',\n",
       "  'environment_cpu_label': 'prod',\n",
       "  'environment_gpu_name': 'AzureML-AutoML-GPU',\n",
       "  'environment_gpu_label': 'prod',\n",
       "  'root_attribution': 'automl',\n",
       "  'attribution': 'AutoML',\n",
       "  'Orchestrator': 'AutoML',\n",
       "  'CancelUri': 'https://westeurope.api.azureml.ms/jasmine/v1.0/subscriptions/70b8f39e-8863-49f7-b6ba-34a80799550c/resourceGroups/azuremlworkshop2021-rg/providers/Microsoft.MachineLearningServices/workspaces/azuremlworkshop2021/experimentids/0eaf806b-9316-4466-a22e-53c541c5e97c/cancel/AutoML_098d91f5-5f0b-48d4-9c6c-0119d314a56f',\n",
       "  'ClientSdkVersion': '1.31.0',\n",
       "  'snapshotId': '00000000-0000-0000-0000-000000000000',\n",
       "  'SetupRunId': 'AutoML_098d91f5-5f0b-48d4-9c6c-0119d314a56f_setup',\n",
       "  'SetupRunContainerId': 'dcid.AutoML_098d91f5-5f0b-48d4-9c6c-0119d314a56f_setup',\n",
       "  'FeaturizationRunJsonPath': 'featurizer_container.json',\n",
       "  'FeaturizationRunId': 'AutoML_098d91f5-5f0b-48d4-9c6c-0119d314a56f_featurize',\n",
       "  'ProblemInfoJsonString': '{\"dataset_num_categorical\": 0, \"is_sparse\": true, \"subsampling\": false, \"has_extra_col\": true, \"dataset_classes\": 2, \"dataset_features\": 127, \"dataset_samples\": 1515, \"single_frequency_class_detected\": false}',\n",
       "  'ModelExplainRunId': 'AutoML_098d91f5-5f0b-48d4-9c6c-0119d314a56f_ModelExplain'},\n",
       " 'inputDatasets': [{'dataset': {'id': '9d83019b-c933-4600-b958-5165af07c0d0'}, 'consumptionDetails': {'type': 'RunInput', 'inputName': 'training_data', 'mechanism': 'Direct'}}],\n",
       " 'outputDatasets': [],\n",
       " 'logFiles': {},\n",
       " 'submittedBy': 'Serge Retkowsky'}"
      ]
     },
     "execution_count": 16,
     "metadata": {},
     "output_type": "execute_result"
    }
   ],
   "source": [
    "remote_run.wait_for_completion(show_output=False)"
   ]
  },
  {
   "cell_type": "markdown",
   "metadata": {},
   "source": [
    "## Results"
   ]
  },
  {
   "cell_type": "markdown",
   "metadata": {},
   "source": [
    "#### Widget for Monitoring Runs\n",
    "\n",
    "The widget will first report a \"loading\" status while running the first iteration. After completing the first iteration, an auto-updating graph and table will be shown. The widget will refresh once per minute, so you should see the graph update as child runs complete.\n",
    "\n",
    "**Note:** The widget displays a link at the bottom. Use this link to open a web interface to explore the individual run details"
   ]
  },
  {
   "cell_type": "code",
   "execution_count": 17,
   "metadata": {
    "tags": [
     "widget-rundetails-sample"
    ]
   },
   "outputs": [
    {
     "data": {
      "application/vnd.jupyter.widget-view+json": {
       "model_id": "eaac6718ff2541afbadbbf4aa69be2b1",
       "version_major": 2,
       "version_minor": 0
      },
      "text/plain": [
       "_AutoMLWidget(widget_settings={'childWidgetDisplay': 'popup', 'send_telemetry': False, 'log_level': 'INFO', 's…"
      ]
     },
     "metadata": {},
     "output_type": "display_data"
    },
    {
     "data": {
      "application/aml.mini.widget.v1": "{\"status\": \"Completed\", \"workbench_run_details_uri\": \"https://ml.azure.com/runs/AutoML_098d91f5-5f0b-48d4-9c6c-0119d314a56f?wsid=/subscriptions/70b8f39e-8863-49f7-b6ba-34a80799550c/resourcegroups/azuremlworkshop2021-rg/workspaces/azuremlworkshop2021&tid=72f988bf-86f1-41af-91ab-2d7cd011db47\", \"run_id\": \"AutoML_098d91f5-5f0b-48d4-9c6c-0119d314a56f\", \"run_properties\": {\"run_id\": \"AutoML_098d91f5-5f0b-48d4-9c6c-0119d314a56f\", \"created_utc\": \"2021-07-09T12:43:14.487057Z\", \"properties\": {\"num_iterations\": \"5\", \"training_type\": \"TrainFull\", \"acquisition_function\": \"EI\", \"primary_metric\": \"average_precision_score_weighted\", \"train_split\": \"0\", \"acquisition_parameter\": \"0\", \"num_cross_validation\": \"3\", \"target\": \"cpu-cluster-lab2\", \"AMLSettingsJsonString\": \"{\\\"path\\\":null,\\\"name\\\":\\\"Lab2-AutoML\\\",\\\"subscription_id\\\":\\\"70b8f39e-8863-49f7-b6ba-34a80799550c\\\",\\\"resource_group\\\":\\\"azuremlworkshop2021-rg\\\",\\\"workspace_name\\\":\\\"azuremlworkshop2021\\\",\\\"region\\\":\\\"westeurope\\\",\\\"compute_target\\\":\\\"cpu-cluster-lab2\\\",\\\"spark_service\\\":null,\\\"azure_service\\\":\\\"remote\\\",\\\"many_models\\\":false,\\\"pipeline_fetch_max_batch_size\\\":1,\\\"enable_batch_run\\\":false,\\\"enable_run_restructure\\\":false,\\\"start_auxiliary_runs_before_parent_complete\\\":false,\\\"enable_code_generation\\\":false,\\\"iterations\\\":5,\\\"primary_metric\\\":\\\"average_precision_score_weighted\\\",\\\"task_type\\\":\\\"classification\\\",\\\"data_script\\\":null,\\\"test_size\\\":0.0,\\\"validation_size\\\":0.0,\\\"n_cross_validations\\\":3,\\\"y_min\\\":null,\\\"y_max\\\":null,\\\"num_classes\\\":null,\\\"featurization\\\":\\\"auto\\\",\\\"_ignore_package_version_incompatibilities\\\":false,\\\"is_timeseries\\\":false,\\\"max_cores_per_iteration\\\":1,\\\"max_concurrent_iterations\\\":2,\\\"iteration_timeout_minutes\\\":null,\\\"mem_in_mb\\\":null,\\\"enforce_time_on_windows\\\":false,\\\"experiment_timeout_minutes\\\":15,\\\"experiment_exit_score\\\":null,\\\"whitelist_models\\\":null,\\\"blacklist_algos\\\":[\\\"TensorFlowLinearClassifier\\\",\\\"TensorFlowDNN\\\"],\\\"supported_models\\\":[\\\"LinearSVM\\\",\\\"SVM\\\",\\\"TensorFlowLinearClassifier\\\",\\\"ExtremeRandomTrees\\\",\\\"BernoulliNaiveBayes\\\",\\\"KNN\\\",\\\"SGD\\\",\\\"DecisionTree\\\",\\\"LogisticRegression\\\",\\\"XGBoostClassifier\\\",\\\"GradientBoosting\\\",\\\"TensorFlowDNN\\\",\\\"AveragedPerceptronClassifier\\\",\\\"MultinomialNaiveBayes\\\",\\\"LightGBM\\\",\\\"RandomForest\\\"],\\\"private_models\\\":[],\\\"auto_blacklist\\\":true,\\\"blacklist_samples_reached\\\":false,\\\"exclude_nan_labels\\\":true,\\\"verbosity\\\":20,\\\"_debug_log\\\":\\\"azureml_automl.log\\\",\\\"show_warnings\\\":false,\\\"model_explainability\\\":true,\\\"service_url\\\":null,\\\"sdk_url\\\":null,\\\"sdk_packages\\\":null,\\\"enable_onnx_compatible_models\\\":false,\\\"enable_split_onnx_featurizer_estimator_models\\\":false,\\\"vm_type\\\":\\\"STANDARD_DS12_V2\\\",\\\"telemetry_verbosity\\\":20,\\\"send_telemetry\\\":true,\\\"enable_dnn\\\":false,\\\"scenario\\\":\\\"SDK-1.13.0\\\",\\\"environment_label\\\":null,\\\"save_mlflow\\\":false,\\\"force_text_dnn\\\":false,\\\"enable_feature_sweeping\\\":true,\\\"enable_early_stopping\\\":true,\\\"early_stopping_n_iters\\\":10,\\\"metrics\\\":null,\\\"enable_metric_confidence\\\":false,\\\"enable_ensembling\\\":true,\\\"enable_stack_ensembling\\\":true,\\\"ensemble_iterations\\\":5,\\\"enable_tf\\\":false,\\\"enable_subsampling\\\":false,\\\"subsample_seed\\\":null,\\\"enable_nimbusml\\\":false,\\\"enable_streaming\\\":false,\\\"force_streaming\\\":false,\\\"track_child_runs\\\":true,\\\"allowed_private_models\\\":[],\\\"label_column_name\\\":\\\"Sinistre\\\",\\\"weight_column_name\\\":null,\\\"cv_split_column_names\\\":null,\\\"enable_local_managed\\\":false,\\\"_local_managed_run_id\\\":null,\\\"cost_mode\\\":1,\\\"lag_length\\\":0,\\\"metric_operation\\\":\\\"maximize\\\",\\\"preprocess\\\":true}\", \"DataPrepJsonString\": \"{\\\\\\\"training_data\\\\\\\": {\\\\\\\"datasetId\\\\\\\": \\\\\\\"9d83019b-c933-4600-b958-5165af07c0d0\\\\\\\"}, \\\\\\\"datasets\\\\\\\": 0}\", \"EnableSubsampling\": \"False\", \"runTemplate\": \"AutoML\", \"azureml.runsource\": \"automl\", \"display_task_type\": \"classification\", \"dependencies_versions\": \"{\\\"azureml-widgets\\\": \\\"1.30.0\\\", \\\"azureml-train\\\": \\\"1.30.0\\\", \\\"azureml-train-restclients-hyperdrive\\\": \\\"1.30.0\\\", \\\"azureml-train-core\\\": \\\"1.30.0\\\", \\\"azureml-train-automl\\\": \\\"1.30.0\\\", \\\"azureml-train-automl-runtime\\\": \\\"1.30.0\\\", \\\"azureml-train-automl-client\\\": \\\"1.30.0\\\", \\\"azureml-tensorboard\\\": \\\"1.30.0\\\", \\\"azureml-telemetry\\\": \\\"1.30.0\\\", \\\"azureml-sdk\\\": \\\"1.30.0\\\", \\\"azureml-samples\\\": \\\"0+unknown\\\", \\\"azureml-pipeline\\\": \\\"1.30.0\\\", \\\"azureml-pipeline-steps\\\": \\\"1.30.0\\\", \\\"azureml-pipeline-core\\\": \\\"1.30.0\\\", \\\"azureml-opendatasets\\\": \\\"1.30.0\\\", \\\"azureml-model-management-sdk\\\": \\\"1.0.1b6.post1\\\", \\\"azureml-mlflow\\\": \\\"1.30.0\\\", \\\"azureml-interpret\\\": \\\"1.30.0\\\", \\\"azureml-explain-model\\\": \\\"1.30.0\\\", \\\"azureml-defaults\\\": \\\"1.30.0\\\", \\\"azureml-dataset-runtime\\\": \\\"1.30.0\\\", \\\"azureml-dataprep\\\": \\\"2.15.1\\\", \\\"azureml-dataprep-rslex\\\": \\\"1.13.0\\\", \\\"azureml-dataprep-native\\\": \\\"33.0.0\\\", \\\"azureml-datadrift\\\": \\\"1.30.0\\\", \\\"azureml-core\\\": \\\"1.30.0\\\", \\\"azureml-contrib-services\\\": \\\"1.30.0\\\", \\\"azureml-contrib-server\\\": \\\"1.30.0\\\", \\\"azureml-contrib-reinforcementlearning\\\": \\\"1.30.0\\\", \\\"azureml-contrib-pipeline-steps\\\": \\\"1.30.0\\\", \\\"azureml-contrib-notebook\\\": \\\"1.30.0\\\", \\\"azureml-contrib-fairness\\\": \\\"1.30.0\\\", \\\"azureml-contrib-dataset\\\": \\\"1.30.0\\\", \\\"azureml-cli-common\\\": \\\"1.30.0\\\", \\\"azureml-automl-runtime\\\": \\\"1.30.0\\\", \\\"azureml-automl-dnn-nlp\\\": \\\"1.30.0\\\", \\\"azureml-automl-core\\\": \\\"1.30.0\\\", \\\"azureml-accel-models\\\": \\\"1.30.0\\\"}\", \"_aml_system_scenario_identification\": \"Remote.Parent\", \"ClientType\": \"SDK\", \"environment_cpu_name\": \"AzureML-AutoML\", \"environment_cpu_label\": \"prod\", \"environment_gpu_name\": \"AzureML-AutoML-GPU\", \"environment_gpu_label\": \"prod\", \"root_attribution\": \"automl\", \"attribution\": \"AutoML\", \"Orchestrator\": \"AutoML\", \"CancelUri\": \"https://westeurope.api.azureml.ms/jasmine/v1.0/subscriptions/70b8f39e-8863-49f7-b6ba-34a80799550c/resourceGroups/azuremlworkshop2021-rg/providers/Microsoft.MachineLearningServices/workspaces/azuremlworkshop2021/experimentids/0eaf806b-9316-4466-a22e-53c541c5e97c/cancel/AutoML_098d91f5-5f0b-48d4-9c6c-0119d314a56f\", \"ClientSdkVersion\": \"1.31.0\", \"snapshotId\": \"00000000-0000-0000-0000-000000000000\", \"SetupRunId\": \"AutoML_098d91f5-5f0b-48d4-9c6c-0119d314a56f_setup\", \"SetupRunContainerId\": \"dcid.AutoML_098d91f5-5f0b-48d4-9c6c-0119d314a56f_setup\", \"FeaturizationRunJsonPath\": \"featurizer_container.json\", \"FeaturizationRunId\": \"AutoML_098d91f5-5f0b-48d4-9c6c-0119d314a56f_featurize\", \"ProblemInfoJsonString\": \"{\\\"dataset_num_categorical\\\": 0, \\\"is_sparse\\\": true, \\\"subsampling\\\": false, \\\"has_extra_col\\\": true, \\\"dataset_classes\\\": 2, \\\"dataset_features\\\": 127, \\\"dataset_samples\\\": 1515, \\\"single_frequency_class_detected\\\": false}\", \"ModelExplainRunId\": \"AutoML_098d91f5-5f0b-48d4-9c6c-0119d314a56f_ModelExplain\"}, \"tags\": {\"model_explain_run\": \"best_run\", \"_aml_system_azureml.automlComponent\": \"AutoML\", \"pipeline_id\": \"<c7af0367625be6ac5c2fecbfc72ed444cb7a2111>;<84f353ee505484d17af765441b00eb466a22fd74>;<5dfac790c5c209f98a1da2dc1c7fb76f0397324f>;<__AutoML_Ensemble__>;<__AutoML_Stack_Ensemble__>;\", \"score\": \"<0.8346516424679685>;<0.8147191996985326>;<0.8115476668980515>;<0.8393289460636391>;<0.8379658449971018>;\", \"predicted_cost\": \"<0>;<0.5>;<0>;<0>;<0>;\", \"fit_time\": \"<0.11027166666666666>;<0.04134433333333334>;<0.09958166666666667>;<3>;<3>;\", \"training_percent\": \"<100>;<100>;<100>;<100>;<100>;\", \"iteration\": \"<1>;<2>;<0>;<3>;<4>;\", \"run_preprocessor\": \"<MaxAbsScaler>;<MaxAbsScaler>;<MaxAbsScaler>;<>;<>;\", \"run_algorithm\": \"<XGBoostClassifier>;<ExtremeRandomTrees>;<LightGBM>;<VotingEnsemble>;<StackEnsemble>;\", \"automl_best_child_run_id\": \"AutoML_098d91f5-5f0b-48d4-9c6c-0119d314a56f_3\", \"model_explain_best_run_child_id\": \"AutoML_098d91f5-5f0b-48d4-9c6c-0119d314a56f_3\"}, \"end_time_utc\": \"2021-07-09T12:54:48.826903Z\", \"status\": \"Completed\", \"log_files\": {}, \"log_groups\": [], \"run_duration\": \"0:11:34\", \"run_number\": \"31\", \"run_queued_details\": {\"status\": \"Completed\", \"details\": null}}, \"child_runs\": [{\"run_id\": \"AutoML_098d91f5-5f0b-48d4-9c6c-0119d314a56f_0\", \"run_number\": 35, \"metric\": null, \"status\": \"Completed\", \"run_type\": \"azureml.scriptrun\", \"training_percent\": \"100\", \"start_time\": \"2021-07-09T12:51:29.229618Z\", \"end_time\": \"2021-07-09T12:52:05.23132Z\", \"created_time\": \"2021-07-09T12:50:23.120519Z\", \"created_time_dt\": \"2021-07-09T12:50:23.120519Z\", \"duration\": \"0:01:42\", \"iteration\": \"0\", \"goal\": \"average_precision_score_weighted_max\", \"run_name\": \"MaxAbsScaler, LightGBM\", \"run_properties\": \"copy=True\", \"primary_metric\": 0.81154767, \"best_metric\": 0.81154767}, {\"run_id\": \"AutoML_098d91f5-5f0b-48d4-9c6c-0119d314a56f_1\", \"run_number\": 36, \"metric\": null, \"status\": \"Completed\", \"run_type\": \"azureml.scriptrun\", \"training_percent\": \"100\", \"start_time\": \"2021-07-09T12:50:35.297655Z\", \"end_time\": \"2021-07-09T12:51:11.898723Z\", \"created_time\": \"2021-07-09T12:50:23.171224Z\", \"created_time_dt\": \"2021-07-09T12:50:23.171224Z\", \"duration\": \"0:00:48\", \"iteration\": \"1\", \"goal\": \"average_precision_score_weighted_max\", \"run_name\": \"MaxAbsScaler, XGBoostClassifier\", \"run_properties\": \"copy=True\", \"primary_metric\": 0.83465164, \"best_metric\": 0.83465164}, {\"run_id\": \"AutoML_098d91f5-5f0b-48d4-9c6c-0119d314a56f_2\", \"run_number\": 37, \"metric\": null, \"status\": \"Completed\", \"run_type\": \"azureml.scriptrun\", \"training_percent\": \"100\", \"start_time\": \"2021-07-09T12:52:19.460472Z\", \"end_time\": \"2021-07-09T12:52:59.107256Z\", \"created_time\": \"2021-07-09T12:51:13.24211Z\", \"created_time_dt\": \"2021-07-09T12:51:13.24211Z\", \"duration\": \"0:01:45\", \"iteration\": \"2\", \"goal\": \"average_precision_score_weighted_max\", \"run_name\": \"MaxAbsScaler, ExtremeRandomTrees\", \"run_properties\": \"copy=True\", \"primary_metric\": 0.8147192, \"best_metric\": 0.83465164}, {\"run_id\": \"AutoML_098d91f5-5f0b-48d4-9c6c-0119d314a56f_3\", \"run_number\": 38, \"metric\": null, \"status\": \"Completed\", \"run_type\": \"azureml.scriptrun\", \"training_percent\": \"100\", \"start_time\": \"2021-07-09T12:53:10.703015Z\", \"end_time\": \"2021-07-09T12:53:52.363656Z\", \"created_time\": \"2021-07-09T12:53:00.464423Z\", \"created_time_dt\": \"2021-07-09T12:53:00.464423Z\", \"duration\": \"0:00:51\", \"iteration\": \"3\", \"goal\": \"average_precision_score_weighted_max\", \"run_name\": \"VotingEnsemble\", \"run_properties\": \"\\n    estimators=[('1', Pipeline(memory=None,\\n             steps=[('maxabsscaler', MaxAbsScaler(copy=True\", \"primary_metric\": 0.83932895, \"best_metric\": 0.83932895}, {\"run_id\": \"AutoML_098d91f5-5f0b-48d4-9c6c-0119d314a56f_4\", \"run_number\": 39, \"metric\": null, \"status\": \"Completed\", \"run_type\": \"azureml.scriptrun\", \"training_percent\": \"100\", \"start_time\": \"2021-07-09T12:54:04.26356Z\", \"end_time\": \"2021-07-09T12:54:46.940748Z\", \"created_time\": \"2021-07-09T12:53:00.514825Z\", \"created_time_dt\": \"2021-07-09T12:53:00.514825Z\", \"duration\": \"0:01:46\", \"iteration\": \"4\", \"goal\": \"average_precision_score_weighted_max\", \"run_name\": \"StackEnsemble\", \"run_properties\": \"\\n    base_learners=[('1', Pipeline(memory=None,\\n             steps=[('maxabsscaler', MaxAbsScaler(copy=True\", \"primary_metric\": 0.83796584, \"best_metric\": 0.83932895}], \"children_metrics\": {\"categories\": [0], \"series\": {\"recall_score_macro\": [{\"categories\": [\"0\", \"1\", \"2\", \"3\", \"4\"], \"mode\": \"markers\", \"name\": \"recall_score_macro\", \"stepped\": false, \"type\": \"scatter\", \"data\": [0.7048109374407706, 0.7244122399011227, 0.5866610128005177, 0.6897137922255806, 0.5963997522487353]}, {\"categories\": [\"0\", \"1\", \"2\", \"3\", \"4\"], \"mode\": \"lines\", \"name\": \"recall_score_macro_max\", \"stepped\": true, \"type\": \"scatter\", \"data\": [0.7048109374407706, 0.7244122399011227, 0.7244122399011227, 0.7244122399011227, 0.7244122399011227]}], \"accuracy\": [{\"categories\": [\"0\", \"1\", \"2\", \"3\", \"4\"], \"mode\": \"markers\", \"name\": \"accuracy\", \"stepped\": false, \"type\": \"scatter\", \"data\": [0.8046204620462047, 0.817821782178218, 0.7755775577557756, 0.8118811881188118, 0.7821782178217823]}, {\"categories\": [\"0\", \"1\", \"2\", \"3\", \"4\"], \"mode\": \"lines\", \"name\": \"accuracy_max\", \"stepped\": true, \"type\": \"scatter\", \"data\": [0.8046204620462047, 0.817821782178218, 0.817821782178218, 0.817821782178218, 0.817821782178218]}], \"average_precision_score_macro\": [{\"categories\": [\"0\", \"1\", \"2\", \"3\", \"4\"], \"mode\": \"markers\", \"name\": \"average_precision_score_macro\", \"stepped\": false, \"type\": \"scatter\", \"data\": [0.7408954168599537, 0.7642088435867631, 0.7406252394935245, 0.7728261643705401, 0.7696782615124252]}, {\"categories\": [\"0\", \"1\", \"2\", \"3\", \"4\"], \"mode\": \"lines\", \"name\": \"average_precision_score_macro_max\", \"stepped\": true, \"type\": \"scatter\", \"data\": [0.7408954168599537, 0.7642088435867631, 0.7642088435867631, 0.7728261643705401, 0.7728261643705401]}], \"average_precision_score_weighted\": [{\"categories\": [\"0\", \"1\", \"2\", \"3\", \"4\"], \"mode\": \"markers\", \"name\": \"average_precision_score_weighted\", \"stepped\": false, \"type\": \"scatter\", \"data\": [0.8115476668980515, 0.8346516424679685, 0.8147191996985326, 0.8393289460636391, 0.8379658449971018]}, {\"categories\": [\"0\", \"1\", \"2\", \"3\", \"4\"], \"mode\": \"lines\", \"name\": \"average_precision_score_weighted_max\", \"stepped\": true, \"type\": \"scatter\", \"data\": [0.8115476668980515, 0.8346516424679685, 0.8346516424679685, 0.8393289460636391, 0.8393289460636391]}], \"precision_score_micro\": [{\"categories\": [\"0\", \"1\", \"2\", \"3\", \"4\"], \"mode\": \"markers\", \"name\": \"precision_score_micro\", \"stepped\": false, \"type\": \"scatter\", \"data\": [0.8046204620462047, 0.817821782178218, 0.7755775577557756, 0.8118811881188118, 0.7821782178217823]}, {\"categories\": [\"0\", \"1\", \"2\", \"3\", \"4\"], \"mode\": \"lines\", \"name\": \"precision_score_micro_max\", \"stepped\": true, \"type\": \"scatter\", \"data\": [0.8046204620462047, 0.817821782178218, 0.817821782178218, 0.817821782178218, 0.817821782178218]}], \"precision_score_macro\": [{\"categories\": [\"0\", \"1\", \"2\", \"3\", \"4\"], \"mode\": \"markers\", \"name\": \"precision_score_macro\", \"stepped\": false, \"type\": \"scatter\", \"data\": [0.7509344988199403, 0.7731064748325279, 0.7626605400625569, 0.7782058355670646, 0.6457995239911968]}, {\"categories\": [\"0\", \"1\", \"2\", \"3\", \"4\"], \"mode\": \"lines\", \"name\": \"precision_score_macro_max\", \"stepped\": true, \"type\": \"scatter\", \"data\": [0.7509344988199403, 0.7731064748325279, 0.7731064748325279, 0.7782058355670646, 0.7782058355670646]}], \"matthews_correlation\": [{\"categories\": [\"0\", \"1\", \"2\", \"3\", \"4\"], \"mode\": \"markers\", \"name\": \"matthews_correlation\", \"stepped\": false, \"type\": \"scatter\", \"data\": [0.45334363968476854, 0.4947077197490218, 0.3015017271134379, 0.4591953252020786, 0.2632098015961683]}, {\"categories\": [\"0\", \"1\", \"2\", \"3\", \"4\"], \"mode\": \"lines\", \"name\": \"matthews_correlation_max\", \"stepped\": true, \"type\": \"scatter\", \"data\": [0.45334363968476854, 0.4947077197490218, 0.4947077197490218, 0.4947077197490218, 0.4947077197490218]}], \"f1_score_micro\": [{\"categories\": [\"0\", \"1\", \"2\", \"3\", \"4\"], \"mode\": \"markers\", \"name\": \"f1_score_micro\", \"stepped\": false, \"type\": \"scatter\", \"data\": [0.8046204620462047, 0.817821782178218, 0.7755775577557755, 0.8118811881188117, 0.7821782178217823]}, {\"categories\": [\"0\", \"1\", \"2\", \"3\", \"4\"], \"mode\": \"lines\", \"name\": \"f1_score_micro_max\", \"stepped\": true, \"type\": \"scatter\", \"data\": [0.8046204620462047, 0.817821782178218, 0.817821782178218, 0.817821782178218, 0.817821782178218]}], \"precision_score_weighted\": [{\"categories\": [\"0\", \"1\", \"2\", \"3\", \"4\"], \"mode\": \"markers\", \"name\": \"precision_score_weighted\", \"stepped\": false, \"type\": \"scatter\", \"data\": [0.7935154515455934, 0.8102369199036676, 0.7700547330727924, 0.8024598090203298, 0.7147904539983424]}, {\"categories\": [\"0\", \"1\", \"2\", \"3\", \"4\"], \"mode\": \"lines\", \"name\": \"precision_score_weighted_max\", \"stepped\": true, \"type\": \"scatter\", \"data\": [0.7935154515455934, 0.8102369199036676, 0.8102369199036676, 0.8102369199036676, 0.8102369199036676]}], \"AUC_macro\": [{\"categories\": [\"0\", \"1\", \"2\", \"3\", \"4\"], \"mode\": \"markers\", \"name\": \"AUC_macro\", \"stepped\": false, \"type\": \"scatter\", \"data\": [0.7823083736137212, 0.8114665767926139, 0.7821673482612481, 0.8154847208785206, 0.8149435158422532]}, {\"categories\": [\"0\", \"1\", \"2\", \"3\", \"4\"], \"mode\": \"lines\", \"name\": \"AUC_macro_max\", \"stepped\": true, \"type\": \"scatter\", \"data\": [0.7823083736137212, 0.8114665767926139, 0.8114665767926139, 0.8154847208785206, 0.8154847208785206]}], \"recall_score_micro\": [{\"categories\": [\"0\", \"1\", \"2\", \"3\", \"4\"], \"mode\": \"markers\", \"name\": \"recall_score_micro\", \"stepped\": false, \"type\": \"scatter\", \"data\": [0.8046204620462047, 0.817821782178218, 0.7755775577557756, 0.8118811881188118, 0.7821782178217823]}, {\"categories\": [\"0\", \"1\", \"2\", \"3\", \"4\"], \"mode\": \"lines\", \"name\": \"recall_score_micro_max\", \"stepped\": true, \"type\": \"scatter\", \"data\": [0.8046204620462047, 0.817821782178218, 0.817821782178218, 0.817821782178218, 0.817821782178218]}], \"weighted_accuracy\": [{\"categories\": [\"0\", \"1\", \"2\", \"3\", \"4\"], \"mode\": \"markers\", \"name\": \"weighted_accuracy\", \"stepped\": false, \"type\": \"scatter\", \"data\": [0.8667057481464049, 0.875961779051195, 0.8928416967254464, 0.8878629434586714, 0.8964941316878724]}, {\"categories\": [\"0\", \"1\", \"2\", \"3\", \"4\"], \"mode\": \"lines\", \"name\": \"weighted_accuracy_max\", \"stepped\": true, \"type\": \"scatter\", \"data\": [0.8667057481464049, 0.875961779051195, 0.8928416967254464, 0.8928416967254464, 0.8964941316878724]}], \"f1_score_macro\": [{\"categories\": [\"0\", \"1\", \"2\", \"3\", \"4\"], \"mode\": \"markers\", \"name\": \"f1_score_macro\", \"stepped\": false, \"type\": \"scatter\", \"data\": [0.7210283587849377, 0.7413113012318485, 0.5878498228938508, 0.7131050562301048, 0.5795795617566725]}, {\"categories\": [\"0\", \"1\", \"2\", \"3\", \"4\"], \"mode\": \"lines\", \"name\": \"f1_score_macro_max\", \"stepped\": true, \"type\": \"scatter\", \"data\": [0.7210283587849377, 0.7413113012318485, 0.7413113012318485, 0.7413113012318485, 0.7413113012318485]}], \"f1_score_weighted\": [{\"categories\": [\"0\", \"1\", \"2\", \"3\", \"4\"], \"mode\": \"markers\", \"name\": \"f1_score_weighted\", \"stepped\": false, \"type\": \"scatter\", \"data\": [0.7947352761429102, 0.809341107734748, 0.7223497153521045, 0.7944143520167689, 0.721621259083459]}, {\"categories\": [\"0\", \"1\", \"2\", \"3\", \"4\"], \"mode\": \"lines\", \"name\": \"f1_score_weighted_max\", \"stepped\": true, \"type\": \"scatter\", \"data\": [0.7947352761429102, 0.809341107734748, 0.809341107734748, 0.809341107734748, 0.809341107734748]}], \"log_loss\": [{\"categories\": [\"0\", \"1\", \"2\", \"3\", \"4\"], \"mode\": \"markers\", \"name\": \"log_loss\", \"stepped\": false, \"type\": \"scatter\", \"data\": [0.5620344024976557, 0.44307735502810924, 0.4844753278452043, 0.44300176316280165, 0.48544964351952746]}, {\"categories\": [\"0\", \"1\", \"2\", \"3\", \"4\"], \"mode\": \"lines\", \"name\": \"log_loss_min\", \"stepped\": true, \"type\": \"scatter\", \"data\": [0.5620344024976557, 0.44307735502810924, 0.44307735502810924, 0.44300176316280165, 0.44300176316280165]}], \"norm_macro_recall\": [{\"categories\": [\"0\", \"1\", \"2\", \"3\", \"4\"], \"mode\": \"markers\", \"name\": \"norm_macro_recall\", \"stepped\": false, \"type\": \"scatter\", \"data\": [0.4096218748815414, 0.4488244798022453, 0.17332202560103527, 0.37942758445116126, 0.19279950449747055]}, {\"categories\": [\"0\", \"1\", \"2\", \"3\", \"4\"], \"mode\": \"lines\", \"name\": \"norm_macro_recall_max\", \"stepped\": true, \"type\": \"scatter\", \"data\": [0.4096218748815414, 0.4488244798022453, 0.4488244798022453, 0.4488244798022453, 0.4488244798022453]}], \"balanced_accuracy\": [{\"categories\": [\"0\", \"1\", \"2\", \"3\", \"4\"], \"mode\": \"markers\", \"name\": \"balanced_accuracy\", \"stepped\": false, \"type\": \"scatter\", \"data\": [0.7048109374407706, 0.7244122399011227, 0.5866610128005177, 0.6897137922255806, 0.5963997522487353]}, {\"categories\": [\"0\", \"1\", \"2\", \"3\", \"4\"], \"mode\": \"lines\", \"name\": \"balanced_accuracy_max\", \"stepped\": true, \"type\": \"scatter\", \"data\": [0.7048109374407706, 0.7244122399011227, 0.7244122399011227, 0.7244122399011227, 0.7244122399011227]}], \"AUC_micro\": [{\"categories\": [\"0\", \"1\", \"2\", \"3\", \"4\"], \"mode\": \"markers\", \"name\": \"AUC_micro\", \"stepped\": false, \"type\": \"scatter\", \"data\": [0.8593235957259093, 0.8752331470770839, 0.8537947260072544, 0.8777936803581348, 0.8707342417410059]}, {\"categories\": [\"0\", \"1\", \"2\", \"3\", \"4\"], \"mode\": \"lines\", \"name\": \"AUC_micro_max\", \"stepped\": true, \"type\": \"scatter\", \"data\": [0.8593235957259093, 0.8752331470770839, 0.8752331470770839, 0.8777936803581348, 0.8777936803581348]}], \"average_precision_score_micro\": [{\"categories\": [\"0\", \"1\", \"2\", \"3\", \"4\"], \"mode\": \"markers\", \"name\": \"average_precision_score_micro\", \"stepped\": false, \"type\": \"scatter\", \"data\": [0.8412129346772151, 0.8634332790625899, 0.8434968377981816, 0.8678065275303496, 0.8626904352354506]}, {\"categories\": [\"0\", \"1\", \"2\", \"3\", \"4\"], \"mode\": \"lines\", \"name\": \"average_precision_score_micro_max\", \"stepped\": true, \"type\": \"scatter\", \"data\": [0.8412129346772151, 0.8634332790625899, 0.8634332790625899, 0.8678065275303496, 0.8678065275303496]}], \"recall_score_weighted\": [{\"categories\": [\"0\", \"1\", \"2\", \"3\", \"4\"], \"mode\": \"markers\", \"name\": \"recall_score_weighted\", \"stepped\": false, \"type\": \"scatter\", \"data\": [0.8046204620462047, 0.817821782178218, 0.7755775577557756, 0.8118811881188118, 0.7821782178217823]}, {\"categories\": [\"0\", \"1\", \"2\", \"3\", \"4\"], \"mode\": \"lines\", \"name\": \"recall_score_weighted_max\", \"stepped\": true, \"type\": \"scatter\", \"data\": [0.8046204620462047, 0.817821782178218, 0.817821782178218, 0.817821782178218, 0.817821782178218]}], \"AUC_weighted\": [{\"categories\": [\"0\", \"1\", \"2\", \"3\", \"4\"], \"mode\": \"markers\", \"name\": \"AUC_weighted\", \"stepped\": false, \"type\": \"scatter\", \"data\": [0.7823083736137212, 0.8114665767926139, 0.7821673482612481, 0.8154847208785206, 0.8149435158422532]}, {\"categories\": [\"0\", \"1\", \"2\", \"3\", \"4\"], \"mode\": \"lines\", \"name\": \"AUC_weighted_max\", \"stepped\": true, \"type\": \"scatter\", \"data\": [0.7823083736137212, 0.8114665767926139, 0.8114665767926139, 0.8154847208785206, 0.8154847208785206]}]}, \"metricName\": null, \"primaryMetricName\": \"average_precision_score_weighted\", \"showLegend\": false}, \"run_metrics\": [{\"name\": \"experiment_status\", \"run_id\": \"AutoML_098d91f5-5f0b-48d4-9c6c-0119d314a56f\", \"categories\": [0, 1, 2, 3, 4, 5, 6, 7, 8, 9, 10, 11, 12, 13], \"series\": [{\"data\": [\"DatasetEvaluation\", \"FeaturesGeneration\", \"DatasetFeaturization\", \"DatasetFeaturizationCompleted\", \"DatasetCrossValidationSplit\", \"ModelSelection\", \"BestRunExplainModel\", \"ModelExplanationDataSetSetup\", \"PickSurrogateModel\", \"EngineeredFeatureExplanations\", \"EngineeredFeatureExplanations\", \"RawFeaturesExplanations\", \"RawFeaturesExplanations\", \"BestRunExplainModel\"]}]}, {\"name\": \"experiment_status_description\", \"run_id\": \"AutoML_098d91f5-5f0b-48d4-9c6c-0119d314a56f\", \"categories\": [0, 1, 2, 3, 4, 5, 6, 7, 8, 9, 10, 11, 12, 13], \"series\": [{\"data\": [\"Gathering dataset statistics.\", \"Generating features for the dataset.\", \"Beginning to fit featurizers and featurize the dataset.\", \"Completed fit featurizers and featurizing the dataset.\", \"Generating individually featurized CV splits.\", \"Beginning model selection.\", \"Best run model explanations started\", \"Model explanations data setup completed\", \"Choosing LightGBM as the surrogate model for explanations\", \"Computation of engineered features started\", \"Computation of engineered features completed\", \"Computation of raw features started\", \"Computation of raw features completed\", \"Best run model explanations completed\"]}]}, {\"name\": \"AUC_weighted\", \"run_id\": \"AutoML_098d91f5-5f0b-48d4-9c6c-0119d314a56f\", \"categories\": [0], \"series\": [{\"data\": [0.8154847208785206]}]}, {\"name\": \"AUC_macro\", \"run_id\": \"AutoML_098d91f5-5f0b-48d4-9c6c-0119d314a56f\", \"categories\": [0], \"series\": [{\"data\": [0.8154847208785206]}]}, {\"name\": \"recall_score_macro\", \"run_id\": \"AutoML_098d91f5-5f0b-48d4-9c6c-0119d314a56f\", \"categories\": [0], \"series\": [{\"data\": [0.6897137922255806]}]}, {\"name\": \"log_loss\", \"run_id\": \"AutoML_098d91f5-5f0b-48d4-9c6c-0119d314a56f\", \"categories\": [0], \"series\": [{\"data\": [0.44300176316280165]}]}, {\"name\": \"f1_score_micro\", \"run_id\": \"AutoML_098d91f5-5f0b-48d4-9c6c-0119d314a56f\", \"categories\": [0], \"series\": [{\"data\": [0.8118811881188117]}]}, {\"name\": \"average_precision_score_weighted\", \"run_id\": \"AutoML_098d91f5-5f0b-48d4-9c6c-0119d314a56f\", \"categories\": [0], \"series\": [{\"data\": [0.8393289460636391]}]}, {\"name\": \"recall_score_weighted\", \"run_id\": \"AutoML_098d91f5-5f0b-48d4-9c6c-0119d314a56f\", \"categories\": [0], \"series\": [{\"data\": [0.8118811881188118]}]}, {\"name\": \"AUC_micro\", \"run_id\": \"AutoML_098d91f5-5f0b-48d4-9c6c-0119d314a56f\", \"categories\": [0], \"series\": [{\"data\": [0.8777936803581348]}]}, {\"name\": \"recall_score_micro\", \"run_id\": \"AutoML_098d91f5-5f0b-48d4-9c6c-0119d314a56f\", \"categories\": [0], \"series\": [{\"data\": [0.8118811881188118]}]}, {\"name\": \"precision_score_weighted\", \"run_id\": \"AutoML_098d91f5-5f0b-48d4-9c6c-0119d314a56f\", \"categories\": [0], \"series\": [{\"data\": [0.8024598090203298]}]}, {\"name\": \"norm_macro_recall\", \"run_id\": \"AutoML_098d91f5-5f0b-48d4-9c6c-0119d314a56f\", \"categories\": [0], \"series\": [{\"data\": [0.37942758445116126]}]}, {\"name\": \"accuracy\", \"run_id\": \"AutoML_098d91f5-5f0b-48d4-9c6c-0119d314a56f\", \"categories\": [0], \"series\": [{\"data\": [0.8118811881188118]}]}, {\"name\": \"weighted_accuracy\", \"run_id\": \"AutoML_098d91f5-5f0b-48d4-9c6c-0119d314a56f\", \"categories\": [0], \"series\": [{\"data\": [0.8878629434586714]}]}, {\"name\": \"precision_score_macro\", \"run_id\": \"AutoML_098d91f5-5f0b-48d4-9c6c-0119d314a56f\", \"categories\": [0], \"series\": [{\"data\": [0.7782058355670646]}]}, {\"name\": \"matthews_correlation\", \"run_id\": \"AutoML_098d91f5-5f0b-48d4-9c6c-0119d314a56f\", \"categories\": [0], \"series\": [{\"data\": [0.4591953252020786]}]}, {\"name\": \"precision_score_micro\", \"run_id\": \"AutoML_098d91f5-5f0b-48d4-9c6c-0119d314a56f\", \"categories\": [0], \"series\": [{\"data\": [0.8118811881188118]}]}, {\"name\": \"f1_score_macro\", \"run_id\": \"AutoML_098d91f5-5f0b-48d4-9c6c-0119d314a56f\", \"categories\": [0], \"series\": [{\"data\": [0.7131050562301048]}]}, {\"name\": \"f1_score_weighted\", \"run_id\": \"AutoML_098d91f5-5f0b-48d4-9c6c-0119d314a56f\", \"categories\": [0], \"series\": [{\"data\": [0.7944143520167689]}]}, {\"name\": \"average_precision_score_macro\", \"run_id\": \"AutoML_098d91f5-5f0b-48d4-9c6c-0119d314a56f\", \"categories\": [0], \"series\": [{\"data\": [0.7728261643705401]}]}, {\"name\": \"average_precision_score_micro\", \"run_id\": \"AutoML_098d91f5-5f0b-48d4-9c6c-0119d314a56f\", \"categories\": [0], \"series\": [{\"data\": [0.8678065275303496]}]}, {\"name\": \"balanced_accuracy\", \"run_id\": \"AutoML_098d91f5-5f0b-48d4-9c6c-0119d314a56f\", \"categories\": [0], \"series\": [{\"data\": [0.6897137922255806]}]}], \"run_logs\": \"\\nRun is completed.\", \"graph\": {}, \"widget_settings\": {\"childWidgetDisplay\": \"popup\", \"send_telemetry\": false, \"log_level\": \"INFO\", \"sdk_version\": \"1.30.0\"}, \"loading\": false}"
     },
     "metadata": {},
     "output_type": "display_data"
    }
   ],
   "source": [
    "from azureml.widgets import RunDetails\n",
    "RunDetails(remote_run).show()"
   ]
  },
  {
   "cell_type": "markdown",
   "metadata": {},
   "source": [
    "#### Explain model\n",
    "\n",
    "Automated ML models can be explained and visualized using the SDK Explainability library. "
   ]
  },
  {
   "cell_type": "markdown",
   "metadata": {},
   "source": [
    "## Analyze results\n",
    "\n",
    "### Retrieve the Best Model\n",
    "\n",
    "Below we select the best pipeline from our iterations. The `get_output` method returns the best run and the fitted model.  Overloads on `get_output` allow you to retrieve the best run and fitted model for *any* logged metric or for a particular *iteration*."
   ]
  },
  {
   "cell_type": "code",
   "execution_count": 18,
   "metadata": {},
   "outputs": [
    {
     "name": "stderr",
     "output_type": "stream",
     "text": [
      "WARNING:root:The version of the SDK does not match the version the model was trained on.\n",
      "WARNING:root:The consistency in the result may not be guaranteed.\n",
      "WARNING:root:Package:azureml-automl-core, training version:1.31.0, current version:1.30.0\n",
      "Package:azureml-automl-runtime, training version:1.31.0, current version:1.30.0\n",
      "Package:azureml-core, training version:1.31.0, current version:1.30.0\n",
      "Package:azureml-dataprep, training version:2.18.0, current version:2.15.1\n",
      "Package:azureml-dataprep-native, training version:36.0.0, current version:33.0.0\n",
      "Package:azureml-dataprep-rslex, training version:1.16.0, current version:1.13.0\n",
      "Package:azureml-dataset-runtime, training version:1.31.0, current version:1.30.0\n",
      "Package:azureml-defaults, training version:1.31.0, current version:1.30.0\n",
      "Package:azureml-interpret, training version:1.31.0, current version:1.30.0\n",
      "Package:azureml-mlflow, training version:1.31.0, current version:1.30.0\n",
      "Package:azureml-pipeline-core, training version:1.31.0, current version:1.30.0\n",
      "Package:azureml-telemetry, training version:1.31.0, current version:1.30.0\n",
      "Package:azureml-train-automl-client, training version:1.31.0, current version:1.30.0\n",
      "Package:azureml-train-automl-runtime, training version:1.31.0, current version:1.30.0\n",
      "WARNING:root:Please ensure the version of your local conda dependencies match the version on which your model was trained in order to properly retrieve your model.\n"
     ]
    },
    {
     "data": {
      "text/plain": [
       "PipelineWithYTransformations(Pipeline={'memory': None,\n",
       "                                       'steps': [('datatransformer',\n",
       "                                                  DataTransformer(enable_dnn=False, enable_feature_sweeping=True, feature_sweeping_config={}, feature_sweeping_timeout=86400, featurization_config=None, force_text_dnn=False, is_cross_validation=True, is_onnx_compatible=False, observer=None, task='classification', working_dir='/mn...\n",
       "), random_state=0, tree_method='auto'))], verbose=False)), ('2', Pipeline(memory=None, steps=[('maxabsscaler', MaxAbsScaler(copy=True)), ('extratreesclassifier', ExtraTreesClassifier(bootstrap=False, ccp_alpha=0.0, class_weight=None, criterion='entropy', max_depth=None, max_features='sqrt', max_leaf_nodes=None, max_samples=None, min_impurity_decrease=0.0, min_impurity_split=None, min_samples_leaf=0.01, min_samples_split=0.15052631578947367, min_weight_fraction_leaf=0.0, n_estimators=25, n_jobs=1, oob_score=False, random_state=None, verbose=0, warm_start=False))], verbose=False))], flatten_transform=None, weights=[0.5, 0.5]))],\n",
       "                                       'verbose': False},\n",
       "                             y_transformer={},\n",
       "                             y_transformer_name='LabelEncoder')"
      ]
     },
     "execution_count": 18,
     "metadata": {},
     "output_type": "execute_result"
    }
   ],
   "source": [
    "best_run, fitted_model = remote_run.get_output()\n",
    "fitted_model"
   ]
  },
  {
   "cell_type": "code",
   "execution_count": 19,
   "metadata": {},
   "outputs": [
    {
     "data": {
      "text/html": [
       "<div>\n",
       "<style scoped>\n",
       "    .dataframe tbody tr th:only-of-type {\n",
       "        vertical-align: middle;\n",
       "    }\n",
       "\n",
       "    .dataframe tbody tr th {\n",
       "        vertical-align: top;\n",
       "    }\n",
       "\n",
       "    .dataframe thead th {\n",
       "        text-align: right;\n",
       "    }\n",
       "</style>\n",
       "<table border=\"1\" class=\"dataframe\">\n",
       "  <thead>\n",
       "    <tr style=\"text-align: right;\">\n",
       "      <th></th>\n",
       "      <th>0</th>\n",
       "      <th>1</th>\n",
       "      <th>2</th>\n",
       "      <th>3</th>\n",
       "      <th>4</th>\n",
       "    </tr>\n",
       "  </thead>\n",
       "  <tbody>\n",
       "    <tr>\n",
       "      <th>norm_macro_recall</th>\n",
       "      <td>0.41</td>\n",
       "      <td>0.45</td>\n",
       "      <td>0.17</td>\n",
       "      <td>0.38</td>\n",
       "      <td>0.19</td>\n",
       "    </tr>\n",
       "    <tr>\n",
       "      <th>average_precision_score_macro</th>\n",
       "      <td>0.74</td>\n",
       "      <td>0.76</td>\n",
       "      <td>0.74</td>\n",
       "      <td>0.77</td>\n",
       "      <td>0.77</td>\n",
       "    </tr>\n",
       "    <tr>\n",
       "      <th>matthews_correlation</th>\n",
       "      <td>0.45</td>\n",
       "      <td>0.49</td>\n",
       "      <td>0.30</td>\n",
       "      <td>0.46</td>\n",
       "      <td>0.26</td>\n",
       "    </tr>\n",
       "    <tr>\n",
       "      <th>log_loss</th>\n",
       "      <td>0.56</td>\n",
       "      <td>0.44</td>\n",
       "      <td>0.48</td>\n",
       "      <td>0.44</td>\n",
       "      <td>0.49</td>\n",
       "    </tr>\n",
       "    <tr>\n",
       "      <th>precision_score_micro</th>\n",
       "      <td>0.80</td>\n",
       "      <td>0.82</td>\n",
       "      <td>0.78</td>\n",
       "      <td>0.81</td>\n",
       "      <td>0.78</td>\n",
       "    </tr>\n",
       "    <tr>\n",
       "      <th>f1_score_micro</th>\n",
       "      <td>0.80</td>\n",
       "      <td>0.82</td>\n",
       "      <td>0.78</td>\n",
       "      <td>0.81</td>\n",
       "      <td>0.78</td>\n",
       "    </tr>\n",
       "    <tr>\n",
       "      <th>average_precision_score_micro</th>\n",
       "      <td>0.84</td>\n",
       "      <td>0.86</td>\n",
       "      <td>0.84</td>\n",
       "      <td>0.87</td>\n",
       "      <td>0.86</td>\n",
       "    </tr>\n",
       "    <tr>\n",
       "      <th>balanced_accuracy</th>\n",
       "      <td>0.70</td>\n",
       "      <td>0.72</td>\n",
       "      <td>0.59</td>\n",
       "      <td>0.69</td>\n",
       "      <td>0.60</td>\n",
       "    </tr>\n",
       "    <tr>\n",
       "      <th>AUC_micro</th>\n",
       "      <td>0.86</td>\n",
       "      <td>0.88</td>\n",
       "      <td>0.85</td>\n",
       "      <td>0.88</td>\n",
       "      <td>0.87</td>\n",
       "    </tr>\n",
       "    <tr>\n",
       "      <th>recall_score_weighted</th>\n",
       "      <td>0.80</td>\n",
       "      <td>0.82</td>\n",
       "      <td>0.78</td>\n",
       "      <td>0.81</td>\n",
       "      <td>0.78</td>\n",
       "    </tr>\n",
       "    <tr>\n",
       "      <th>weighted_accuracy</th>\n",
       "      <td>0.87</td>\n",
       "      <td>0.88</td>\n",
       "      <td>0.89</td>\n",
       "      <td>0.89</td>\n",
       "      <td>0.90</td>\n",
       "    </tr>\n",
       "    <tr>\n",
       "      <th>precision_score_macro</th>\n",
       "      <td>0.75</td>\n",
       "      <td>0.77</td>\n",
       "      <td>0.76</td>\n",
       "      <td>0.78</td>\n",
       "      <td>0.65</td>\n",
       "    </tr>\n",
       "    <tr>\n",
       "      <th>AUC_weighted</th>\n",
       "      <td>0.78</td>\n",
       "      <td>0.81</td>\n",
       "      <td>0.78</td>\n",
       "      <td>0.82</td>\n",
       "      <td>0.81</td>\n",
       "    </tr>\n",
       "    <tr>\n",
       "      <th>recall_score_macro</th>\n",
       "      <td>0.70</td>\n",
       "      <td>0.72</td>\n",
       "      <td>0.59</td>\n",
       "      <td>0.69</td>\n",
       "      <td>0.60</td>\n",
       "    </tr>\n",
       "    <tr>\n",
       "      <th>precision_score_weighted</th>\n",
       "      <td>0.79</td>\n",
       "      <td>0.81</td>\n",
       "      <td>0.77</td>\n",
       "      <td>0.80</td>\n",
       "      <td>0.71</td>\n",
       "    </tr>\n",
       "    <tr>\n",
       "      <th>f1_score_macro</th>\n",
       "      <td>0.72</td>\n",
       "      <td>0.74</td>\n",
       "      <td>0.59</td>\n",
       "      <td>0.71</td>\n",
       "      <td>0.58</td>\n",
       "    </tr>\n",
       "    <tr>\n",
       "      <th>accuracy</th>\n",
       "      <td>0.80</td>\n",
       "      <td>0.82</td>\n",
       "      <td>0.78</td>\n",
       "      <td>0.81</td>\n",
       "      <td>0.78</td>\n",
       "    </tr>\n",
       "    <tr>\n",
       "      <th>average_precision_score_weighted</th>\n",
       "      <td>0.81</td>\n",
       "      <td>0.83</td>\n",
       "      <td>0.81</td>\n",
       "      <td>0.84</td>\n",
       "      <td>0.84</td>\n",
       "    </tr>\n",
       "    <tr>\n",
       "      <th>recall_score_micro</th>\n",
       "      <td>0.80</td>\n",
       "      <td>0.82</td>\n",
       "      <td>0.78</td>\n",
       "      <td>0.81</td>\n",
       "      <td>0.78</td>\n",
       "    </tr>\n",
       "    <tr>\n",
       "      <th>AUC_macro</th>\n",
       "      <td>0.78</td>\n",
       "      <td>0.81</td>\n",
       "      <td>0.78</td>\n",
       "      <td>0.82</td>\n",
       "      <td>0.81</td>\n",
       "    </tr>\n",
       "    <tr>\n",
       "      <th>f1_score_weighted</th>\n",
       "      <td>0.79</td>\n",
       "      <td>0.81</td>\n",
       "      <td>0.72</td>\n",
       "      <td>0.79</td>\n",
       "      <td>0.72</td>\n",
       "    </tr>\n",
       "  </tbody>\n",
       "</table>\n",
       "</div>"
      ],
      "text/plain": [
       "                                    0    1    2    3    4\n",
       "norm_macro_recall                0.41 0.45 0.17 0.38 0.19\n",
       "average_precision_score_macro    0.74 0.76 0.74 0.77 0.77\n",
       "matthews_correlation             0.45 0.49 0.30 0.46 0.26\n",
       "log_loss                         0.56 0.44 0.48 0.44 0.49\n",
       "precision_score_micro            0.80 0.82 0.78 0.81 0.78\n",
       "f1_score_micro                   0.80 0.82 0.78 0.81 0.78\n",
       "average_precision_score_micro    0.84 0.86 0.84 0.87 0.86\n",
       "balanced_accuracy                0.70 0.72 0.59 0.69 0.60\n",
       "AUC_micro                        0.86 0.88 0.85 0.88 0.87\n",
       "recall_score_weighted            0.80 0.82 0.78 0.81 0.78\n",
       "weighted_accuracy                0.87 0.88 0.89 0.89 0.90\n",
       "precision_score_macro            0.75 0.77 0.76 0.78 0.65\n",
       "AUC_weighted                     0.78 0.81 0.78 0.82 0.81\n",
       "recall_score_macro               0.70 0.72 0.59 0.69 0.60\n",
       "precision_score_weighted         0.79 0.81 0.77 0.80 0.71\n",
       "f1_score_macro                   0.72 0.74 0.59 0.71 0.58\n",
       "accuracy                         0.80 0.82 0.78 0.81 0.78\n",
       "average_precision_score_weighted 0.81 0.83 0.81 0.84 0.84\n",
       "recall_score_micro               0.80 0.82 0.78 0.81 0.78\n",
       "AUC_macro                        0.78 0.81 0.78 0.82 0.81\n",
       "f1_score_weighted                0.79 0.81 0.72 0.79 0.72"
      ]
     },
     "execution_count": 19,
     "metadata": {},
     "output_type": "execute_result"
    }
   ],
   "source": [
    "children = list(remote_run.get_children())\n",
    "metricslist = {}\n",
    "for run in children:\n",
    "    properties = run.get_properties()\n",
    "    metrics = {k: v for k, v in run.get_metrics().items() if isinstance(v, float)}\n",
    "    metricslist[int(properties['iteration'])] = metrics\n",
    "\n",
    "mylist = pd.DataFrame(metricslist).sort_index(1)\n",
    "mylist"
   ]
  },
  {
   "cell_type": "markdown",
   "metadata": {},
   "source": [
    "#### Print the properties of the model\n",
    "The fitted_model is a python object and you can read the different properties of the object.\n"
   ]
  },
  {
   "cell_type": "code",
   "execution_count": 20,
   "metadata": {},
   "outputs": [
    {
     "data": {
      "text/plain": [
       "[('datatransformer',\n",
       "  DataTransformer(\n",
       "      task='classification',\n",
       "      is_onnx_compatible=False,\n",
       "      enable_feature_sweeping=True,\n",
       "      enable_dnn=False,\n",
       "      force_text_dnn=False,\n",
       "      feature_sweeping_timeout=86400,\n",
       "      featurization_config=None,\n",
       "      is_cross_validation=True,\n",
       "      feature_sweeping_config={}\n",
       "  )),\n",
       " ('prefittedsoftvotingclassifier',\n",
       "  PreFittedSoftVotingClassifier(\n",
       "      estimators=[('1', Pipeline(memory=None,\n",
       "               steps=[('maxabsscaler', MaxAbsScaler(copy=True)),\n",
       "                      ('xgboostclassifier',\n",
       "                       XGBoostClassifier(n_jobs=1, problem_info=ProblemInfo(\n",
       "          dataset_samples=1515,\n",
       "          dataset_features=127,\n",
       "          dataset_classes=2,\n",
       "          dataset_num_categorical=0,\n",
       "          dataset_categoricals=None,\n",
       "          pipeline_categoricals=None,\n",
       "          dataset_y_std=None,\n",
       "          dataset_uid=None,\n",
       "          subsampling=False,\n",
       "          task='classific...\n",
       "          subsampling_schedule='hyperband_clip',\n",
       "          cost_mode_param=None,\n",
       "          iteration_timeout_mode=0,\n",
       "          iteration_timeout_param=None,\n",
       "          feature_column_names=None,\n",
       "          label_column_name=None,\n",
       "          weight_column_name=None,\n",
       "          cv_split_column_names=None,\n",
       "          enable_streaming=None,\n",
       "          timeseries_param_dict=None,\n",
       "          gpu_training_param_dict={'processing_unit_type': 'cpu'}\n",
       "      ), random_state=0, tree_method='auto'))],\n",
       "               verbose=False)), ('2', Pipeline(memory=None,\n",
       "               steps=[('maxabsscaler', MaxAbsScaler(copy=True)),\n",
       "                      ('extratreesclassifier',\n",
       "                       ExtraTreesClassifier(bootstrap=False, ccp_alpha=0.0,\n",
       "                                            class_weight=None, criterion='entropy',\n",
       "                                            max_depth=None, max_features='sqrt',\n",
       "                                            max_leaf_nodes=None, max_samples=None,\n",
       "                                            min_impurity_decrease=0.0,\n",
       "                                            min_impurity_split=None,\n",
       "                                            min_samples_leaf=0.01,\n",
       "                                            min_samples_split=0.15052631578947367,\n",
       "                                            min_weight_fraction_leaf=0.0,\n",
       "                                            n_estimators=25, n_jobs=1,\n",
       "                                            oob_score=False, random_state=None,\n",
       "                                            verbose=0, warm_start=False))],\n",
       "               verbose=False))],\n",
       "      weights=[0.5, 0.5],\n",
       "      flatten_transform=None,\n",
       "      classification_labels=array([1, 0])\n",
       "  ))]"
      ]
     },
     "execution_count": 20,
     "metadata": {},
     "output_type": "execute_result"
    }
   ],
   "source": [
    "fitted_model.steps"
   ]
  },
  {
   "cell_type": "code",
   "execution_count": 21,
   "metadata": {},
   "outputs": [
    {
     "name": "stdout",
     "output_type": "stream",
     "text": [
      "Pipeline(memory=None,\n",
      "         steps=[('datatransformer',\n",
      "                 DataTransformer(enable_dnn=False, enable_feature_sweeping=True, feature_sweeping_config={}, feature_sweeping_timeout=86400, featurization_config=None, force_text_dnn=False, is_cross_validation=True, is_onnx_compatible=False, observer=None, task='classification', working_dir='/mnt/batch/tasks/shared/LS_root/mount...\n",
      "), random_state=0, tree_method='auto'))], verbose=False)), ('2', Pipeline(memory=None, steps=[('maxabsscaler', MaxAbsScaler(copy=True)), ('extratreesclassifier', ExtraTreesClassifier(bootstrap=False, ccp_alpha=0.0, class_weight=None, criterion='entropy', max_depth=None, max_features='sqrt', max_leaf_nodes=None, max_samples=None, min_impurity_decrease=0.0, min_impurity_split=None, min_samples_leaf=0.01, min_samples_split=0.15052631578947367, min_weight_fraction_leaf=0.0, n_estimators=25, n_jobs=1, oob_score=False, random_state=None, verbose=0, warm_start=False))], verbose=False))], flatten_transform=None, weights=[0.5, 0.5]))],\n",
      "         verbose=False)\n",
      "Y_transformer(['LabelEncoder', LabelEncoder()])\n"
     ]
    }
   ],
   "source": [
    "print(fitted_model)"
   ]
  },
  {
   "cell_type": "code",
   "execution_count": 22,
   "metadata": {},
   "outputs": [
    {
     "data": {
      "text/plain": [
       "<bound method PipelineWithYTransformations.get_params of PipelineWithYTransformations(Pipeline={'memory': None,\n",
       "                                       'steps': [('datatransformer',\n",
       "                                                  DataTransformer(enable_dnn=False, enable_feature_sweeping=True, feature_sweeping_config={}, feature_sweeping_timeout=86400, featurization_config=None, force_text_dnn=False, is_cross_validation=True, is_onnx_compatible=False, observer=None, task='classification', working_dir='/mn...\n",
       "), random_state=0, tree_method='auto'))], verbose=False)), ('2', Pipeline(memory=None, steps=[('maxabsscaler', MaxAbsScaler(copy=True)), ('extratreesclassifier', ExtraTreesClassifier(bootstrap=False, ccp_alpha=0.0, class_weight=None, criterion='entropy', max_depth=None, max_features='sqrt', max_leaf_nodes=None, max_samples=None, min_impurity_decrease=0.0, min_impurity_split=None, min_samples_leaf=0.01, min_samples_split=0.15052631578947367, min_weight_fraction_leaf=0.0, n_estimators=25, n_jobs=1, oob_score=False, random_state=None, verbose=0, warm_start=False))], verbose=False))], flatten_transform=None, weights=[0.5, 0.5]))],\n",
       "                                       'verbose': False},\n",
       "                             y_transformer={},\n",
       "                             y_transformer_name='LabelEncoder')>"
      ]
     },
     "execution_count": 22,
     "metadata": {},
     "output_type": "execute_result"
    }
   ],
   "source": [
    "fitted_model.get_params"
   ]
  },
  {
   "cell_type": "code",
   "execution_count": 23,
   "metadata": {},
   "outputs": [
    {
     "name": "stdout",
     "output_type": "stream",
     "text": [
      "Metrics of the best model:\n",
      "\n",
      "- AUC_micro = 0.8777936803581348\n",
      "- balanced_accuracy = 0.6897137922255806\n",
      "- AUC_weighted = 0.8154847208785206\n",
      "- weighted_accuracy = 0.8878629434586714\n",
      "- recall_score_macro = 0.6897137922255806\n",
      "- precision_score_micro = 0.8118811881188118\n",
      "- average_precision_score_micro = 0.8678065275303496\n",
      "- average_precision_score_weighted = 0.8393289460636391\n",
      "- f1_score_micro = 0.8118811881188117\n",
      "- log_loss = 0.44300176316280165\n",
      "- AUC_macro = 0.8154847208785206\n",
      "- f1_score_weighted = 0.7944143520167689\n",
      "- recall_score_weighted = 0.8118811881188118\n",
      "- f1_score_macro = 0.7131050562301048\n",
      "- recall_score_micro = 0.8118811881188118\n",
      "- norm_macro_recall = 0.37942758445116126\n",
      "- accuracy = 0.8118811881188118\n",
      "- matthews_correlation = 0.4591953252020786\n",
      "- precision_score_weighted = 0.8024598090203298\n",
      "- average_precision_score_macro = 0.7728261643705401\n",
      "- precision_score_macro = 0.7782058355670646\n",
      "- accuracy_table = aml://artifactId/ExperimentRun/dcid.AutoML_098d91f5-5f0b-48d4-9c6c-0119d314a56f_3/accuracy_table\n",
      "- confusion_matrix = aml://artifactId/ExperimentRun/dcid.AutoML_098d91f5-5f0b-48d4-9c6c-0119d314a56f_3/confusion_matrix\n"
     ]
    }
   ],
   "source": [
    "print(\"Metrics of the best model:\\n\")\n",
    "best_run_metrics = best_run.get_metrics()\n",
    "for metric_name in best_run_metrics:\n",
    "    metric = best_run_metrics[metric_name]\n",
    "    print('-', metric_name, '=', metric)"
   ]
  },
  {
   "cell_type": "markdown",
   "metadata": {},
   "source": [
    "## Test the fitted model\n",
    "\n",
    "Now that the model is trained, split the data in the same way the data was split for training (The difference here is the data is being split locally) and then run the test data through the trained model to get the predicted values."
   ]
  },
  {
   "cell_type": "code",
   "execution_count": 24,
   "metadata": {},
   "outputs": [],
   "source": [
    "# convert the test data to dataframe\n",
    "X_test_df = validation_data.drop_columns(columns=[label_column_name]).to_pandas_dataframe()\n",
    "y_test_df = validation_data.keep_columns(columns=[label_column_name], validate=True).to_pandas_dataframe()"
   ]
  },
  {
   "cell_type": "code",
   "execution_count": 25,
   "metadata": {},
   "outputs": [
    {
     "data": {
      "text/plain": [
       "array(['Aucun accident', 'Aucun accident', 'Aucun accident',\n",
       "       'Aucun accident', 'Accident', 'Aucun accident', 'Aucun accident',\n",
       "       'Aucun accident', 'Aucun accident', 'Aucun accident',\n",
       "       'Aucun accident', 'Aucun accident', 'Aucun accident',\n",
       "       'Aucun accident', 'Aucun accident', 'Aucun accident',\n",
       "       'Aucun accident', 'Accident', 'Aucun accident', 'Aucun accident',\n",
       "       'Aucun accident', 'Aucun accident', 'Accident', 'Aucun accident',\n",
       "       'Aucun accident', 'Aucun accident', 'Aucun accident',\n",
       "       'Aucun accident', 'Aucun accident', 'Aucun accident',\n",
       "       'Aucun accident', 'Aucun accident', 'Aucun accident',\n",
       "       'Aucun accident', 'Aucun accident', 'Aucun accident',\n",
       "       'Aucun accident', 'Accident', 'Aucun accident', 'Aucun accident',\n",
       "       'Aucun accident', 'Aucun accident', 'Accident', 'Aucun accident',\n",
       "       'Aucun accident', 'Accident', 'Aucun accident', 'Aucun accident',\n",
       "       'Aucun accident', 'Accident', 'Aucun accident', 'Aucun accident',\n",
       "       'Accident', 'Aucun accident', 'Aucun accident', 'Aucun accident',\n",
       "       'Aucun accident', 'Aucun accident', 'Aucun accident', 'Accident',\n",
       "       'Aucun accident', 'Aucun accident', 'Aucun accident',\n",
       "       'Aucun accident', 'Aucun accident', 'Aucun accident',\n",
       "       'Aucun accident', 'Aucun accident', 'Aucun accident',\n",
       "       'Aucun accident', 'Accident', 'Aucun accident', 'Accident',\n",
       "       'Aucun accident', 'Aucun accident', 'Aucun accident',\n",
       "       'Aucun accident', 'Aucun accident', 'Aucun accident',\n",
       "       'Aucun accident', 'Aucun accident', 'Aucun accident',\n",
       "       'Aucun accident', 'Aucun accident', 'Aucun accident',\n",
       "       'Aucun accident', 'Aucun accident', 'Accident', 'Accident',\n",
       "       'Aucun accident', 'Aucun accident', 'Aucun accident', 'Accident',\n",
       "       'Aucun accident', 'Aucun accident', 'Accident', 'Aucun accident',\n",
       "       'Aucun accident', 'Accident', 'Accident', 'Accident',\n",
       "       'Aucun accident', 'Aucun accident', 'Aucun accident', 'Accident',\n",
       "       'Accident', 'Aucun accident', 'Aucun accident', 'Aucun accident',\n",
       "       'Accident', 'Aucun accident', 'Accident', 'Aucun accident',\n",
       "       'Aucun accident', 'Aucun accident', 'Aucun accident', 'Accident',\n",
       "       'Aucun accident', 'Accident', 'Aucun accident', 'Aucun accident',\n",
       "       'Accident', 'Aucun accident', 'Aucun accident', 'Aucun accident',\n",
       "       'Aucun accident', 'Aucun accident', 'Aucun accident',\n",
       "       'Aucun accident', 'Aucun accident', 'Aucun accident',\n",
       "       'Aucun accident', 'Aucun accident', 'Accident', 'Aucun accident',\n",
       "       'Aucun accident', 'Aucun accident', 'Aucun accident',\n",
       "       'Aucun accident', 'Aucun accident', 'Aucun accident',\n",
       "       'Aucun accident', 'Aucun accident', 'Accident', 'Accident',\n",
       "       'Aucun accident', 'Aucun accident', 'Aucun accident',\n",
       "       'Aucun accident', 'Aucun accident', 'Aucun accident',\n",
       "       'Aucun accident', 'Accident', 'Aucun accident', 'Aucun accident',\n",
       "       'Aucun accident', 'Aucun accident', 'Aucun accident',\n",
       "       'Aucun accident', 'Aucun accident', 'Aucun accident',\n",
       "       'Aucun accident', 'Aucun accident', 'Aucun accident',\n",
       "       'Aucun accident', 'Aucun accident', 'Aucun accident',\n",
       "       'Aucun accident', 'Aucun accident', 'Accident', 'Aucun accident',\n",
       "       'Aucun accident', 'Aucun accident', 'Aucun accident', 'Accident',\n",
       "       'Aucun accident', 'Aucun accident', 'Aucun accident',\n",
       "       'Aucun accident', 'Aucun accident', 'Aucun accident',\n",
       "       'Aucun accident', 'Aucun accident', 'Aucun accident',\n",
       "       'Aucun accident', 'Aucun accident', 'Aucun accident',\n",
       "       'Aucun accident', 'Aucun accident', 'Aucun accident',\n",
       "       'Aucun accident', 'Aucun accident', 'Aucun accident',\n",
       "       'Aucun accident', 'Accident', 'Aucun accident', 'Aucun accident',\n",
       "       'Aucun accident', 'Aucun accident', 'Accident', 'Aucun accident',\n",
       "       'Aucun accident', 'Aucun accident', 'Aucun accident',\n",
       "       'Aucun accident', 'Aucun accident', 'Aucun accident',\n",
       "       'Aucun accident', 'Aucun accident', 'Aucun accident',\n",
       "       'Aucun accident', 'Aucun accident', 'Aucun accident', 'Accident',\n",
       "       'Aucun accident', 'Aucun accident', 'Aucun accident',\n",
       "       'Aucun accident', 'Aucun accident', 'Aucun accident',\n",
       "       'Aucun accident', 'Aucun accident', 'Aucun accident',\n",
       "       'Aucun accident', 'Aucun accident', 'Accident', 'Aucun accident',\n",
       "       'Aucun accident', 'Aucun accident', 'Aucun accident',\n",
       "       'Aucun accident', 'Aucun accident', 'Aucun accident',\n",
       "       'Aucun accident', 'Accident', 'Accident', 'Accident',\n",
       "       'Aucun accident', 'Accident', 'Aucun accident', 'Accident',\n",
       "       'Accident', 'Aucun accident', 'Accident', 'Aucun accident',\n",
       "       'Aucun accident', 'Aucun accident', 'Aucun accident',\n",
       "       'Aucun accident', 'Aucun accident', 'Aucun accident',\n",
       "       'Aucun accident', 'Aucun accident', 'Accident', 'Aucun accident',\n",
       "       'Aucun accident', 'Aucun accident', 'Aucun accident',\n",
       "       'Aucun accident', 'Aucun accident', 'Aucun accident',\n",
       "       'Aucun accident', 'Aucun accident', 'Aucun accident', 'Accident',\n",
       "       'Aucun accident', 'Accident', 'Aucun accident', 'Aucun accident',\n",
       "       'Accident', 'Aucun accident', 'Aucun accident', 'Aucun accident',\n",
       "       'Aucun accident', 'Aucun accident', 'Aucun accident',\n",
       "       'Aucun accident', 'Aucun accident', 'Aucun accident',\n",
       "       'Aucun accident', 'Aucun accident', 'Aucun accident',\n",
       "       'Aucun accident', 'Aucun accident', 'Aucun accident',\n",
       "       'Aucun accident', 'Accident', 'Aucun accident', 'Aucun accident',\n",
       "       'Accident', 'Aucun accident', 'Aucun accident', 'Aucun accident',\n",
       "       'Aucun accident', 'Accident', 'Aucun accident', 'Accident',\n",
       "       'Aucun accident', 'Accident', 'Aucun accident', 'Aucun accident',\n",
       "       'Aucun accident', 'Aucun accident', 'Aucun accident',\n",
       "       'Aucun accident', 'Accident', 'Aucun accident', 'Aucun accident',\n",
       "       'Accident', 'Aucun accident', 'Aucun accident', 'Aucun accident',\n",
       "       'Aucun accident', 'Aucun accident', 'Aucun accident',\n",
       "       'Aucun accident', 'Aucun accident', 'Aucun accident',\n",
       "       'Aucun accident', 'Aucun accident', 'Aucun accident',\n",
       "       'Aucun accident', 'Aucun accident', 'Aucun accident',\n",
       "       'Aucun accident', 'Aucun accident', 'Accident', 'Aucun accident',\n",
       "       'Aucun accident', 'Aucun accident', 'Aucun accident',\n",
       "       'Aucun accident', 'Aucun accident', 'Aucun accident',\n",
       "       'Aucun accident', 'Aucun accident', 'Aucun accident',\n",
       "       'Aucun accident', 'Aucun accident', 'Aucun accident', 'Accident',\n",
       "       'Aucun accident', 'Aucun accident', 'Aucun accident',\n",
       "       'Aucun accident', 'Accident', 'Accident', 'Accident',\n",
       "       'Aucun accident', 'Aucun accident', 'Aucun accident',\n",
       "       'Aucun accident', 'Aucun accident', 'Aucun accident',\n",
       "       'Aucun accident', 'Accident', 'Aucun accident', 'Aucun accident',\n",
       "       'Aucun accident', 'Aucun accident', 'Aucun accident',\n",
       "       'Aucun accident', 'Aucun accident', 'Accident', 'Aucun accident',\n",
       "       'Aucun accident', 'Aucun accident', 'Aucun accident',\n",
       "       'Aucun accident', 'Aucun accident', 'Accident', 'Aucun accident',\n",
       "       'Aucun accident', 'Aucun accident', 'Aucun accident',\n",
       "       'Aucun accident', 'Aucun accident', 'Aucun accident',\n",
       "       'Aucun accident', 'Aucun accident', 'Aucun accident',\n",
       "       'Aucun accident', 'Aucun accident', 'Aucun accident',\n",
       "       'Aucun accident', 'Aucun accident', 'Aucun accident',\n",
       "       'Aucun accident', 'Accident', 'Aucun accident', 'Accident',\n",
       "       'Aucun accident', 'Aucun accident', 'Accident', 'Aucun accident',\n",
       "       'Aucun accident', 'Aucun accident', 'Aucun accident',\n",
       "       'Aucun accident', 'Aucun accident', 'Aucun accident',\n",
       "       'Aucun accident', 'Aucun accident', 'Accident', 'Aucun accident',\n",
       "       'Aucun accident', 'Aucun accident', 'Aucun accident',\n",
       "       'Aucun accident', 'Aucun accident', 'Aucun accident',\n",
       "       'Aucun accident', 'Aucun accident', 'Aucun accident',\n",
       "       'Aucun accident', 'Aucun accident', 'Aucun accident',\n",
       "       'Aucun accident', 'Aucun accident', 'Accident', 'Aucun accident',\n",
       "       'Aucun accident', 'Accident', 'Aucun accident', 'Accident',\n",
       "       'Aucun accident', 'Accident', 'Aucun accident', 'Aucun accident',\n",
       "       'Aucun accident', 'Aucun accident', 'Aucun accident',\n",
       "       'Aucun accident', 'Aucun accident', 'Aucun accident',\n",
       "       'Aucun accident', 'Aucun accident', 'Aucun accident',\n",
       "       'Aucun accident', 'Aucun accident', 'Accident', 'Aucun accident',\n",
       "       'Aucun accident', 'Aucun accident', 'Aucun accident',\n",
       "       'Aucun accident', 'Aucun accident', 'Aucun accident',\n",
       "       'Aucun accident', 'Aucun accident', 'Accident', 'Aucun accident',\n",
       "       'Aucun accident', 'Aucun accident', 'Accident', 'Aucun accident',\n",
       "       'Aucun accident', 'Aucun accident', 'Aucun accident',\n",
       "       'Aucun accident', 'Aucun accident', 'Aucun accident',\n",
       "       'Aucun accident', 'Aucun accident', 'Accident', 'Aucun accident',\n",
       "       'Accident', 'Aucun accident', 'Accident', 'Aucun accident',\n",
       "       'Accident', 'Aucun accident', 'Accident', 'Aucun accident',\n",
       "       'Aucun accident', 'Accident', 'Aucun accident', 'Aucun accident',\n",
       "       'Aucun accident', 'Aucun accident', 'Aucun accident',\n",
       "       'Aucun accident', 'Aucun accident', 'Aucun accident',\n",
       "       'Aucun accident', 'Aucun accident', 'Aucun accident',\n",
       "       'Aucun accident', 'Aucun accident', 'Aucun accident', 'Accident',\n",
       "       'Accident', 'Aucun accident', 'Aucun accident', 'Aucun accident',\n",
       "       'Accident', 'Aucun accident', 'Aucun accident', 'Aucun accident',\n",
       "       'Aucun accident', 'Accident', 'Aucun accident', 'Aucun accident',\n",
       "       'Aucun accident', 'Aucun accident', 'Aucun accident',\n",
       "       'Aucun accident', 'Aucun accident', 'Aucun accident',\n",
       "       'Aucun accident', 'Aucun accident', 'Accident', 'Accident',\n",
       "       'Aucun accident', 'Accident', 'Accident', 'Aucun accident',\n",
       "       'Aucun accident', 'Aucun accident', 'Aucun accident', 'Accident',\n",
       "       'Aucun accident', 'Aucun accident', 'Aucun accident',\n",
       "       'Aucun accident', 'Aucun accident', 'Aucun accident', 'Accident',\n",
       "       'Accident', 'Aucun accident', 'Accident', 'Aucun accident',\n",
       "       'Aucun accident', 'Aucun accident', 'Aucun accident',\n",
       "       'Aucun accident', 'Aucun accident', 'Aucun accident',\n",
       "       'Aucun accident', 'Accident', 'Accident', 'Aucun accident',\n",
       "       'Aucun accident', 'Aucun accident', 'Aucun accident', 'Accident',\n",
       "       'Aucun accident', 'Aucun accident', 'Aucun accident',\n",
       "       'Aucun accident', 'Aucun accident', 'Aucun accident',\n",
       "       'Aucun accident', 'Aucun accident', 'Aucun accident',\n",
       "       'Aucun accident', 'Aucun accident', 'Aucun accident',\n",
       "       'Aucun accident', 'Aucun accident', 'Aucun accident',\n",
       "       'Aucun accident', 'Accident', 'Aucun accident', 'Aucun accident',\n",
       "       'Aucun accident', 'Aucun accident', 'Aucun accident',\n",
       "       'Aucun accident', 'Aucun accident', 'Aucun accident',\n",
       "       'Aucun accident', 'Aucun accident', 'Aucun accident', 'Accident',\n",
       "       'Aucun accident', 'Aucun accident', 'Aucun accident',\n",
       "       'Aucun accident', 'Aucun accident', 'Aucun accident',\n",
       "       'Aucun accident', 'Aucun accident', 'Accident', 'Aucun accident',\n",
       "       'Aucun accident', 'Aucun accident', 'Aucun accident',\n",
       "       'Aucun accident', 'Aucun accident', 'Aucun accident',\n",
       "       'Aucun accident', 'Accident', 'Aucun accident', 'Accident',\n",
       "       'Aucun accident', 'Aucun accident', 'Aucun accident',\n",
       "       'Aucun accident', 'Accident', 'Aucun accident', 'Accident',\n",
       "       'Accident', 'Aucun accident', 'Aucun accident', 'Aucun accident',\n",
       "       'Aucun accident', 'Aucun accident', 'Aucun accident',\n",
       "       'Aucun accident', 'Aucun accident', 'Aucun accident',\n",
       "       'Aucun accident', 'Aucun accident', 'Accident', 'Aucun accident',\n",
       "       'Aucun accident', 'Aucun accident', 'Aucun accident', 'Accident',\n",
       "       'Aucun accident', 'Aucun accident', 'Aucun accident',\n",
       "       'Aucun accident', 'Aucun accident', 'Aucun accident',\n",
       "       'Aucun accident', 'Aucun accident', 'Accident', 'Accident',\n",
       "       'Aucun accident', 'Aucun accident', 'Accident', 'Aucun accident',\n",
       "       'Aucun accident', 'Aucun accident', 'Aucun accident',\n",
       "       'Aucun accident', 'Accident', 'Aucun accident', 'Aucun accident',\n",
       "       'Aucun accident', 'Accident', 'Aucun accident', 'Aucun accident'],\n",
       "      dtype=object)"
      ]
     },
     "execution_count": 25,
     "metadata": {},
     "output_type": "execute_result"
    }
   ],
   "source": [
    "# call the predict functions on the model\n",
    "y_pred = fitted_model.predict(X_test_df)\n",
    "y_pred"
   ]
  },
  {
   "cell_type": "markdown",
   "metadata": {},
   "source": [
    "### Calculate metrics for the prediction\n",
    "\n",
    "Now visualize the data on a scatter plot to show what our truth (actual) values are compared to the predicted values \n",
    "from the trained model that was returned."
   ]
  },
  {
   "cell_type": "code",
   "execution_count": 26,
   "metadata": {},
   "outputs": [
    {
     "data": {
      "image/png": "[encoded data removed]",
      "text/plain": [
       "<Figure size 432x288 with 2 Axes>"
      ]
     },
     "metadata": {
      "needs_background": "light"
     },
     "output_type": "display_data"
    }
   ],
   "source": [
    "from sklearn.metrics import confusion_matrix\n",
    "import numpy as np\n",
    "import itertools\n",
    "\n",
    "cf =confusion_matrix(y_test_df.values,y_pred)\n",
    "plt.imshow(cf,cmap=plt.cm.Blues,interpolation='nearest')\n",
    "plt.colorbar()\n",
    "plt.title('Confusion Matrix')\n",
    "plt.xlabel('Predicted')\n",
    "plt.ylabel('Actual')\n",
    "class_labels = ['False','True']\n",
    "tick_marks = np.arange(len(class_labels))\n",
    "plt.xticks(tick_marks,class_labels)\n",
    "plt.yticks([-0.5,0,1,1.5],['','False','True',''])\n",
    "\n",
    "# plotting text value inside cells\n",
    "thresh = cf.max() / 2.\n",
    "for i,j in itertools.product(range(cf.shape[0]),range(cf.shape[1])):\n",
    "    plt.text(j,i,format(cf[i,j],'d'),horizontalalignment='center',color='white' if cf[i,j] >thresh else 'black')\n",
    "plt.show()"
   ]
  },
  {
   "cell_type": "markdown",
   "metadata": {},
   "source": [
    "> You can open now the **Lab3 notebook**."
   ]
  },
  {
   "cell_type": "markdown",
   "metadata": {},
   "source": [
    "<img src=\"https://github.com/retkowsky/images/blob/master/Powered-by-MS-Azure-logo-v2.png?raw=true\" height=\"300\" width=\"300\">"
   ]
  },
  {
   "cell_type": "code",
   "execution_count": null,
   "metadata": {},
   "outputs": [],
   "source": []
  }
 ],
 "metadata": {
  "authors": [
   {
    "name": "ratanase"
   }
  ],
  "category": "tutorial",
  "compute": [
   "AML Compute"
  ],
  "datasets": [
   "Creditcard"
  ],
  "deployment": [
   "None"
  ],
  "exclude_from_index": false,
  "file_extension": ".py",
  "framework": [
   "None"
  ],
  "friendly_name": "Classification of credit card fraudulent transactions using Automated ML",
  "index_order": 5,
  "kernelspec": {
   "display_name": "Python 3.6 - AzureML",
   "language": "python",
   "name": "python3-azureml"
  },
  "language_info": {
   "codemirror_mode": {
    "name": "ipython",
    "version": 3
   },
   "file_extension": ".py",
   "mimetype": "text/x-python",
   "name": "python",
   "nbconvert_exporter": "python",
   "pygments_lexer": "ipython3",
   "version": "3.6.9"
  },
  "mimetype": "text/x-python",
  "name": "python",
  "nbconvert_exporter": "python",
  "pygments_lexer": "ipython3",
  "tags": [
   "remote_run",
   "AutomatedML"
  ],
  "task": "Classification",
  "version": "3.6.7"
 },
 "nbformat": 4,
 "nbformat_minor": 2
}
